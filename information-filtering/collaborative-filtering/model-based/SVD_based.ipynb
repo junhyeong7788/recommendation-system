{
 "cells": [
  {
   "cell_type": "markdown",
   "id": "9d865645-6d86-4bda-9048-7908068fb48c",
   "metadata": {
    "id": "9d865645-6d86-4bda-9048-7908068fb48c"
   },
   "source": [
    "# SVD를 이용한 추천시스템"
   ]
  },
  {
   "cell_type": "markdown",
   "id": "b6794fa6",
   "metadata": {},
   "source": [
    "- 💬 REMIND \n",
    "    - Memory 기반 추천 시스템\n",
    "        - 추천을 위한 모든 데이터를 메모리에 저장, 추천이 필요할 때마다 이를 사용\n",
    "        - 개별 사용자 데이터에 집중\n",
    "        - 대량의 데이터 처리 문제 (실시간 추천 불가)\n",
    "        - Cold start 문제 : 새로운 사용자, 아이템이 시스템에 추가될 때 추천이 불가한 문제\n",
    "    - Model 기반 추천 시스템\n",
    "        - 데이터로부터 추천을 위한 모델(기계학습)을 구성, 이 모델을 사용하여 추천\n",
    "        - 학습 과정에서 모델이 데이터의 특징을 배워서 데이터 정보를 압축\n",
    "        - 데이터의 pattern을 학습 (유사도 보다 **특징의 요소를 더 자세히 반영**)\n",
    "        - 데이터의 크기, 특징을 **동적** 으로 활용\n",
    "        - 데이터의 **잠재적 특성**을 파악하는 모델 (latent factor model)\n",
    "            - 장점\n",
    "                - 추천된 모델은 압축된 형태로 저장(저차원의 잠재적 특성으로 표현)\n",
    "                - 학습 과정 시간은 오래 걸리나 모델이 만들어진 후 예측 시간은 빠름\n",
    "                - 과적합 방지 : 데이터를 다양하게 학습, 새로운 추천 가능성 높음"
   ]
  },
  {
   "cell_type": "markdown",
   "id": "bab535e2",
   "metadata": {},
   "source": [
    "### 협업 필터링 - Model Based Approach\n",
    "- 협업 필터링 - model based approach의 단점\n",
    "    1. 데이터가 축적 X or Sparse 한 경우 성능이 낮음\n",
    "    2. 확장 가능성이 낮음 (데이터가 너무 많아지면, 속도가 저하됨)\n",
    "- 극복 방안\n",
    "    - `기계 학습 알고리즘을 통해, 사용자가 아직 평가하지 않은 아이템의 평점을 예측`\n",
    "    - 기본 아이디어 : 사용자의 선호도는 소수의 Hidden Factor로 결정 가능\n",
    "        - Hidden Factor (숨겨진 요인 , = Embedding) : 사용자와 아이템의 특성을 저차원 공간에서 표현하는 잠재 변수를 의미\n",
    "        - Embedding 이란? : 아이템과 유저에 대한 압축된 저차원 Hidden Factor\n",
    "    - `행렬 분해 (Matrix Factorization : MF)` : 이러한 잠재 요인을 추출하는 대표적인 기법\n",
    "        - 행렬 분해는 Loss Function과 제약 조건 (Constraints) 이 있는 최적화 문제로 공식화됨\n",
    "    - 비모수적 (Non-Parametric) 방법\n",
    "    - 딥러닝 (Deep Learning) 기반 방법\n",
    "    \n"
   ]
  },
  {
   "cell_type": "markdown",
   "id": "8df59950",
   "metadata": {},
   "source": [
    "#### Summary\n",
    "- Latent Factor Model\n",
    "    - 사용자 - item 특성 간 복잡한 관계를 학습\n",
    "    - 사용자 - item 행렬에서 사용자와 item을 factor(특징)로 나타내는 방법\n",
    "    - 사용자와 item을 같은 vector공간(저차원)에 표현\n",
    "    - Vector 공간 상에서의 거리로 유사도 평가\n",
    "- 알고리듬\n",
    "    - Matrix Factorization(행렬분해)\n",
    "        - SVD\n",
    "        - MF (명시적 평가값), NMF (비음수), IMF(암묵적 평가값), BPR (암묵적 평가값)\n",
    "    - Factorization Machines (평가값, 속성정보)\n",
    "    - Probabilistic Models : Clustering, Bayes Rules\n",
    "    - Regression methods"
   ]
  },
  {
   "cell_type": "markdown",
   "id": "ccfa64da",
   "metadata": {},
   "source": [
    "## Env"
   ]
  },
  {
   "cell_type": "code",
   "execution_count": 59,
   "id": "32c2c76c",
   "metadata": {},
   "outputs": [],
   "source": [
    "import scipy\n",
    "import numpy as np\n",
    "import pandas as pd"
   ]
  },
  {
   "cell_type": "markdown",
   "id": "jGSSB5dmauAX",
   "metadata": {
    "id": "jGSSB5dmauAX"
   },
   "source": [
    "## Data load"
   ]
  },
  {
   "cell_type": "code",
   "execution_count": 60,
   "id": "7290f6ac-eace-4280-be22-853b62315a78",
   "metadata": {
    "executionInfo": {
     "elapsed": 14,
     "status": "ok",
     "timestamp": 1728871220593,
     "user": {
      "displayName": "옥철영",
      "userId": "13462808953739637244"
     },
     "user_tz": -540
    },
    "id": "7290f6ac-eace-4280-be22-853b62315a78"
   },
   "outputs": [],
   "source": [
    "u_cols = ['user_id', 'age', 'sex', 'occupation', 'zip_code']\n",
    "users = pd.read_csv('/Users/jun/Library/Mobile Documents/com~apple~CloudDocs/Github/ai _recommendation _system/data/u.user', sep='|', names=u_cols, encoding='latin-1')"
   ]
  },
  {
   "cell_type": "code",
   "execution_count": 61,
   "id": "0d79691c-28ce-4050-b499-17a6f7febc9b",
   "metadata": {
    "colab": {
     "base_uri": "https://localhost:8080/",
     "height": 394
    },
    "executionInfo": {
     "elapsed": 14,
     "status": "ok",
     "timestamp": 1728871220593,
     "user": {
      "displayName": "옥철영",
      "userId": "13462808953739637244"
     },
     "user_tz": -540
    },
    "id": "0d79691c-28ce-4050-b499-17a6f7febc9b",
    "outputId": "6f592d4f-e705-43de-ef8e-15cbbcee5624"
   },
   "outputs": [
    {
     "data": {
      "text/html": [
       "<div>\n",
       "<style scoped>\n",
       "    .dataframe tbody tr th:only-of-type {\n",
       "        vertical-align: middle;\n",
       "    }\n",
       "\n",
       "    .dataframe tbody tr th {\n",
       "        vertical-align: top;\n",
       "    }\n",
       "\n",
       "    .dataframe thead th {\n",
       "        text-align: right;\n",
       "    }\n",
       "</style>\n",
       "<table border=\"1\" class=\"dataframe\">\n",
       "  <thead>\n",
       "    <tr style=\"text-align: right;\">\n",
       "      <th></th>\n",
       "      <th>movie_id</th>\n",
       "      <th>title</th>\n",
       "      <th>release date</th>\n",
       "      <th>video release date</th>\n",
       "      <th>IMDB URL</th>\n",
       "      <th>unknown</th>\n",
       "      <th>Action</th>\n",
       "      <th>Adventure</th>\n",
       "      <th>Animation</th>\n",
       "      <th>Children's</th>\n",
       "      <th>...</th>\n",
       "      <th>Fantasy</th>\n",
       "      <th>Film-Noir</th>\n",
       "      <th>Horror</th>\n",
       "      <th>Musical</th>\n",
       "      <th>Mystery</th>\n",
       "      <th>Romance</th>\n",
       "      <th>Sci-Fi</th>\n",
       "      <th>Thriller</th>\n",
       "      <th>War</th>\n",
       "      <th>Western</th>\n",
       "    </tr>\n",
       "  </thead>\n",
       "  <tbody>\n",
       "    <tr>\n",
       "      <th>0</th>\n",
       "      <td>1</td>\n",
       "      <td>Toy Story (1995)</td>\n",
       "      <td>01-Jan-1995</td>\n",
       "      <td>NaN</td>\n",
       "      <td>http://us.imdb.com/M/title-exact?Toy%20Story%2...</td>\n",
       "      <td>0</td>\n",
       "      <td>0</td>\n",
       "      <td>0</td>\n",
       "      <td>1</td>\n",
       "      <td>1</td>\n",
       "      <td>...</td>\n",
       "      <td>0</td>\n",
       "      <td>0</td>\n",
       "      <td>0</td>\n",
       "      <td>0</td>\n",
       "      <td>0</td>\n",
       "      <td>0</td>\n",
       "      <td>0</td>\n",
       "      <td>0</td>\n",
       "      <td>0</td>\n",
       "      <td>0</td>\n",
       "    </tr>\n",
       "    <tr>\n",
       "      <th>1</th>\n",
       "      <td>2</td>\n",
       "      <td>GoldenEye (1995)</td>\n",
       "      <td>01-Jan-1995</td>\n",
       "      <td>NaN</td>\n",
       "      <td>http://us.imdb.com/M/title-exact?GoldenEye%20(...</td>\n",
       "      <td>0</td>\n",
       "      <td>1</td>\n",
       "      <td>1</td>\n",
       "      <td>0</td>\n",
       "      <td>0</td>\n",
       "      <td>...</td>\n",
       "      <td>0</td>\n",
       "      <td>0</td>\n",
       "      <td>0</td>\n",
       "      <td>0</td>\n",
       "      <td>0</td>\n",
       "      <td>0</td>\n",
       "      <td>0</td>\n",
       "      <td>1</td>\n",
       "      <td>0</td>\n",
       "      <td>0</td>\n",
       "    </tr>\n",
       "    <tr>\n",
       "      <th>2</th>\n",
       "      <td>3</td>\n",
       "      <td>Four Rooms (1995)</td>\n",
       "      <td>01-Jan-1995</td>\n",
       "      <td>NaN</td>\n",
       "      <td>http://us.imdb.com/M/title-exact?Four%20Rooms%...</td>\n",
       "      <td>0</td>\n",
       "      <td>0</td>\n",
       "      <td>0</td>\n",
       "      <td>0</td>\n",
       "      <td>0</td>\n",
       "      <td>...</td>\n",
       "      <td>0</td>\n",
       "      <td>0</td>\n",
       "      <td>0</td>\n",
       "      <td>0</td>\n",
       "      <td>0</td>\n",
       "      <td>0</td>\n",
       "      <td>0</td>\n",
       "      <td>1</td>\n",
       "      <td>0</td>\n",
       "      <td>0</td>\n",
       "    </tr>\n",
       "    <tr>\n",
       "      <th>3</th>\n",
       "      <td>4</td>\n",
       "      <td>Get Shorty (1995)</td>\n",
       "      <td>01-Jan-1995</td>\n",
       "      <td>NaN</td>\n",
       "      <td>http://us.imdb.com/M/title-exact?Get%20Shorty%...</td>\n",
       "      <td>0</td>\n",
       "      <td>1</td>\n",
       "      <td>0</td>\n",
       "      <td>0</td>\n",
       "      <td>0</td>\n",
       "      <td>...</td>\n",
       "      <td>0</td>\n",
       "      <td>0</td>\n",
       "      <td>0</td>\n",
       "      <td>0</td>\n",
       "      <td>0</td>\n",
       "      <td>0</td>\n",
       "      <td>0</td>\n",
       "      <td>0</td>\n",
       "      <td>0</td>\n",
       "      <td>0</td>\n",
       "    </tr>\n",
       "    <tr>\n",
       "      <th>4</th>\n",
       "      <td>5</td>\n",
       "      <td>Copycat (1995)</td>\n",
       "      <td>01-Jan-1995</td>\n",
       "      <td>NaN</td>\n",
       "      <td>http://us.imdb.com/M/title-exact?Copycat%20(1995)</td>\n",
       "      <td>0</td>\n",
       "      <td>0</td>\n",
       "      <td>0</td>\n",
       "      <td>0</td>\n",
       "      <td>0</td>\n",
       "      <td>...</td>\n",
       "      <td>0</td>\n",
       "      <td>0</td>\n",
       "      <td>0</td>\n",
       "      <td>0</td>\n",
       "      <td>0</td>\n",
       "      <td>0</td>\n",
       "      <td>0</td>\n",
       "      <td>1</td>\n",
       "      <td>0</td>\n",
       "      <td>0</td>\n",
       "    </tr>\n",
       "  </tbody>\n",
       "</table>\n",
       "<p>5 rows × 24 columns</p>\n",
       "</div>"
      ],
      "text/plain": [
       "   movie_id              title release date  video release date  \\\n",
       "0         1   Toy Story (1995)  01-Jan-1995                 NaN   \n",
       "1         2   GoldenEye (1995)  01-Jan-1995                 NaN   \n",
       "2         3  Four Rooms (1995)  01-Jan-1995                 NaN   \n",
       "3         4  Get Shorty (1995)  01-Jan-1995                 NaN   \n",
       "4         5     Copycat (1995)  01-Jan-1995                 NaN   \n",
       "\n",
       "                                            IMDB URL  unknown  Action  \\\n",
       "0  http://us.imdb.com/M/title-exact?Toy%20Story%2...        0       0   \n",
       "1  http://us.imdb.com/M/title-exact?GoldenEye%20(...        0       1   \n",
       "2  http://us.imdb.com/M/title-exact?Four%20Rooms%...        0       0   \n",
       "3  http://us.imdb.com/M/title-exact?Get%20Shorty%...        0       1   \n",
       "4  http://us.imdb.com/M/title-exact?Copycat%20(1995)        0       0   \n",
       "\n",
       "   Adventure  Animation  Children's  ...  Fantasy  Film-Noir  Horror  Musical  \\\n",
       "0          0          1           1  ...        0          0       0        0   \n",
       "1          1          0           0  ...        0          0       0        0   \n",
       "2          0          0           0  ...        0          0       0        0   \n",
       "3          0          0           0  ...        0          0       0        0   \n",
       "4          0          0           0  ...        0          0       0        0   \n",
       "\n",
       "   Mystery  Romance  Sci-Fi  Thriller  War  Western  \n",
       "0        0        0       0         0    0        0  \n",
       "1        0        0       0         1    0        0  \n",
       "2        0        0       0         1    0        0  \n",
       "3        0        0       0         0    0        0  \n",
       "4        0        0       0         1    0        0  \n",
       "\n",
       "[5 rows x 24 columns]"
      ]
     },
     "execution_count": 61,
     "metadata": {},
     "output_type": "execute_result"
    }
   ],
   "source": [
    "i_cols = ['movie_id', 'title', 'release date', 'video release date', 'IMDB URL', 'unknown',\n",
    "          'Action', 'Adventure', 'Animation', 'Children\\'s', 'Comedy', 'Crime', 'Documentary',\n",
    "          'Drama', 'Fantasy', 'Film-Noir', 'Horror', 'Musical', 'Mystery', 'Romance', 'Sci-Fi',\n",
    "          'Thriller', 'War', 'Western']\n",
    "movies = pd.read_csv('/Users/jun/Library/Mobile Documents/com~apple~CloudDocs/Github/ai _recommendation _system/data/u.item', sep='|', names=i_cols, encoding='latin-1')\n",
    "movies.head()"
   ]
  },
  {
   "cell_type": "code",
   "execution_count": 62,
   "id": "105c4c67-11da-44e4-8786-d675de322878",
   "metadata": {
    "colab": {
     "base_uri": "https://localhost:8080/",
     "height": 206
    },
    "executionInfo": {
     "elapsed": 12,
     "status": "ok",
     "timestamp": 1728871220593,
     "user": {
      "displayName": "옥철영",
      "userId": "13462808953739637244"
     },
     "user_tz": -540
    },
    "id": "105c4c67-11da-44e4-8786-d675de322878",
    "outputId": "e1224c6b-53a4-469a-88cf-cd925f1e984b"
   },
   "outputs": [
    {
     "data": {
      "text/html": [
       "<div>\n",
       "<style scoped>\n",
       "    .dataframe tbody tr th:only-of-type {\n",
       "        vertical-align: middle;\n",
       "    }\n",
       "\n",
       "    .dataframe tbody tr th {\n",
       "        vertical-align: top;\n",
       "    }\n",
       "\n",
       "    .dataframe thead th {\n",
       "        text-align: right;\n",
       "    }\n",
       "</style>\n",
       "<table border=\"1\" class=\"dataframe\">\n",
       "  <thead>\n",
       "    <tr style=\"text-align: right;\">\n",
       "      <th></th>\n",
       "      <th>user_id</th>\n",
       "      <th>movie_id</th>\n",
       "      <th>rating</th>\n",
       "      <th>timestamp</th>\n",
       "    </tr>\n",
       "  </thead>\n",
       "  <tbody>\n",
       "    <tr>\n",
       "      <th>0</th>\n",
       "      <td>196</td>\n",
       "      <td>242</td>\n",
       "      <td>3</td>\n",
       "      <td>881250949</td>\n",
       "    </tr>\n",
       "    <tr>\n",
       "      <th>1</th>\n",
       "      <td>186</td>\n",
       "      <td>302</td>\n",
       "      <td>3</td>\n",
       "      <td>891717742</td>\n",
       "    </tr>\n",
       "    <tr>\n",
       "      <th>2</th>\n",
       "      <td>22</td>\n",
       "      <td>377</td>\n",
       "      <td>1</td>\n",
       "      <td>878887116</td>\n",
       "    </tr>\n",
       "    <tr>\n",
       "      <th>3</th>\n",
       "      <td>244</td>\n",
       "      <td>51</td>\n",
       "      <td>2</td>\n",
       "      <td>880606923</td>\n",
       "    </tr>\n",
       "    <tr>\n",
       "      <th>4</th>\n",
       "      <td>166</td>\n",
       "      <td>346</td>\n",
       "      <td>1</td>\n",
       "      <td>886397596</td>\n",
       "    </tr>\n",
       "  </tbody>\n",
       "</table>\n",
       "</div>"
      ],
      "text/plain": [
       "   user_id  movie_id  rating  timestamp\n",
       "0      196       242       3  881250949\n",
       "1      186       302       3  891717742\n",
       "2       22       377       1  878887116\n",
       "3      244        51       2  880606923\n",
       "4      166       346       1  886397596"
      ]
     },
     "execution_count": 62,
     "metadata": {},
     "output_type": "execute_result"
    }
   ],
   "source": [
    "r_cols = ['user_id', 'movie_id', 'rating', 'timestamp']\n",
    "ratings = pd.read_csv('/Users/jun/Library/Mobile Documents/com~apple~CloudDocs/Github/ai _recommendation _system/data/u.data', sep='\\t', names=r_cols, encoding='latin-1')\n",
    "ratings.head()"
   ]
  },
  {
   "cell_type": "code",
   "execution_count": 63,
   "id": "45aa423f-42ec-4e33-bb5a-b76fc0b964a9",
   "metadata": {
    "colab": {
     "base_uri": "https://localhost:8080/",
     "height": 206
    },
    "executionInfo": {
     "elapsed": 11,
     "status": "ok",
     "timestamp": 1728871220593,
     "user": {
      "displayName": "옥철영",
      "userId": "13462808953739637244"
     },
     "user_tz": -540
    },
    "id": "45aa423f-42ec-4e33-bb5a-b76fc0b964a9",
    "outputId": "7ef42aac-76e0-44a7-d535-ecb4ec74e8ec"
   },
   "outputs": [
    {
     "data": {
      "text/html": [
       "<div>\n",
       "<style scoped>\n",
       "    .dataframe tbody tr th:only-of-type {\n",
       "        vertical-align: middle;\n",
       "    }\n",
       "\n",
       "    .dataframe tbody tr th {\n",
       "        vertical-align: top;\n",
       "    }\n",
       "\n",
       "    .dataframe thead th {\n",
       "        text-align: right;\n",
       "    }\n",
       "</style>\n",
       "<table border=\"1\" class=\"dataframe\">\n",
       "  <thead>\n",
       "    <tr style=\"text-align: right;\">\n",
       "      <th></th>\n",
       "      <th>user_id</th>\n",
       "      <th>movie_id</th>\n",
       "      <th>rating</th>\n",
       "    </tr>\n",
       "  </thead>\n",
       "  <tbody>\n",
       "    <tr>\n",
       "      <th>0</th>\n",
       "      <td>196</td>\n",
       "      <td>242</td>\n",
       "      <td>3</td>\n",
       "    </tr>\n",
       "    <tr>\n",
       "      <th>1</th>\n",
       "      <td>186</td>\n",
       "      <td>302</td>\n",
       "      <td>3</td>\n",
       "    </tr>\n",
       "    <tr>\n",
       "      <th>2</th>\n",
       "      <td>22</td>\n",
       "      <td>377</td>\n",
       "      <td>1</td>\n",
       "    </tr>\n",
       "    <tr>\n",
       "      <th>3</th>\n",
       "      <td>244</td>\n",
       "      <td>51</td>\n",
       "      <td>2</td>\n",
       "    </tr>\n",
       "    <tr>\n",
       "      <th>4</th>\n",
       "      <td>166</td>\n",
       "      <td>346</td>\n",
       "      <td>1</td>\n",
       "    </tr>\n",
       "  </tbody>\n",
       "</table>\n",
       "</div>"
      ],
      "text/plain": [
       "   user_id  movie_id  rating\n",
       "0      196       242       3\n",
       "1      186       302       3\n",
       "2       22       377       1\n",
       "3      244        51       2\n",
       "4      166       346       1"
      ]
     },
     "execution_count": 63,
     "metadata": {},
     "output_type": "execute_result"
    }
   ],
   "source": [
    "# timestamp 제거\n",
    "ratings = ratings.drop('timestamp', axis=1)\n",
    "ratings.head()"
   ]
  },
  {
   "cell_type": "markdown",
   "id": "2ut8jHXR1pC5",
   "metadata": {
    "id": "2ut8jHXR1pC5"
   },
   "source": [
    "## sparse matrix 밀도 check\n",
    "- 추천시스템에서 사용자-아이템 평점 데이터의 특성을 이해하고, 이후 작업(모델 선택, 데이터 전처리 등)에 반영하기 위함\n",
    "    - 사용자-아이템 평점 데이터는 일반적으로 매우 희소한 데이터로 구성\n",
    "    - 밀도 (density) : 전체 데이터 중 실제로 값이 채워진 비율(관측된 평점 비율), 데이터의 희소성을 정량적으로 평가하는 지표\n",
    "    - 데이터가 희소하거나 밀도가 낮을 경우, 일부 추천 알고리즘은 성능이 저하 가능\n",
    "    "
   ]
  },
  {
   "cell_type": "code",
   "execution_count": 64,
   "id": "vnmA6Ill1nNc",
   "metadata": {
    "colab": {
     "base_uri": "https://localhost:8080/"
    },
    "executionInfo": {
     "elapsed": 11,
     "status": "ok",
     "timestamp": 1728871220593,
     "user": {
      "displayName": "옥철영",
      "userId": "13462808953739637244"
     },
     "user_tz": -540
    },
    "id": "vnmA6Ill1nNc",
    "outputId": "d092c36a-0ddd-4015-834e-b181ba2d584a"
   },
   "outputs": [],
   "source": [
    "rating_matrix = ratings.pivot(index='user_id', columns='movie_id', values='rating')"
   ]
  },
  {
   "cell_type": "code",
   "execution_count": 65,
   "id": "9f237677",
   "metadata": {},
   "outputs": [
    {
     "name": "stdout",
     "output_type": "stream",
     "text": [
      "사용자 수=943, 아이템 수=1682, 밀도=0.06\n"
     ]
    }
   ],
   "source": [
    "# 희소 정보\n",
    "user_num = len(rating_matrix.index)\n",
    "item_num = len(rating_matrix.columns)\n",
    "non_null_num = user_num*item_num - rating_matrix.isnull().sum().sum()\n",
    "non_null_ratio = non_null_num / (user_num*item_num)\n",
    "\n",
    "print(f'사용자 수={user_num}, 아이템 수={item_num}, 밀도={non_null_ratio:.2f}')"
   ]
  },
  {
   "cell_type": "markdown",
   "id": "216d5004",
   "metadata": {},
   "source": [
    "- 전체 가능한 $943 X 1682$ 조합 중 6% 만 평점이 채워져 있음을 의미"
   ]
  },
  {
   "cell_type": "markdown",
   "id": "aTDbF7Zr1urS",
   "metadata": {
    "id": "aTDbF7Zr1urS"
   },
   "source": [
    "## SVD\n",
    "- 행렬 분해 기반 모델 (SVD)은 희소한 데이터에서도 상대적으로 성능이 괜찮다."
   ]
  },
  {
   "cell_type": "code",
   "execution_count": 66,
   "id": "NRkHlNYP1xjN",
   "metadata": {
    "colab": {
     "base_uri": "https://localhost:8080/"
    },
    "executionInfo": {
     "elapsed": 522,
     "status": "ok",
     "timestamp": 1728871221106,
     "user": {
      "displayName": "옥철영",
      "userId": "13462808953739637244"
     },
     "user_tz": -540
    },
    "id": "NRkHlNYP1xjN",
    "outputId": "cebb5bbe-94d3-4a5d-f40b-7e22f23a5561"
   },
   "outputs": [
    {
     "name": "stdout",
     "output_type": "stream",
     "text": [
      "P: (943, 5), S: (5,), Qt: (5, 1682), pred_matrix: (943, 1682)\n",
      "Sigma Value:\n",
      " [158.2119 159.1536 217.8462 244.8363 640.6336]\n"
     ]
    }
   ],
   "source": [
    "# rating_matrix의 결손값은 0으로 채운다\n",
    "matrix = rating_matrix.fillna(0).to_numpy()\n",
    "\n",
    "# 인자 수 x 특이값 분해를 수행\n",
    "P, S, Qt = scipy.sparse.linalg.svds(matrix, k=5) # 상위 5개의 특이값과 이에 해당하는 벡터만 사용하여 차원 축소\n",
    "\n",
    "# 예측 평갓값 행렬 특이값 5개 만을 이용한 영화 평점\n",
    "pred_matrix = np.dot(np.dot(P, np.diag(S)), Qt)\n",
    "\n",
    "print(f\"P: {P.shape}, S: {S.shape}, Qt: {Qt.shape}, pred_matrix: {pred_matrix.shape}\")\n",
    "print('Sigma Value:\\n',np.round(S, 4))\n"
   ]
  },
  {
   "cell_type": "markdown",
   "id": "075261ab",
   "metadata": {},
   "source": [
    "- $P$ : 사용자-잠재요인 행렬 (943 X 5)\n",
    "- $S$ : 특이값 행렬 (5, )\n",
    "- $Q^T$ : 아이템-잠재요인 행렬 (5 X 1682)\n",
    "- $pred_matrix$ : 근사행렬을 재구성하여 **모든 사용자-아이템 조합에 대한 예측 평점 행렬**을 생성\n",
    "    - 실제로 관측되지 않은 0 평점 (결측값 포함)에 대해서도 예측값을 제공\n",
    "- 특이값 : $R$은 중요한 정보를 나타내며, 값이 클수록 해당 축이 데이터의 변동을 많이 설명"
   ]
  },
  {
   "cell_type": "markdown",
   "id": "e2ecc904",
   "metadata": {},
   "source": [
    "#### 💭 특이값 (Singular Value)의 의미\n",
    "1. 데이터의 변동을 설명\n",
    "    - 사용자 - 아이템 평점 행렬에서 가장 중요한 패턴(구조)를 나타냄\n",
    "    - 각 특이값은 데이터의 특정 차원(축)이 얼마나 많은 변동(정보)을 설명하는지 나타냄\n",
    "    - 값이 클수록 해당 차원이 데이터에서 더 중요한 정보를 포함하고 있다는 뜻\n",
    "2. 중요한 정보의 우선순위\n",
    "    - 특이값들은 내림차순 정렬, 가장 큰 특이값은 데이터의 변동을 가장 많이 설명하는 축을 나타냄"
   ]
  },
  {
   "cell_type": "markdown",
   "id": "a2420dd5-bbe9-4bfd-98d3-bce113c23664",
   "metadata": {
    "id": "a2420dd5-bbe9-4bfd-98d3-bce113c23664"
   },
   "source": [
    "## movie data 재구성: [movie_id, title]"
   ]
  },
  {
   "cell_type": "code",
   "execution_count": 67,
   "id": "c9a1ff49",
   "metadata": {},
   "outputs": [
    {
     "data": {
      "text/html": [
       "<div>\n",
       "<style scoped>\n",
       "    .dataframe tbody tr th:only-of-type {\n",
       "        vertical-align: middle;\n",
       "    }\n",
       "\n",
       "    .dataframe tbody tr th {\n",
       "        vertical-align: top;\n",
       "    }\n",
       "\n",
       "    .dataframe thead th {\n",
       "        text-align: right;\n",
       "    }\n",
       "</style>\n",
       "<table border=\"1\" class=\"dataframe\">\n",
       "  <thead>\n",
       "    <tr style=\"text-align: right;\">\n",
       "      <th></th>\n",
       "      <th>movie_id</th>\n",
       "      <th>title</th>\n",
       "      <th>release date</th>\n",
       "      <th>video release date</th>\n",
       "      <th>IMDB URL</th>\n",
       "      <th>unknown</th>\n",
       "      <th>Action</th>\n",
       "      <th>Adventure</th>\n",
       "      <th>Animation</th>\n",
       "      <th>Children's</th>\n",
       "      <th>...</th>\n",
       "      <th>Fantasy</th>\n",
       "      <th>Film-Noir</th>\n",
       "      <th>Horror</th>\n",
       "      <th>Musical</th>\n",
       "      <th>Mystery</th>\n",
       "      <th>Romance</th>\n",
       "      <th>Sci-Fi</th>\n",
       "      <th>Thriller</th>\n",
       "      <th>War</th>\n",
       "      <th>Western</th>\n",
       "    </tr>\n",
       "  </thead>\n",
       "  <tbody>\n",
       "    <tr>\n",
       "      <th>0</th>\n",
       "      <td>1</td>\n",
       "      <td>Toy Story (1995)</td>\n",
       "      <td>01-Jan-1995</td>\n",
       "      <td>NaN</td>\n",
       "      <td>http://us.imdb.com/M/title-exact?Toy%20Story%2...</td>\n",
       "      <td>0</td>\n",
       "      <td>0</td>\n",
       "      <td>0</td>\n",
       "      <td>1</td>\n",
       "      <td>1</td>\n",
       "      <td>...</td>\n",
       "      <td>0</td>\n",
       "      <td>0</td>\n",
       "      <td>0</td>\n",
       "      <td>0</td>\n",
       "      <td>0</td>\n",
       "      <td>0</td>\n",
       "      <td>0</td>\n",
       "      <td>0</td>\n",
       "      <td>0</td>\n",
       "      <td>0</td>\n",
       "    </tr>\n",
       "    <tr>\n",
       "      <th>1</th>\n",
       "      <td>2</td>\n",
       "      <td>GoldenEye (1995)</td>\n",
       "      <td>01-Jan-1995</td>\n",
       "      <td>NaN</td>\n",
       "      <td>http://us.imdb.com/M/title-exact?GoldenEye%20(...</td>\n",
       "      <td>0</td>\n",
       "      <td>1</td>\n",
       "      <td>1</td>\n",
       "      <td>0</td>\n",
       "      <td>0</td>\n",
       "      <td>...</td>\n",
       "      <td>0</td>\n",
       "      <td>0</td>\n",
       "      <td>0</td>\n",
       "      <td>0</td>\n",
       "      <td>0</td>\n",
       "      <td>0</td>\n",
       "      <td>0</td>\n",
       "      <td>1</td>\n",
       "      <td>0</td>\n",
       "      <td>0</td>\n",
       "    </tr>\n",
       "    <tr>\n",
       "      <th>2</th>\n",
       "      <td>3</td>\n",
       "      <td>Four Rooms (1995)</td>\n",
       "      <td>01-Jan-1995</td>\n",
       "      <td>NaN</td>\n",
       "      <td>http://us.imdb.com/M/title-exact?Four%20Rooms%...</td>\n",
       "      <td>0</td>\n",
       "      <td>0</td>\n",
       "      <td>0</td>\n",
       "      <td>0</td>\n",
       "      <td>0</td>\n",
       "      <td>...</td>\n",
       "      <td>0</td>\n",
       "      <td>0</td>\n",
       "      <td>0</td>\n",
       "      <td>0</td>\n",
       "      <td>0</td>\n",
       "      <td>0</td>\n",
       "      <td>0</td>\n",
       "      <td>1</td>\n",
       "      <td>0</td>\n",
       "      <td>0</td>\n",
       "    </tr>\n",
       "    <tr>\n",
       "      <th>3</th>\n",
       "      <td>4</td>\n",
       "      <td>Get Shorty (1995)</td>\n",
       "      <td>01-Jan-1995</td>\n",
       "      <td>NaN</td>\n",
       "      <td>http://us.imdb.com/M/title-exact?Get%20Shorty%...</td>\n",
       "      <td>0</td>\n",
       "      <td>1</td>\n",
       "      <td>0</td>\n",
       "      <td>0</td>\n",
       "      <td>0</td>\n",
       "      <td>...</td>\n",
       "      <td>0</td>\n",
       "      <td>0</td>\n",
       "      <td>0</td>\n",
       "      <td>0</td>\n",
       "      <td>0</td>\n",
       "      <td>0</td>\n",
       "      <td>0</td>\n",
       "      <td>0</td>\n",
       "      <td>0</td>\n",
       "      <td>0</td>\n",
       "    </tr>\n",
       "    <tr>\n",
       "      <th>4</th>\n",
       "      <td>5</td>\n",
       "      <td>Copycat (1995)</td>\n",
       "      <td>01-Jan-1995</td>\n",
       "      <td>NaN</td>\n",
       "      <td>http://us.imdb.com/M/title-exact?Copycat%20(1995)</td>\n",
       "      <td>0</td>\n",
       "      <td>0</td>\n",
       "      <td>0</td>\n",
       "      <td>0</td>\n",
       "      <td>0</td>\n",
       "      <td>...</td>\n",
       "      <td>0</td>\n",
       "      <td>0</td>\n",
       "      <td>0</td>\n",
       "      <td>0</td>\n",
       "      <td>0</td>\n",
       "      <td>0</td>\n",
       "      <td>0</td>\n",
       "      <td>1</td>\n",
       "      <td>0</td>\n",
       "      <td>0</td>\n",
       "    </tr>\n",
       "  </tbody>\n",
       "</table>\n",
       "<p>5 rows × 24 columns</p>\n",
       "</div>"
      ],
      "text/plain": [
       "   movie_id              title release date  video release date  \\\n",
       "0         1   Toy Story (1995)  01-Jan-1995                 NaN   \n",
       "1         2   GoldenEye (1995)  01-Jan-1995                 NaN   \n",
       "2         3  Four Rooms (1995)  01-Jan-1995                 NaN   \n",
       "3         4  Get Shorty (1995)  01-Jan-1995                 NaN   \n",
       "4         5     Copycat (1995)  01-Jan-1995                 NaN   \n",
       "\n",
       "                                            IMDB URL  unknown  Action  \\\n",
       "0  http://us.imdb.com/M/title-exact?Toy%20Story%2...        0       0   \n",
       "1  http://us.imdb.com/M/title-exact?GoldenEye%20(...        0       1   \n",
       "2  http://us.imdb.com/M/title-exact?Four%20Rooms%...        0       0   \n",
       "3  http://us.imdb.com/M/title-exact?Get%20Shorty%...        0       1   \n",
       "4  http://us.imdb.com/M/title-exact?Copycat%20(1995)        0       0   \n",
       "\n",
       "   Adventure  Animation  Children's  ...  Fantasy  Film-Noir  Horror  Musical  \\\n",
       "0          0          1           1  ...        0          0       0        0   \n",
       "1          1          0           0  ...        0          0       0        0   \n",
       "2          0          0           0  ...        0          0       0        0   \n",
       "3          0          0           0  ...        0          0       0        0   \n",
       "4          0          0           0  ...        0          0       0        0   \n",
       "\n",
       "   Mystery  Romance  Sci-Fi  Thriller  War  Western  \n",
       "0        0        0       0         0    0        0  \n",
       "1        0        0       0         1    0        0  \n",
       "2        0        0       0         1    0        0  \n",
       "3        0        0       0         0    0        0  \n",
       "4        0        0       0         1    0        0  \n",
       "\n",
       "[5 rows x 24 columns]"
      ]
     },
     "execution_count": 67,
     "metadata": {},
     "output_type": "execute_result"
    }
   ],
   "source": [
    "movies.head()"
   ]
  },
  {
   "cell_type": "code",
   "execution_count": 68,
   "id": "8df151df-e9f1-4348-b8b4-b62da642fc9d",
   "metadata": {
    "executionInfo": {
     "elapsed": 3,
     "status": "ok",
     "timestamp": 1728871221106,
     "user": {
      "displayName": "옥철영",
      "userId": "13462808953739637244"
     },
     "user_tz": -540
    },
    "id": "8df151df-e9f1-4348-b8b4-b62da642fc9d"
   },
   "outputs": [],
   "source": [
    "# movie ID와 title 빼고 다른 데이터 제거\n",
    "movies = movies[['movie_id', 'title']]"
   ]
  },
  {
   "cell_type": "markdown",
   "id": "0f2b5c6e-f0b1-4401-a260-ab2dee0ee01b",
   "metadata": {
    "id": "0f2b5c6e-f0b1-4401-a260-ab2dee0ee01b"
   },
   "source": [
    "## RMSE"
   ]
  },
  {
   "cell_type": "code",
   "execution_count": 69,
   "id": "4dc41903-9249-4b98-9058-6caf3db661d0",
   "metadata": {
    "executionInfo": {
     "elapsed": 3,
     "status": "ok",
     "timestamp": 1728871221106,
     "user": {
      "displayName": "옥철영",
      "userId": "13462808953739637244"
     },
     "user_tz": -540
    },
    "id": "4dc41903-9249-4b98-9058-6caf3db661d0"
   },
   "outputs": [],
   "source": [
    "# 정확도(RMSE)를 계산하는 함수\n",
    "def RMSE(y_true, y_pred):\n",
    "    return np.sqrt(np.mean((np.array(y_true) - np.array(y_pred))**2))"
   ]
  },
  {
   "cell_type": "markdown",
   "id": "15ff023d-0c4e-426a-bc92-6e41e5741637",
   "metadata": {
    "id": "15ff023d-0c4e-426a-bc92-6e41e5741637"
   },
   "source": [
    "## 모델별로 테스트데이터의 예측 및 실데이터 간의 정확도 계산"
   ]
  },
  {
   "cell_type": "code",
   "execution_count": 70,
   "id": "bd3bcd9b-90eb-453b-9cf0-24e06ac9b5bd",
   "metadata": {
    "executionInfo": {
     "elapsed": 3,
     "status": "ok",
     "timestamp": 1728871221106,
     "user": {
      "displayName": "옥철영",
      "userId": "13462808953739637244"
     },
     "user_tz": -540
    },
    "id": "bd3bcd9b-90eb-453b-9cf0-24e06ac9b5bd"
   },
   "outputs": [],
   "source": [
    "# 모델별 RMSE를 계산하는 함수\n",
    "def score(model):\n",
    "    id_pairs = zip(x_test['user_id'], x_test['movie_id'])\n",
    "    y_pred = np.array([model(user, movie) for (user, movie) in id_pairs])\n",
    "    y_true = np.array(x_test['rating'])\n",
    "    return RMSE(y_true, y_pred)"
   ]
  },
  {
   "cell_type": "markdown",
   "id": "7016dd4b-bcae-4fbf-b84c-f71454697fa4",
   "metadata": {
    "id": "7016dd4b-bcae-4fbf-b84c-f71454697fa4"
   },
   "source": [
    "## train, test set 분리\n",
    "- user_id를 기준으로 일정 비율(stratify=true)로 학습, 테스트 데이터 분리"
   ]
  },
  {
   "cell_type": "code",
   "execution_count": 71,
   "id": "27dabd54-1dff-400b-9db6-bcffd2101318",
   "metadata": {
    "executionInfo": {
     "elapsed": 2447,
     "status": "ok",
     "timestamp": 1728871233024,
     "user": {
      "displayName": "옥철영",
      "userId": "13462808953739637244"
     },
     "user_tz": -540
    },
    "id": "27dabd54-1dff-400b-9db6-bcffd2101318"
   },
   "outputs": [],
   "source": [
    "from sklearn.model_selection import train_test_split\n",
    "x = ratings.copy()\n",
    "y = ratings['user_id']\n",
    "x_train, x_test, y_train, y_test = train_test_split(x, y, test_size=0.25, random_state= 42, stratify=y)"
   ]
  },
  {
   "cell_type": "markdown",
   "id": "75b85bb6-de5a-432d-bfb0-ecda76d3c143",
   "metadata": {
    "id": "75b85bb6-de5a-432d-bfb0-ecda76d3c143"
   },
   "source": [
    "## 학습데이터(사용자 X 영화 X 평점) matrix"
   ]
  },
  {
   "cell_type": "code",
   "execution_count": 72,
   "id": "33425f70-2502-40b2-91ec-d3e9cd2e9bdb",
   "metadata": {
    "colab": {
     "base_uri": "https://localhost:8080/",
     "height": 267
    },
    "executionInfo": {
     "elapsed": 538,
     "status": "ok",
     "timestamp": 1728871235153,
     "user": {
      "displayName": "옥철영",
      "userId": "13462808953739637244"
     },
     "user_tz": -540
    },
    "id": "33425f70-2502-40b2-91ec-d3e9cd2e9bdb",
    "outputId": "f1b3b383-cc72-4506-fe42-2c63be2cc9b7"
   },
   "outputs": [
    {
     "data": {
      "text/html": [
       "<div>\n",
       "<style scoped>\n",
       "    .dataframe tbody tr th:only-of-type {\n",
       "        vertical-align: middle;\n",
       "    }\n",
       "\n",
       "    .dataframe tbody tr th {\n",
       "        vertical-align: top;\n",
       "    }\n",
       "\n",
       "    .dataframe thead th {\n",
       "        text-align: right;\n",
       "    }\n",
       "</style>\n",
       "<table border=\"1\" class=\"dataframe\">\n",
       "  <thead>\n",
       "    <tr style=\"text-align: right;\">\n",
       "      <th>movie_id</th>\n",
       "      <th>1</th>\n",
       "      <th>2</th>\n",
       "      <th>3</th>\n",
       "      <th>4</th>\n",
       "      <th>5</th>\n",
       "      <th>6</th>\n",
       "      <th>7</th>\n",
       "      <th>8</th>\n",
       "      <th>9</th>\n",
       "      <th>10</th>\n",
       "      <th>...</th>\n",
       "      <th>1671</th>\n",
       "      <th>1672</th>\n",
       "      <th>1673</th>\n",
       "      <th>1674</th>\n",
       "      <th>1676</th>\n",
       "      <th>1677</th>\n",
       "      <th>1679</th>\n",
       "      <th>1680</th>\n",
       "      <th>1681</th>\n",
       "      <th>1682</th>\n",
       "    </tr>\n",
       "    <tr>\n",
       "      <th>user_id</th>\n",
       "      <th></th>\n",
       "      <th></th>\n",
       "      <th></th>\n",
       "      <th></th>\n",
       "      <th></th>\n",
       "      <th></th>\n",
       "      <th></th>\n",
       "      <th></th>\n",
       "      <th></th>\n",
       "      <th></th>\n",
       "      <th></th>\n",
       "      <th></th>\n",
       "      <th></th>\n",
       "      <th></th>\n",
       "      <th></th>\n",
       "      <th></th>\n",
       "      <th></th>\n",
       "      <th></th>\n",
       "      <th></th>\n",
       "      <th></th>\n",
       "      <th></th>\n",
       "    </tr>\n",
       "  </thead>\n",
       "  <tbody>\n",
       "    <tr>\n",
       "      <th>1</th>\n",
       "      <td>5.0</td>\n",
       "      <td>3.0</td>\n",
       "      <td>4.0</td>\n",
       "      <td>NaN</td>\n",
       "      <td>3.0</td>\n",
       "      <td>5.0</td>\n",
       "      <td>4.0</td>\n",
       "      <td>1.0</td>\n",
       "      <td>5.0</td>\n",
       "      <td>3.0</td>\n",
       "      <td>...</td>\n",
       "      <td>NaN</td>\n",
       "      <td>NaN</td>\n",
       "      <td>NaN</td>\n",
       "      <td>NaN</td>\n",
       "      <td>NaN</td>\n",
       "      <td>NaN</td>\n",
       "      <td>NaN</td>\n",
       "      <td>NaN</td>\n",
       "      <td>NaN</td>\n",
       "      <td>NaN</td>\n",
       "    </tr>\n",
       "    <tr>\n",
       "      <th>2</th>\n",
       "      <td>4.0</td>\n",
       "      <td>NaN</td>\n",
       "      <td>NaN</td>\n",
       "      <td>NaN</td>\n",
       "      <td>NaN</td>\n",
       "      <td>NaN</td>\n",
       "      <td>NaN</td>\n",
       "      <td>NaN</td>\n",
       "      <td>NaN</td>\n",
       "      <td>2.0</td>\n",
       "      <td>...</td>\n",
       "      <td>NaN</td>\n",
       "      <td>NaN</td>\n",
       "      <td>NaN</td>\n",
       "      <td>NaN</td>\n",
       "      <td>NaN</td>\n",
       "      <td>NaN</td>\n",
       "      <td>NaN</td>\n",
       "      <td>NaN</td>\n",
       "      <td>NaN</td>\n",
       "      <td>NaN</td>\n",
       "    </tr>\n",
       "    <tr>\n",
       "      <th>3</th>\n",
       "      <td>NaN</td>\n",
       "      <td>NaN</td>\n",
       "      <td>NaN</td>\n",
       "      <td>NaN</td>\n",
       "      <td>NaN</td>\n",
       "      <td>NaN</td>\n",
       "      <td>NaN</td>\n",
       "      <td>NaN</td>\n",
       "      <td>NaN</td>\n",
       "      <td>NaN</td>\n",
       "      <td>...</td>\n",
       "      <td>NaN</td>\n",
       "      <td>NaN</td>\n",
       "      <td>NaN</td>\n",
       "      <td>NaN</td>\n",
       "      <td>NaN</td>\n",
       "      <td>NaN</td>\n",
       "      <td>NaN</td>\n",
       "      <td>NaN</td>\n",
       "      <td>NaN</td>\n",
       "      <td>NaN</td>\n",
       "    </tr>\n",
       "    <tr>\n",
       "      <th>4</th>\n",
       "      <td>NaN</td>\n",
       "      <td>NaN</td>\n",
       "      <td>NaN</td>\n",
       "      <td>NaN</td>\n",
       "      <td>NaN</td>\n",
       "      <td>NaN</td>\n",
       "      <td>NaN</td>\n",
       "      <td>NaN</td>\n",
       "      <td>NaN</td>\n",
       "      <td>NaN</td>\n",
       "      <td>...</td>\n",
       "      <td>NaN</td>\n",
       "      <td>NaN</td>\n",
       "      <td>NaN</td>\n",
       "      <td>NaN</td>\n",
       "      <td>NaN</td>\n",
       "      <td>NaN</td>\n",
       "      <td>NaN</td>\n",
       "      <td>NaN</td>\n",
       "      <td>NaN</td>\n",
       "      <td>NaN</td>\n",
       "    </tr>\n",
       "    <tr>\n",
       "      <th>5</th>\n",
       "      <td>4.0</td>\n",
       "      <td>3.0</td>\n",
       "      <td>NaN</td>\n",
       "      <td>NaN</td>\n",
       "      <td>NaN</td>\n",
       "      <td>NaN</td>\n",
       "      <td>NaN</td>\n",
       "      <td>NaN</td>\n",
       "      <td>NaN</td>\n",
       "      <td>NaN</td>\n",
       "      <td>...</td>\n",
       "      <td>NaN</td>\n",
       "      <td>NaN</td>\n",
       "      <td>NaN</td>\n",
       "      <td>NaN</td>\n",
       "      <td>NaN</td>\n",
       "      <td>NaN</td>\n",
       "      <td>NaN</td>\n",
       "      <td>NaN</td>\n",
       "      <td>NaN</td>\n",
       "      <td>NaN</td>\n",
       "    </tr>\n",
       "  </tbody>\n",
       "</table>\n",
       "<p>5 rows × 1641 columns</p>\n",
       "</div>"
      ],
      "text/plain": [
       "movie_id  1     2     3     4     5     6     7     8     9     10    ...  \\\n",
       "user_id                                                               ...   \n",
       "1          5.0   3.0   4.0   NaN   3.0   5.0   4.0   1.0   5.0   3.0  ...   \n",
       "2          4.0   NaN   NaN   NaN   NaN   NaN   NaN   NaN   NaN   2.0  ...   \n",
       "3          NaN   NaN   NaN   NaN   NaN   NaN   NaN   NaN   NaN   NaN  ...   \n",
       "4          NaN   NaN   NaN   NaN   NaN   NaN   NaN   NaN   NaN   NaN  ...   \n",
       "5          4.0   3.0   NaN   NaN   NaN   NaN   NaN   NaN   NaN   NaN  ...   \n",
       "\n",
       "movie_id  1671  1672  1673  1674  1676  1677  1679  1680  1681  1682  \n",
       "user_id                                                               \n",
       "1          NaN   NaN   NaN   NaN   NaN   NaN   NaN   NaN   NaN   NaN  \n",
       "2          NaN   NaN   NaN   NaN   NaN   NaN   NaN   NaN   NaN   NaN  \n",
       "3          NaN   NaN   NaN   NaN   NaN   NaN   NaN   NaN   NaN   NaN  \n",
       "4          NaN   NaN   NaN   NaN   NaN   NaN   NaN   NaN   NaN   NaN  \n",
       "5          NaN   NaN   NaN   NaN   NaN   NaN   NaN   NaN   NaN   NaN  \n",
       "\n",
       "[5 rows x 1641 columns]"
      ]
     },
     "execution_count": 72,
     "metadata": {},
     "output_type": "execute_result"
    }
   ],
   "source": [
    "# train 데이터로 Full matrix 구하기\n",
    "rating_matrix = x_train.pivot(index='user_id', columns='movie_id', values='rating')\n",
    "rating_matrix.head()"
   ]
  },
  {
   "cell_type": "markdown",
   "id": "536ba1dd-7051-452b-81ae-cb5f7d12b8da",
   "metadata": {
    "id": "536ba1dd-7051-452b-81ae-cb5f7d12b8da"
   },
   "source": [
    "## SVD 추천 함수\n"
   ]
  },
  {
   "cell_type": "code",
   "execution_count": 73,
   "id": "jdfyY-MFkeQG",
   "metadata": {
    "executionInfo": {
     "elapsed": 637,
     "status": "ok",
     "timestamp": 1728871258413,
     "user": {
      "displayName": "옥철영",
      "userId": "13462808953739637244"
     },
     "user_tz": -540
    },
    "id": "jdfyY-MFkeQG"
   },
   "outputs": [],
   "source": [
    "def SVD(user_id, movie_id):\n",
    "    if movie_id in svd_rating_matrix.columns:\n",
    "        svd_rating = svd_rating_matrix.loc[user_id][movie_id]\n",
    "    else:\n",
    "        svd_rating = 3.0\n",
    "    return svd_rating"
   ]
  },
  {
   "cell_type": "markdown",
   "id": "DdE3WwVR3kwS",
   "metadata": {
    "id": "DdE3WwVR3kwS"
   },
   "source": [
    "## test data에 대해 SVD결과와 실제 평가 결과 (RMSE)"
   ]
  },
  {
   "cell_type": "code",
   "execution_count": 74,
   "id": "YxAfFHtaP2PP",
   "metadata": {
    "executionInfo": {
     "elapsed": 1005,
     "status": "ok",
     "timestamp": 1728871271303,
     "user": {
      "displayName": "옥철영",
      "userId": "13462808953739637244"
     },
     "user_tz": -540
    },
    "id": "YxAfFHtaP2PP"
   },
   "outputs": [],
   "source": [
    "matrix = rating_matrix.fillna(0).to_numpy()\n",
    "#matrix = rating_matrix.fillna(rating_matrix.mean()).to_numpy()\n",
    "\n",
    "# 인자 수 x 특이값 분해를 수행\n",
    "P, S, Qt = scipy.sparse.linalg.svds(matrix, k=20)\n",
    "pred_matrix = np.dot(np.dot(P, np.diag(S)), Qt)\n",
    "svd_rating_matrix = pd.DataFrame(data=pred_matrix, index=rating_matrix.index, columns=rating_matrix.columns)"
   ]
  },
  {
   "cell_type": "code",
   "execution_count": 75,
   "id": "6db36d9a",
   "metadata": {},
   "outputs": [
    {
     "data": {
      "text/html": [
       "<div>\n",
       "<style scoped>\n",
       "    .dataframe tbody tr th:only-of-type {\n",
       "        vertical-align: middle;\n",
       "    }\n",
       "\n",
       "    .dataframe tbody tr th {\n",
       "        vertical-align: top;\n",
       "    }\n",
       "\n",
       "    .dataframe thead th {\n",
       "        text-align: right;\n",
       "    }\n",
       "</style>\n",
       "<table border=\"1\" class=\"dataframe\">\n",
       "  <thead>\n",
       "    <tr style=\"text-align: right;\">\n",
       "      <th>movie_id</th>\n",
       "      <th>1</th>\n",
       "      <th>2</th>\n",
       "      <th>3</th>\n",
       "      <th>4</th>\n",
       "      <th>5</th>\n",
       "      <th>6</th>\n",
       "      <th>7</th>\n",
       "      <th>8</th>\n",
       "      <th>9</th>\n",
       "      <th>10</th>\n",
       "      <th>...</th>\n",
       "      <th>1671</th>\n",
       "      <th>1672</th>\n",
       "      <th>1673</th>\n",
       "      <th>1674</th>\n",
       "      <th>1676</th>\n",
       "      <th>1677</th>\n",
       "      <th>1679</th>\n",
       "      <th>1680</th>\n",
       "      <th>1681</th>\n",
       "      <th>1682</th>\n",
       "    </tr>\n",
       "    <tr>\n",
       "      <th>user_id</th>\n",
       "      <th></th>\n",
       "      <th></th>\n",
       "      <th></th>\n",
       "      <th></th>\n",
       "      <th></th>\n",
       "      <th></th>\n",
       "      <th></th>\n",
       "      <th></th>\n",
       "      <th></th>\n",
       "      <th></th>\n",
       "      <th></th>\n",
       "      <th></th>\n",
       "      <th></th>\n",
       "      <th></th>\n",
       "      <th></th>\n",
       "      <th></th>\n",
       "      <th></th>\n",
       "      <th></th>\n",
       "      <th></th>\n",
       "      <th></th>\n",
       "      <th></th>\n",
       "    </tr>\n",
       "  </thead>\n",
       "  <tbody>\n",
       "    <tr>\n",
       "      <th>1</th>\n",
       "      <td>3.006481</td>\n",
       "      <td>1.809370</td>\n",
       "      <td>0.960381</td>\n",
       "      <td>2.481368</td>\n",
       "      <td>1.059846</td>\n",
       "      <td>0.546573</td>\n",
       "      <td>4.538669</td>\n",
       "      <td>2.297971</td>\n",
       "      <td>3.552747</td>\n",
       "      <td>1.490523</td>\n",
       "      <td>...</td>\n",
       "      <td>-0.001822</td>\n",
       "      <td>0.009433</td>\n",
       "      <td>-0.019013</td>\n",
       "      <td>0.040106</td>\n",
       "      <td>0.011884</td>\n",
       "      <td>-0.007336</td>\n",
       "      <td>-0.007700</td>\n",
       "      <td>-0.005133</td>\n",
       "      <td>0.010175</td>\n",
       "      <td>0.079008</td>\n",
       "    </tr>\n",
       "    <tr>\n",
       "      <th>2</th>\n",
       "      <td>1.894966</td>\n",
       "      <td>0.221923</td>\n",
       "      <td>-0.029699</td>\n",
       "      <td>0.090011</td>\n",
       "      <td>-0.001862</td>\n",
       "      <td>0.113968</td>\n",
       "      <td>0.867180</td>\n",
       "      <td>0.422012</td>\n",
       "      <td>1.245891</td>\n",
       "      <td>0.468456</td>\n",
       "      <td>...</td>\n",
       "      <td>0.001849</td>\n",
       "      <td>0.008298</td>\n",
       "      <td>0.009367</td>\n",
       "      <td>-0.012678</td>\n",
       "      <td>-0.006713</td>\n",
       "      <td>0.006210</td>\n",
       "      <td>0.010882</td>\n",
       "      <td>0.007254</td>\n",
       "      <td>0.008723</td>\n",
       "      <td>-0.022699</td>\n",
       "    </tr>\n",
       "    <tr>\n",
       "      <th>3</th>\n",
       "      <td>0.260253</td>\n",
       "      <td>-0.066518</td>\n",
       "      <td>0.146165</td>\n",
       "      <td>-0.129483</td>\n",
       "      <td>-0.048204</td>\n",
       "      <td>0.019336</td>\n",
       "      <td>0.009599</td>\n",
       "      <td>0.005938</td>\n",
       "      <td>-0.633178</td>\n",
       "      <td>0.066842</td>\n",
       "      <td>...</td>\n",
       "      <td>0.004879</td>\n",
       "      <td>0.006192</td>\n",
       "      <td>0.006147</td>\n",
       "      <td>-0.006796</td>\n",
       "      <td>0.009542</td>\n",
       "      <td>-0.006157</td>\n",
       "      <td>0.030835</td>\n",
       "      <td>0.020557</td>\n",
       "      <td>-0.001604</td>\n",
       "      <td>0.000979</td>\n",
       "    </tr>\n",
       "    <tr>\n",
       "      <th>4</th>\n",
       "      <td>0.016350</td>\n",
       "      <td>-0.096596</td>\n",
       "      <td>0.091923</td>\n",
       "      <td>-0.023741</td>\n",
       "      <td>0.216779</td>\n",
       "      <td>0.038250</td>\n",
       "      <td>-0.046003</td>\n",
       "      <td>-0.105071</td>\n",
       "      <td>-0.410620</td>\n",
       "      <td>-0.141353</td>\n",
       "      <td>...</td>\n",
       "      <td>0.002884</td>\n",
       "      <td>0.000804</td>\n",
       "      <td>0.006543</td>\n",
       "      <td>-0.003759</td>\n",
       "      <td>-0.000861</td>\n",
       "      <td>-0.005185</td>\n",
       "      <td>0.013143</td>\n",
       "      <td>0.008762</td>\n",
       "      <td>-0.001786</td>\n",
       "      <td>-0.006152</td>\n",
       "    </tr>\n",
       "    <tr>\n",
       "      <th>5</th>\n",
       "      <td>3.698721</td>\n",
       "      <td>1.201589</td>\n",
       "      <td>0.374176</td>\n",
       "      <td>1.407907</td>\n",
       "      <td>0.241429</td>\n",
       "      <td>0.036356</td>\n",
       "      <td>1.815734</td>\n",
       "      <td>1.443525</td>\n",
       "      <td>-0.421585</td>\n",
       "      <td>0.468069</td>\n",
       "      <td>...</td>\n",
       "      <td>0.001371</td>\n",
       "      <td>0.004985</td>\n",
       "      <td>-0.013011</td>\n",
       "      <td>-0.012842</td>\n",
       "      <td>-0.016411</td>\n",
       "      <td>-0.010507</td>\n",
       "      <td>-0.002918</td>\n",
       "      <td>-0.001945</td>\n",
       "      <td>0.007771</td>\n",
       "      <td>-0.002175</td>\n",
       "    </tr>\n",
       "    <tr>\n",
       "      <th>...</th>\n",
       "      <td>...</td>\n",
       "      <td>...</td>\n",
       "      <td>...</td>\n",
       "      <td>...</td>\n",
       "      <td>...</td>\n",
       "      <td>...</td>\n",
       "      <td>...</td>\n",
       "      <td>...</td>\n",
       "      <td>...</td>\n",
       "      <td>...</td>\n",
       "      <td>...</td>\n",
       "      <td>...</td>\n",
       "      <td>...</td>\n",
       "      <td>...</td>\n",
       "      <td>...</td>\n",
       "      <td>...</td>\n",
       "      <td>...</td>\n",
       "      <td>...</td>\n",
       "      <td>...</td>\n",
       "      <td>...</td>\n",
       "      <td>...</td>\n",
       "    </tr>\n",
       "    <tr>\n",
       "      <th>939</th>\n",
       "      <td>2.064812</td>\n",
       "      <td>-0.065772</td>\n",
       "      <td>0.290639</td>\n",
       "      <td>-0.175145</td>\n",
       "      <td>-0.113272</td>\n",
       "      <td>-0.019625</td>\n",
       "      <td>1.021411</td>\n",
       "      <td>0.096239</td>\n",
       "      <td>1.418665</td>\n",
       "      <td>0.153576</td>\n",
       "      <td>...</td>\n",
       "      <td>-0.001338</td>\n",
       "      <td>-0.005229</td>\n",
       "      <td>0.006062</td>\n",
       "      <td>0.001894</td>\n",
       "      <td>0.007092</td>\n",
       "      <td>0.014316</td>\n",
       "      <td>-0.008350</td>\n",
       "      <td>-0.005567</td>\n",
       "      <td>-0.008536</td>\n",
       "      <td>-0.003219</td>\n",
       "    </tr>\n",
       "    <tr>\n",
       "      <th>940</th>\n",
       "      <td>1.434438</td>\n",
       "      <td>0.090097</td>\n",
       "      <td>-0.087964</td>\n",
       "      <td>1.069583</td>\n",
       "      <td>0.043903</td>\n",
       "      <td>0.011418</td>\n",
       "      <td>1.351274</td>\n",
       "      <td>0.794164</td>\n",
       "      <td>1.084095</td>\n",
       "      <td>0.343653</td>\n",
       "      <td>...</td>\n",
       "      <td>0.003133</td>\n",
       "      <td>-0.000181</td>\n",
       "      <td>0.005936</td>\n",
       "      <td>0.015025</td>\n",
       "      <td>-0.006492</td>\n",
       "      <td>0.014885</td>\n",
       "      <td>0.020663</td>\n",
       "      <td>0.013775</td>\n",
       "      <td>-0.001134</td>\n",
       "      <td>-0.014706</td>\n",
       "    </tr>\n",
       "    <tr>\n",
       "      <th>941</th>\n",
       "      <td>1.436732</td>\n",
       "      <td>0.019490</td>\n",
       "      <td>0.505868</td>\n",
       "      <td>0.074938</td>\n",
       "      <td>-0.042586</td>\n",
       "      <td>-0.003322</td>\n",
       "      <td>1.490683</td>\n",
       "      <td>0.178519</td>\n",
       "      <td>0.598166</td>\n",
       "      <td>0.199237</td>\n",
       "      <td>...</td>\n",
       "      <td>-0.000710</td>\n",
       "      <td>0.004634</td>\n",
       "      <td>-0.004551</td>\n",
       "      <td>-0.002483</td>\n",
       "      <td>0.000896</td>\n",
       "      <td>0.011135</td>\n",
       "      <td>-0.006277</td>\n",
       "      <td>-0.004184</td>\n",
       "      <td>0.008948</td>\n",
       "      <td>0.003816</td>\n",
       "    </tr>\n",
       "    <tr>\n",
       "      <th>942</th>\n",
       "      <td>0.503823</td>\n",
       "      <td>0.125259</td>\n",
       "      <td>-0.405749</td>\n",
       "      <td>0.115692</td>\n",
       "      <td>0.417029</td>\n",
       "      <td>-0.031206</td>\n",
       "      <td>0.235311</td>\n",
       "      <td>0.983105</td>\n",
       "      <td>0.539723</td>\n",
       "      <td>-0.169494</td>\n",
       "      <td>...</td>\n",
       "      <td>0.002903</td>\n",
       "      <td>-0.002499</td>\n",
       "      <td>0.005263</td>\n",
       "      <td>0.021071</td>\n",
       "      <td>0.004178</td>\n",
       "      <td>0.003257</td>\n",
       "      <td>0.013036</td>\n",
       "      <td>0.008691</td>\n",
       "      <td>0.009607</td>\n",
       "      <td>-0.032074</td>\n",
       "    </tr>\n",
       "    <tr>\n",
       "      <th>943</th>\n",
       "      <td>1.172038</td>\n",
       "      <td>1.067328</td>\n",
       "      <td>0.890621</td>\n",
       "      <td>1.666576</td>\n",
       "      <td>0.815478</td>\n",
       "      <td>-0.086294</td>\n",
       "      <td>1.939179</td>\n",
       "      <td>0.497209</td>\n",
       "      <td>1.460810</td>\n",
       "      <td>-0.399081</td>\n",
       "      <td>...</td>\n",
       "      <td>-0.003691</td>\n",
       "      <td>-0.000662</td>\n",
       "      <td>-0.005564</td>\n",
       "      <td>-0.038714</td>\n",
       "      <td>0.015839</td>\n",
       "      <td>0.009033</td>\n",
       "      <td>-0.021298</td>\n",
       "      <td>-0.014198</td>\n",
       "      <td>0.018995</td>\n",
       "      <td>0.017508</td>\n",
       "    </tr>\n",
       "  </tbody>\n",
       "</table>\n",
       "<p>943 rows × 1641 columns</p>\n",
       "</div>"
      ],
      "text/plain": [
       "movie_id      1         2         3         4         5         6     \\\n",
       "user_id                                                                \n",
       "1         3.006481  1.809370  0.960381  2.481368  1.059846  0.546573   \n",
       "2         1.894966  0.221923 -0.029699  0.090011 -0.001862  0.113968   \n",
       "3         0.260253 -0.066518  0.146165 -0.129483 -0.048204  0.019336   \n",
       "4         0.016350 -0.096596  0.091923 -0.023741  0.216779  0.038250   \n",
       "5         3.698721  1.201589  0.374176  1.407907  0.241429  0.036356   \n",
       "...            ...       ...       ...       ...       ...       ...   \n",
       "939       2.064812 -0.065772  0.290639 -0.175145 -0.113272 -0.019625   \n",
       "940       1.434438  0.090097 -0.087964  1.069583  0.043903  0.011418   \n",
       "941       1.436732  0.019490  0.505868  0.074938 -0.042586 -0.003322   \n",
       "942       0.503823  0.125259 -0.405749  0.115692  0.417029 -0.031206   \n",
       "943       1.172038  1.067328  0.890621  1.666576  0.815478 -0.086294   \n",
       "\n",
       "movie_id      7         8         9         10    ...      1671      1672  \\\n",
       "user_id                                           ...                       \n",
       "1         4.538669  2.297971  3.552747  1.490523  ... -0.001822  0.009433   \n",
       "2         0.867180  0.422012  1.245891  0.468456  ...  0.001849  0.008298   \n",
       "3         0.009599  0.005938 -0.633178  0.066842  ...  0.004879  0.006192   \n",
       "4        -0.046003 -0.105071 -0.410620 -0.141353  ...  0.002884  0.000804   \n",
       "5         1.815734  1.443525 -0.421585  0.468069  ...  0.001371  0.004985   \n",
       "...            ...       ...       ...       ...  ...       ...       ...   \n",
       "939       1.021411  0.096239  1.418665  0.153576  ... -0.001338 -0.005229   \n",
       "940       1.351274  0.794164  1.084095  0.343653  ...  0.003133 -0.000181   \n",
       "941       1.490683  0.178519  0.598166  0.199237  ... -0.000710  0.004634   \n",
       "942       0.235311  0.983105  0.539723 -0.169494  ...  0.002903 -0.002499   \n",
       "943       1.939179  0.497209  1.460810 -0.399081  ... -0.003691 -0.000662   \n",
       "\n",
       "movie_id      1673      1674      1676      1677      1679      1680  \\\n",
       "user_id                                                                \n",
       "1        -0.019013  0.040106  0.011884 -0.007336 -0.007700 -0.005133   \n",
       "2         0.009367 -0.012678 -0.006713  0.006210  0.010882  0.007254   \n",
       "3         0.006147 -0.006796  0.009542 -0.006157  0.030835  0.020557   \n",
       "4         0.006543 -0.003759 -0.000861 -0.005185  0.013143  0.008762   \n",
       "5        -0.013011 -0.012842 -0.016411 -0.010507 -0.002918 -0.001945   \n",
       "...            ...       ...       ...       ...       ...       ...   \n",
       "939       0.006062  0.001894  0.007092  0.014316 -0.008350 -0.005567   \n",
       "940       0.005936  0.015025 -0.006492  0.014885  0.020663  0.013775   \n",
       "941      -0.004551 -0.002483  0.000896  0.011135 -0.006277 -0.004184   \n",
       "942       0.005263  0.021071  0.004178  0.003257  0.013036  0.008691   \n",
       "943      -0.005564 -0.038714  0.015839  0.009033 -0.021298 -0.014198   \n",
       "\n",
       "movie_id      1681      1682  \n",
       "user_id                       \n",
       "1         0.010175  0.079008  \n",
       "2         0.008723 -0.022699  \n",
       "3        -0.001604  0.000979  \n",
       "4        -0.001786 -0.006152  \n",
       "5         0.007771 -0.002175  \n",
       "...            ...       ...  \n",
       "939      -0.008536 -0.003219  \n",
       "940      -0.001134 -0.014706  \n",
       "941       0.008948  0.003816  \n",
       "942       0.009607 -0.032074  \n",
       "943       0.018995  0.017508  \n",
       "\n",
       "[943 rows x 1641 columns]"
      ]
     },
     "execution_count": 75,
     "metadata": {},
     "output_type": "execute_result"
    }
   ],
   "source": [
    "svd_rating_matrix"
   ]
  },
  {
   "cell_type": "code",
   "execution_count": 76,
   "id": "b00e8ea5-2d69-4dbc-b627-2425fe7472ef",
   "metadata": {
    "colab": {
     "base_uri": "https://localhost:8080/"
    },
    "executionInfo": {
     "elapsed": 845,
     "status": "ok",
     "timestamp": 1728871273829,
     "user": {
      "displayName": "옥철영",
      "userId": "13462808953739637244"
     },
     "user_tz": -540
    },
    "id": "b00e8ea5-2d69-4dbc-b627-2425fe7472ef",
    "outputId": "a8446ea1-79e2-421a-9631-424d3f8efd31"
   },
   "outputs": [
    {
     "data": {
      "text/plain": [
       "2.7092853761372027"
      ]
     },
     "execution_count": 76,
     "metadata": {},
     "output_type": "execute_result"
    }
   ],
   "source": [
    "score(SVD) # 2.709285376137203"
   ]
  },
  {
   "cell_type": "code",
   "execution_count": null,
   "id": "1fcea842",
   "metadata": {},
   "outputs": [],
   "source": [
    "# 인자 수 x 특이값 분해를 수행\n",
    "P, S, Qt = scipy.sparse.linalg.svds(matrix, k=11) # 최적의 Latent Factor 적용\n",
    "pred_matrix = np.dot(np.dot(P, np.diag(S)), Qt)\n",
    "svd_rating_matrix = pd.DataFrame(data=pred_matrix, index=rating_matrix.index, columns=rating_matrix.columns)"
   ]
  },
  {
   "cell_type": "code",
   "execution_count": 78,
   "id": "2fc2a6e4",
   "metadata": {},
   "outputs": [
    {
     "data": {
      "text/plain": [
       "2.669090545779567"
      ]
     },
     "execution_count": 78,
     "metadata": {},
     "output_type": "execute_result"
    }
   ],
   "source": [
    "score(SVD) # 2.709285376137203"
   ]
  },
  {
   "cell_type": "markdown",
   "id": "1tQ6veAv-CHW",
   "metadata": {
    "id": "1tQ6veAv-CHW"
   },
   "source": [
    "## rating matrix에서 Nan 값 사용자별 평점으로 한 것과 비교\n",
    "\n",
    "- `matrix = rating_matrix.fillna(0).to_numpy()` : 결측값을 0 으로 채움\n",
    "- `matrix = ratings_matrix.fillna(rating_matrix.mean(axis=1).to_numpy()` : 결측값을 사용자별 평균 평점으로 채움\n",
    "  - NaN을 사용자별 평균으로 채우면, 개인화된 선호도가 반영"
   ]
  },
  {
   "cell_type": "markdown",
   "id": "92e42fb5-6c1c-476e-bcc4-bda93af7a426",
   "metadata": {
    "id": "92e42fb5-6c1c-476e-bcc4-bda93af7a426"
   },
   "source": [
    "# 전체 데이터에서 추천\n",
    "- 테스트 결과는 모델의 신뢰성을 검증하기 위한 도구\n",
    "- 실제 추천은 전체 데이터를 대상으로 이루어짐\n",
    "    - `추천 시스템의 최종 목표` : 전체 데이터에서 사용자가 아직 보지 않은 아이템을 추천하는 것"
   ]
  },
  {
   "cell_type": "code",
   "execution_count": 79,
   "id": "93ac8bd4-3410-4f90-8997-40199278331e",
   "metadata": {
    "executionInfo": {
     "elapsed": 1374,
     "status": "ok",
     "timestamp": 1728871292827,
     "user": {
      "displayName": "옥철영",
      "userId": "13462808953739637244"
     },
     "user_tz": -540
    },
    "id": "93ac8bd4-3410-4f90-8997-40199278331e"
   },
   "outputs": [],
   "source": [
    "rating_matrix = ratings.pivot_table(values='rating', index='user_id', columns='movie_id')\n",
    "\n",
    "# 미평가한 영화 0점\n",
    "#matrix = rating_matrix.fillna(0).to_numpy()\n",
    "\n",
    "# 미평가한 영화 영화별 평점 평균\n",
    "copy_rating_matrix= rating_matrix.fillna(rating_matrix.mean())\n",
    "matrix = copy_rating_matrix.to_numpy()\n",
    "\n",
    "# 인자 수 x 특이값 분해를 수행한다\n",
    "P, S, Qt = scipy.sparse.linalg.svds(matrix, k=10)\n",
    "\n",
    "# 예측 평갓값 행렬 특이값 5개 만을 이용한 영화 평점\n",
    "pred_matrix = np.dot(np.dot(P, np.diag(S)), Qt)\n",
    "svd_rating_matrix = pd.DataFrame(data=pred_matrix, index=rating_matrix.index, columns=rating_matrix.columns)"
   ]
  },
  {
   "cell_type": "code",
   "execution_count": 80,
   "id": "c915e3ad-64f7-40b8-abf1-068b76722eb1",
   "metadata": {
    "executionInfo": {
     "elapsed": 417,
     "status": "ok",
     "timestamp": 1728871317418,
     "user": {
      "displayName": "옥철영",
      "userId": "13462808953739637244"
     },
     "user_tz": -540
    },
    "id": "c915e3ad-64f7-40b8-abf1-068b76722eb1"
   },
   "outputs": [],
   "source": [
    "def recommender(user, n_items=10):\n",
    "    # 현재 사용자의 모든 아이템에 대한 예상 평점 계산\n",
    "    predictions = []\n",
    "    rated_index = rating_matrix.loc[user][rating_matrix.loc[user] > 0].index    # 이미 평가한 영화 확인\n",
    "    items = rating_matrix.loc[user].drop(rated_index)   # user가 미평가한 영화\n",
    "    for item in items.index:\n",
    "        predictions.append(SVD(user, item))                   # 예상평점 계산\n",
    "    recommendations = pd.Series(data=predictions, index=items.index, dtype=float)\n",
    "    recommendations = recommendations.sort_values(ascending=False)[:n_items]    # 예상평점이 가장 높은 영화 선택\n",
    "    recommended_items = movies.loc[recommendations.index]['title']\n",
    "    return recommended_items"
   ]
  },
  {
   "cell_type": "code",
   "execution_count": 81,
   "id": "ea483c67-b4a1-48f4-9df9-b665cf9029aa",
   "metadata": {
    "colab": {
     "base_uri": "https://localhost:8080/",
     "height": 272
    },
    "executionInfo": {
     "elapsed": 620,
     "status": "ok",
     "timestamp": 1728871320772,
     "user": {
      "displayName": "옥철영",
      "userId": "13462808953739637244"
     },
     "user_tz": -540
    },
    "id": "ea483c67-b4a1-48f4-9df9-b665cf9029aa",
    "outputId": "3825584c-c2b5-4b13-8422-5c12420c23d2"
   },
   "outputs": [
    {
     "data": {
      "text/plain": [
       "movie_id\n",
       "1467                                     Cure, The (1995)\n",
       "1122                    Last Time I Saw Paris, The (1954)\n",
       "1653                         Chairman of the Board (1998)\n",
       "1293                     Ayn Rand: A Sense of Life (1997)\n",
       "1500    Prisoner of the Mountains (Kavkazsky Plennik) ...\n",
       "Name: title, dtype: object"
      ]
     },
     "execution_count": 81,
     "metadata": {},
     "output_type": "execute_result"
    }
   ],
   "source": [
    "recommender(user=2, n_items=5)"
   ]
  },
  {
   "cell_type": "code",
   "execution_count": 82,
   "id": "LqXVBlC4csDj",
   "metadata": {
    "colab": {
     "base_uri": "https://localhost:8080/",
     "height": 272
    },
    "executionInfo": {
     "elapsed": 376,
     "status": "ok",
     "timestamp": 1728871324743,
     "user": {
      "displayName": "옥철영",
      "userId": "13462808953739637244"
     },
     "user_tz": -540
    },
    "id": "LqXVBlC4csDj",
    "outputId": "494df057-9a2d-41eb-c9e5-94a732dfafb4"
   },
   "outputs": [
    {
     "data": {
      "text/plain": [
       "movie_id\n",
       "1122              Last Time I Saw Paris, The (1954)\n",
       "1201    Maybe, Maybe Not (Bewegte Mann, Der) (1994)\n",
       "1467                               Cure, The (1995)\n",
       "1599                            Guantanamera (1994)\n",
       "814                             One Fine Day (1996)\n",
       "Name: title, dtype: object"
      ]
     },
     "execution_count": 82,
     "metadata": {},
     "output_type": "execute_result"
    }
   ],
   "source": [
    "recommender(user=20, n_items=5)"
   ]
  },
  {
   "cell_type": "markdown",
   "id": "b2kdKq7VoCKH",
   "metadata": {
    "id": "b2kdKq7VoCKH"
   },
   "source": [
    "## 최적 latent factor 구하기\n",
    "### 💭 Latent Factor란?\n",
    "- SVD, 행렬 분해 등의 기법에서 **사용자와 아이템 간의 상호작용을 설명하는 잠재공간(Latent Space)**의 차원을 의미\n",
    "- 사용자와 아이템은 이 잠재공간에서 각각 벡터로 표현, 벡터 간 내적을 통해 예측 평점을 계산\n",
    "     - 예시 : 영화 추천에서 Latent Factor는 장르 선호도, 액션/로맨스 의 비율 등과 같은 숨겨진 요인을 나타낼 수 있음\n",
    "\n",
    "- 최적의 Latent Factor 구하는 이유\n",
    "    - Latent Factor 수는 모델 성능에 직접적인 영향을 미친다.\n",
    "    - 너무 작으면 : 사용자 - 아이템 관계를 충분히 표현하지 못해 과소적합\n",
    "    - 너무 크면 : 데이터의 노이즈 까지 학습하여 과적합 발생가능성 증가\n",
    "    - `사용자와 아이템 간의 숨겨진 특징을 설명하기에 적절한 Latent Factor 수를 찾아야 함`"
   ]
  },
  {
   "cell_type": "code",
   "execution_count": 83,
   "id": "mCnGXX5ZRYxQ",
   "metadata": {
    "colab": {
     "base_uri": "https://localhost:8080/"
    },
    "executionInfo": {
     "elapsed": 13912,
     "status": "ok",
     "timestamp": 1728871493048,
     "user": {
      "displayName": "옥철영",
      "userId": "13462808953739637244"
     },
     "user_tz": -540
    },
    "id": "mCnGXX5ZRYxQ",
    "outputId": "c91a2386-ffd1-4d05-b352-d502bcfc8096"
   },
   "outputs": [
    {
     "name": "stdout",
     "output_type": "stream",
     "text": [
      "Neighbor size = 20 : RMSE = 0.9888\n",
      "Neighbor size = 50 : RMSE = 1.0000\n",
      "Neighbor size = 100 : RMSE = 1.0112\n",
      "Neighbor size = 150 : RMSE = 1.0183\n",
      "Neighbor size = 200 : RMSE = 1.0232\n",
      "Neighbor size = 250 : RMSE = 1.0257\n"
     ]
    }
   ],
   "source": [
    "# train set으로 factor 갯수에 따른 RMSE\n",
    "rating_matrix = x_train.pivot_table(values='rating', index='user_id', columns='movie_id')\n",
    "copy_rating_matrix= rating_matrix.fillna(rating_matrix.mean())\n",
    "matrix = copy_rating_matrix.to_numpy()\n",
    "\n",
    "for factor in [20, 50, 100, 150, 200, 250]:\n",
    "    # 인자 수 x 특이값 분해를 수행한다\n",
    "    P, S, Qt = scipy.sparse.linalg.svds(matrix, k=factor)\n",
    "\n",
    "    # 예측 평갓값 행렬 특이값 5개 만을 이용한 영화 평점)\n",
    "    pred_matrix = np.dot(np.dot(P, np.diag(S)), Qt)\n",
    "    svd_rating_matrix = pd.DataFrame(data=pred_matrix, index=rating_matrix.index, columns=rating_matrix.columns)\n",
    "    print(\"Neighbor size = %d : RMSE = %.4f\" % (factor, score(SVD)))\n"
   ]
  },
  {
   "cell_type": "markdown",
   "id": "be8fa7fd",
   "metadata": {},
   "source": [
    "-> Factor 개수가 20 일때, RMSE가 가장 낮은 값을 보이므로, 이 경우가 적절하다.\n",
    "- RMSE가 증가하기 시작하면 과적합의 가능성이 증가하면서 성능이 저하됨 "
   ]
  },
  {
   "cell_type": "code",
   "execution_count": 84,
   "id": "dJMZfnr1xdYo",
   "metadata": {
    "colab": {
     "base_uri": "https://localhost:8080/"
    },
    "executionInfo": {
     "elapsed": 12209,
     "status": "ok",
     "timestamp": 1728871582611,
     "user": {
      "displayName": "옥철영",
      "userId": "13462808953739637244"
     },
     "user_tz": -540
    },
    "id": "dJMZfnr1xdYo",
    "outputId": "b63afdde-f0ed-4766-92a0-eb47b2d2b70c"
   },
   "outputs": [
    {
     "name": "stdout",
     "output_type": "stream",
     "text": [
      "Neighbor size = 2 : RMSE = 1.0007\n",
      "Neighbor size = 4 : RMSE = 0.9926\n",
      "Neighbor size = 6 : RMSE = 0.9898\n",
      "Neighbor size = 8 : RMSE = 0.9867\n",
      "Neighbor size = 10 : RMSE = 0.9864\n",
      "Neighbor size = 11 : RMSE = 0.9851\n",
      "Neighbor size = 12 : RMSE = 0.9861\n",
      "Neighbor size = 13 : RMSE = 0.9862\n",
      "Neighbor size = 14 : RMSE = 0.9869\n",
      "Neighbor size = 16 : RMSE = 0.9877\n",
      "Neighbor size = 18 : RMSE = 0.9883\n",
      "Neighbor size = 20 : RMSE = 0.9888\n"
     ]
    }
   ],
   "source": [
    "# train set으로 factor 갯수에 따른 RMSE\n",
    "rating_matrix = x_train.pivot_table(values='rating', index='user_id', columns='movie_id')\n",
    "copy_rating_matrix= rating_matrix.fillna(rating_matrix.mean())\n",
    "matrix = copy_rating_matrix.to_numpy()\n",
    "\n",
    "for factor in [2, 4, 6, 8, 10, 11, 12, 13, 14, 16, 18, 20]:\n",
    "    # 인자 수 x 특이값 분해를 수행한다\n",
    "    P, S, Qt = scipy.sparse.linalg.svds(matrix, k=factor)\n",
    "\n",
    "    # 예측 평갓값 행렬 특이값 5개 만을 이용한 영화 평점)\n",
    "    pred_matrix = np.dot(np.dot(P, np.diag(S)), Qt)\n",
    "    svd_rating_matrix = pd.DataFrame(data=pred_matrix, index=rating_matrix.index, columns=rating_matrix.columns)\n",
    "    print(\"Neighbor size = %d : RMSE = %.4f\" % (factor, score(SVD)))\n"
   ]
  },
  {
   "cell_type": "markdown",
   "id": "630aed0c",
   "metadata": {},
   "source": [
    "# 최적의 Latent Factor로 전체 데이터에서 추천"
   ]
  },
  {
   "cell_type": "code",
   "execution_count": 85,
   "id": "fa42a79f",
   "metadata": {},
   "outputs": [],
   "source": [
    "rating_matrix = ratings.pivot_table(values='rating', index='user_id', columns='movie_id')\n",
    "\n",
    "# 미평가한 영화 0점\n",
    "#matrix = rating_matrix.fillna(0).to_numpy()\n",
    "\n",
    "# 미평가한 영화 영화별 평점 평균\n",
    "copy_rating_matrix= rating_matrix.fillna(rating_matrix.mean())\n",
    "matrix = copy_rating_matrix.to_numpy()\n",
    "\n",
    "# 인자 수 x 특이값 분해를 수행한다\n",
    "P, S, Qt = scipy.sparse.linalg.svds(matrix, k=11)\n",
    "\n",
    "# 예측 평갓값 행렬 특이값 5개 만을 이용한 영화 평점\n",
    "pred_matrix = np.dot(np.dot(P, np.diag(S)), Qt)\n",
    "svd_rating_matrix = pd.DataFrame(data=pred_matrix, index=rating_matrix.index, columns=rating_matrix.columns)"
   ]
  },
  {
   "cell_type": "code",
   "execution_count": 86,
   "id": "2d58b5aa",
   "metadata": {},
   "outputs": [
    {
     "data": {
      "text/plain": [
       "movie_id\n",
       "1536                                    Cosi (1996)\n",
       "1293               Ayn Rand: A Sense of Life (1997)\n",
       "1201    Maybe, Maybe Not (Bewegte Mann, Der) (1994)\n",
       "1189                        That Old Feeling (1997)\n",
       "814                             One Fine Day (1996)\n",
       "Name: title, dtype: object"
      ]
     },
     "execution_count": 86,
     "metadata": {},
     "output_type": "execute_result"
    }
   ],
   "source": [
    "recommender(user=2, n_items=5)"
   ]
  },
  {
   "cell_type": "code",
   "execution_count": 87,
   "id": "4cb0abf6",
   "metadata": {},
   "outputs": [
    {
     "data": {
      "text/plain": [
       "movie_id\n",
       "1536                                    Cosi (1996)\n",
       "1201    Maybe, Maybe Not (Bewegte Mann, Der) (1994)\n",
       "1467                               Cure, The (1995)\n",
       "1122              Last Time I Saw Paris, The (1954)\n",
       "1653                   Chairman of the Board (1998)\n",
       "Name: title, dtype: object"
      ]
     },
     "execution_count": 87,
     "metadata": {},
     "output_type": "execute_result"
    }
   ],
   "source": [
    "recommender(user=20, n_items=5)"
   ]
  },
  {
   "cell_type": "markdown",
   "id": "369755cc",
   "metadata": {},
   "source": [
    "- RMSE가 최소인 Latent Factor는 모델의 성능이 최적화되었음을 나타낼 수 있지만,\n",
    "- `이것이 항상 최적의 Latent Factor를 의미하지는 않는다`\n",
    "    - 최적의 Latent Factor 판단 기준으로 일반화 성능, 평가 지표 다양화, Latent Factor의 해석 가능성, 복잡도와 효율성 등을 판단해야한다."
   ]
  }
 ],
 "metadata": {
  "colab": {
   "provenance": []
  },
  "kernelspec": {
   "display_name": "ai_recmd",
   "language": "python",
   "name": "python3"
  },
  "language_info": {
   "codemirror_mode": {
    "name": "ipython",
    "version": 3
   },
   "file_extension": ".py",
   "mimetype": "text/x-python",
   "name": "python",
   "nbconvert_exporter": "python",
   "pygments_lexer": "ipython3",
   "version": "3.11.9"
  }
 },
 "nbformat": 4,
 "nbformat_minor": 5
}

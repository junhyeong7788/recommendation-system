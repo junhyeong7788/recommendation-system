{
 "cells": [
  {
   "cell_type": "markdown",
   "id": "9d865645-6d86-4bda-9048-7908068fb48c",
   "metadata": {
    "id": "9d865645-6d86-4bda-9048-7908068fb48c"
   },
   "source": [
    "# MF를 이용한 추천시스템"
   ]
  },
  {
   "cell_type": "markdown",
   "id": "5sSKiDqEyKm_",
   "metadata": {
    "id": "5sSKiDqEyKm_"
   },
   "source": [
    "### MF (Matrix Factorization, 행렬분해) : 하나의 행렬을 두 개이상의 행렬의 곱과 같도록 행렬을 분해하는 것을 의미\n",
    "- 보통 행렬 분해 한 후 분해된 행렬의 일부로 원본 행렬을 추정하도록 사용\n",
    "- 분해 시 차원을 낮추기 때문에 낮아진 차원의 요소들은 원래 행렬의 핵심 요소를 설명할 수 있다. 또한 희박한 데이터 세트에서도 잘 동작합니다.\n",
    "    - 연관된 알고리즘 : PCA, SVD, MF\n",
    "        - 사용자 요인 $P$\n",
    "        - ITEM 요인 $Q$\n",
    "        - $R = P * Q^T$\n",
    "    "
   ]
  },
  {
   "cell_type": "markdown",
   "id": "ffbc9376",
   "metadata": {},
   "source": [
    "## Env"
   ]
  },
  {
   "cell_type": "code",
   "execution_count": 18,
   "id": "f2438df2-f047-4fe0-852c-01842ed2af5e",
   "metadata": {
    "executionInfo": {
     "elapsed": 747,
     "status": "ok",
     "timestamp": 1728872520724,
     "user": {
      "displayName": "옥철영",
      "userId": "13462808953739637244"
     },
     "user_tz": -540
    },
    "id": "f2438df2-f047-4fe0-852c-01842ed2af5e"
   },
   "outputs": [],
   "source": [
    "import numpy as np\n",
    "import pandas as pd"
   ]
  },
  {
   "cell_type": "code",
   "execution_count": 19,
   "id": "XN-VxNmkyHJK",
   "metadata": {
    "executionInfo": {
     "elapsed": 318,
     "status": "ok",
     "timestamp": 1728871801727,
     "user": {
      "displayName": "옥철영",
      "userId": "13462808953739637244"
     },
     "user_tz": -540
    },
    "id": "XN-VxNmkyHJK"
   },
   "outputs": [],
   "source": [
    "P = np.array([[-0.43, 0.21],[0.31, 0.92],[0.69,-0.03],[0.46,-0.30]])\n",
    "Q = np.array([[0.31, 0.60],[0.61, -0.82],[-0.38,-0.61],[-0.79,0.08]])"
   ]
  },
  {
   "cell_type": "code",
   "execution_count": 20,
   "id": "1ad0c3f7",
   "metadata": {},
   "outputs": [
    {
     "data": {
      "text/plain": [
       "array([[-0.43,  0.21],\n",
       "       [ 0.31,  0.92],\n",
       "       [ 0.69, -0.03],\n",
       "       [ 0.46, -0.3 ]])"
      ]
     },
     "execution_count": 20,
     "metadata": {},
     "output_type": "execute_result"
    }
   ],
   "source": [
    "P"
   ]
  },
  {
   "cell_type": "code",
   "execution_count": 21,
   "id": "ea272892",
   "metadata": {},
   "outputs": [
    {
     "data": {
      "text/plain": [
       "array([[ 0.31,  0.6 ],\n",
       "       [ 0.61, -0.82],\n",
       "       [-0.38, -0.61],\n",
       "       [-0.79,  0.08]])"
      ]
     },
     "execution_count": 21,
     "metadata": {},
     "output_type": "execute_result"
    }
   ],
   "source": [
    "Q"
   ]
  },
  {
   "cell_type": "code",
   "execution_count": 22,
   "id": "XGBPVBSNyjJY",
   "metadata": {
    "colab": {
     "base_uri": "https://localhost:8080/"
    },
    "executionInfo": {
     "elapsed": 376,
     "status": "ok",
     "timestamp": 1728871826510,
     "user": {
      "displayName": "옥철영",
      "userId": "13462808953739637244"
     },
     "user_tz": -540
    },
    "id": "XGBPVBSNyjJY",
    "outputId": "5eac63d3-e592-43d7-d8ba-db3e77c43748"
   },
   "outputs": [
    {
     "data": {
      "text/plain": [
       "array([[-0.0073, -0.4345,  0.0353,  0.3565],\n",
       "       [ 0.6481, -0.5653, -0.679 , -0.1713],\n",
       "       [ 0.1959,  0.4455, -0.2439, -0.5475],\n",
       "       [-0.0374,  0.5266,  0.0082, -0.3874]])"
      ]
     },
     "execution_count": 22,
     "metadata": {},
     "output_type": "execute_result"
    }
   ],
   "source": [
    "R = P.dot(Q.T)\n",
    "R"
   ]
  },
  {
   "cell_type": "markdown",
   "id": "jGSSB5dmauAX",
   "metadata": {
    "id": "jGSSB5dmauAX"
   },
   "source": [
    "## Data load"
   ]
  },
  {
   "cell_type": "code",
   "execution_count": 23,
   "id": "7290f6ac-eace-4280-be22-853b62315a78",
   "metadata": {
    "executionInfo": {
     "elapsed": 2,
     "status": "ok",
     "timestamp": 1728872522060,
     "user": {
      "displayName": "옥철영",
      "userId": "13462808953739637244"
     },
     "user_tz": -540
    },
    "id": "7290f6ac-eace-4280-be22-853b62315a78"
   },
   "outputs": [],
   "source": [
    "u_cols = ['user_id', 'age', 'sex', 'occupation', 'zip_code']\n",
    "users = pd.read_csv('/Users/jun/Library/Mobile Documents/com~apple~CloudDocs/Github/ai _recommendation _system/data/u.user', sep='|', names=u_cols, encoding='latin-1')"
   ]
  },
  {
   "cell_type": "code",
   "execution_count": 24,
   "id": "0d79691c-28ce-4050-b499-17a6f7febc9b",
   "metadata": {
    "colab": {
     "base_uri": "https://localhost:8080/",
     "height": 394
    },
    "executionInfo": {
     "elapsed": 358,
     "status": "ok",
     "timestamp": 1728872523527,
     "user": {
      "displayName": "옥철영",
      "userId": "13462808953739637244"
     },
     "user_tz": -540
    },
    "id": "0d79691c-28ce-4050-b499-17a6f7febc9b",
    "outputId": "6e32b702-7ffa-4ab4-b39b-1fa328cbf780"
   },
   "outputs": [
    {
     "data": {
      "text/html": [
       "<div>\n",
       "<style scoped>\n",
       "    .dataframe tbody tr th:only-of-type {\n",
       "        vertical-align: middle;\n",
       "    }\n",
       "\n",
       "    .dataframe tbody tr th {\n",
       "        vertical-align: top;\n",
       "    }\n",
       "\n",
       "    .dataframe thead th {\n",
       "        text-align: right;\n",
       "    }\n",
       "</style>\n",
       "<table border=\"1\" class=\"dataframe\">\n",
       "  <thead>\n",
       "    <tr style=\"text-align: right;\">\n",
       "      <th></th>\n",
       "      <th>movie_id</th>\n",
       "      <th>title</th>\n",
       "      <th>release date</th>\n",
       "      <th>video release date</th>\n",
       "      <th>IMDB URL</th>\n",
       "      <th>unknown</th>\n",
       "      <th>Action</th>\n",
       "      <th>Adventure</th>\n",
       "      <th>Animation</th>\n",
       "      <th>Children's</th>\n",
       "      <th>...</th>\n",
       "      <th>Fantasy</th>\n",
       "      <th>Film-Noir</th>\n",
       "      <th>Horror</th>\n",
       "      <th>Musical</th>\n",
       "      <th>Mystery</th>\n",
       "      <th>Romance</th>\n",
       "      <th>Sci-Fi</th>\n",
       "      <th>Thriller</th>\n",
       "      <th>War</th>\n",
       "      <th>Western</th>\n",
       "    </tr>\n",
       "  </thead>\n",
       "  <tbody>\n",
       "    <tr>\n",
       "      <th>0</th>\n",
       "      <td>1</td>\n",
       "      <td>Toy Story (1995)</td>\n",
       "      <td>01-Jan-1995</td>\n",
       "      <td>NaN</td>\n",
       "      <td>http://us.imdb.com/M/title-exact?Toy%20Story%2...</td>\n",
       "      <td>0</td>\n",
       "      <td>0</td>\n",
       "      <td>0</td>\n",
       "      <td>1</td>\n",
       "      <td>1</td>\n",
       "      <td>...</td>\n",
       "      <td>0</td>\n",
       "      <td>0</td>\n",
       "      <td>0</td>\n",
       "      <td>0</td>\n",
       "      <td>0</td>\n",
       "      <td>0</td>\n",
       "      <td>0</td>\n",
       "      <td>0</td>\n",
       "      <td>0</td>\n",
       "      <td>0</td>\n",
       "    </tr>\n",
       "    <tr>\n",
       "      <th>1</th>\n",
       "      <td>2</td>\n",
       "      <td>GoldenEye (1995)</td>\n",
       "      <td>01-Jan-1995</td>\n",
       "      <td>NaN</td>\n",
       "      <td>http://us.imdb.com/M/title-exact?GoldenEye%20(...</td>\n",
       "      <td>0</td>\n",
       "      <td>1</td>\n",
       "      <td>1</td>\n",
       "      <td>0</td>\n",
       "      <td>0</td>\n",
       "      <td>...</td>\n",
       "      <td>0</td>\n",
       "      <td>0</td>\n",
       "      <td>0</td>\n",
       "      <td>0</td>\n",
       "      <td>0</td>\n",
       "      <td>0</td>\n",
       "      <td>0</td>\n",
       "      <td>1</td>\n",
       "      <td>0</td>\n",
       "      <td>0</td>\n",
       "    </tr>\n",
       "    <tr>\n",
       "      <th>2</th>\n",
       "      <td>3</td>\n",
       "      <td>Four Rooms (1995)</td>\n",
       "      <td>01-Jan-1995</td>\n",
       "      <td>NaN</td>\n",
       "      <td>http://us.imdb.com/M/title-exact?Four%20Rooms%...</td>\n",
       "      <td>0</td>\n",
       "      <td>0</td>\n",
       "      <td>0</td>\n",
       "      <td>0</td>\n",
       "      <td>0</td>\n",
       "      <td>...</td>\n",
       "      <td>0</td>\n",
       "      <td>0</td>\n",
       "      <td>0</td>\n",
       "      <td>0</td>\n",
       "      <td>0</td>\n",
       "      <td>0</td>\n",
       "      <td>0</td>\n",
       "      <td>1</td>\n",
       "      <td>0</td>\n",
       "      <td>0</td>\n",
       "    </tr>\n",
       "    <tr>\n",
       "      <th>3</th>\n",
       "      <td>4</td>\n",
       "      <td>Get Shorty (1995)</td>\n",
       "      <td>01-Jan-1995</td>\n",
       "      <td>NaN</td>\n",
       "      <td>http://us.imdb.com/M/title-exact?Get%20Shorty%...</td>\n",
       "      <td>0</td>\n",
       "      <td>1</td>\n",
       "      <td>0</td>\n",
       "      <td>0</td>\n",
       "      <td>0</td>\n",
       "      <td>...</td>\n",
       "      <td>0</td>\n",
       "      <td>0</td>\n",
       "      <td>0</td>\n",
       "      <td>0</td>\n",
       "      <td>0</td>\n",
       "      <td>0</td>\n",
       "      <td>0</td>\n",
       "      <td>0</td>\n",
       "      <td>0</td>\n",
       "      <td>0</td>\n",
       "    </tr>\n",
       "    <tr>\n",
       "      <th>4</th>\n",
       "      <td>5</td>\n",
       "      <td>Copycat (1995)</td>\n",
       "      <td>01-Jan-1995</td>\n",
       "      <td>NaN</td>\n",
       "      <td>http://us.imdb.com/M/title-exact?Copycat%20(1995)</td>\n",
       "      <td>0</td>\n",
       "      <td>0</td>\n",
       "      <td>0</td>\n",
       "      <td>0</td>\n",
       "      <td>0</td>\n",
       "      <td>...</td>\n",
       "      <td>0</td>\n",
       "      <td>0</td>\n",
       "      <td>0</td>\n",
       "      <td>0</td>\n",
       "      <td>0</td>\n",
       "      <td>0</td>\n",
       "      <td>0</td>\n",
       "      <td>1</td>\n",
       "      <td>0</td>\n",
       "      <td>0</td>\n",
       "    </tr>\n",
       "  </tbody>\n",
       "</table>\n",
       "<p>5 rows × 24 columns</p>\n",
       "</div>"
      ],
      "text/plain": [
       "   movie_id              title release date  video release date  \\\n",
       "0         1   Toy Story (1995)  01-Jan-1995                 NaN   \n",
       "1         2   GoldenEye (1995)  01-Jan-1995                 NaN   \n",
       "2         3  Four Rooms (1995)  01-Jan-1995                 NaN   \n",
       "3         4  Get Shorty (1995)  01-Jan-1995                 NaN   \n",
       "4         5     Copycat (1995)  01-Jan-1995                 NaN   \n",
       "\n",
       "                                            IMDB URL  unknown  Action  \\\n",
       "0  http://us.imdb.com/M/title-exact?Toy%20Story%2...        0       0   \n",
       "1  http://us.imdb.com/M/title-exact?GoldenEye%20(...        0       1   \n",
       "2  http://us.imdb.com/M/title-exact?Four%20Rooms%...        0       0   \n",
       "3  http://us.imdb.com/M/title-exact?Get%20Shorty%...        0       1   \n",
       "4  http://us.imdb.com/M/title-exact?Copycat%20(1995)        0       0   \n",
       "\n",
       "   Adventure  Animation  Children's  ...  Fantasy  Film-Noir  Horror  Musical  \\\n",
       "0          0          1           1  ...        0          0       0        0   \n",
       "1          1          0           0  ...        0          0       0        0   \n",
       "2          0          0           0  ...        0          0       0        0   \n",
       "3          0          0           0  ...        0          0       0        0   \n",
       "4          0          0           0  ...        0          0       0        0   \n",
       "\n",
       "   Mystery  Romance  Sci-Fi  Thriller  War  Western  \n",
       "0        0        0       0         0    0        0  \n",
       "1        0        0       0         1    0        0  \n",
       "2        0        0       0         1    0        0  \n",
       "3        0        0       0         0    0        0  \n",
       "4        0        0       0         1    0        0  \n",
       "\n",
       "[5 rows x 24 columns]"
      ]
     },
     "execution_count": 24,
     "metadata": {},
     "output_type": "execute_result"
    }
   ],
   "source": [
    "i_cols = ['movie_id', 'title', 'release date', 'video release date', 'IMDB URL', 'unknown',\n",
    "          'Action', 'Adventure', 'Animation', 'Children\\'s', 'Comedy', 'Crime', 'Documentary',\n",
    "          'Drama', 'Fantasy', 'Film-Noir', 'Horror', 'Musical', 'Mystery', 'Romance', 'Sci-Fi',\n",
    "          'Thriller', 'War', 'Western']\n",
    "movies = pd.read_csv('/Users/jun/Library/Mobile Documents/com~apple~CloudDocs/Github/ai _recommendation _system/data/u.item', sep='|', names=i_cols, encoding='latin-1')\n",
    "movies.head()"
   ]
  },
  {
   "cell_type": "code",
   "execution_count": 25,
   "id": "105c4c67-11da-44e4-8786-d675de322878",
   "metadata": {
    "colab": {
     "base_uri": "https://localhost:8080/",
     "height": 206
    },
    "executionInfo": {
     "elapsed": 393,
     "status": "ok",
     "timestamp": 1728872525944,
     "user": {
      "displayName": "옥철영",
      "userId": "13462808953739637244"
     },
     "user_tz": -540
    },
    "id": "105c4c67-11da-44e4-8786-d675de322878",
    "outputId": "c1e8f86a-4fdf-47b8-d664-af0078917b8c"
   },
   "outputs": [
    {
     "data": {
      "text/html": [
       "<div>\n",
       "<style scoped>\n",
       "    .dataframe tbody tr th:only-of-type {\n",
       "        vertical-align: middle;\n",
       "    }\n",
       "\n",
       "    .dataframe tbody tr th {\n",
       "        vertical-align: top;\n",
       "    }\n",
       "\n",
       "    .dataframe thead th {\n",
       "        text-align: right;\n",
       "    }\n",
       "</style>\n",
       "<table border=\"1\" class=\"dataframe\">\n",
       "  <thead>\n",
       "    <tr style=\"text-align: right;\">\n",
       "      <th></th>\n",
       "      <th>user_id</th>\n",
       "      <th>movie_id</th>\n",
       "      <th>rating</th>\n",
       "      <th>timestamp</th>\n",
       "    </tr>\n",
       "  </thead>\n",
       "  <tbody>\n",
       "    <tr>\n",
       "      <th>0</th>\n",
       "      <td>196</td>\n",
       "      <td>242</td>\n",
       "      <td>3</td>\n",
       "      <td>881250949</td>\n",
       "    </tr>\n",
       "    <tr>\n",
       "      <th>1</th>\n",
       "      <td>186</td>\n",
       "      <td>302</td>\n",
       "      <td>3</td>\n",
       "      <td>891717742</td>\n",
       "    </tr>\n",
       "    <tr>\n",
       "      <th>2</th>\n",
       "      <td>22</td>\n",
       "      <td>377</td>\n",
       "      <td>1</td>\n",
       "      <td>878887116</td>\n",
       "    </tr>\n",
       "    <tr>\n",
       "      <th>3</th>\n",
       "      <td>244</td>\n",
       "      <td>51</td>\n",
       "      <td>2</td>\n",
       "      <td>880606923</td>\n",
       "    </tr>\n",
       "    <tr>\n",
       "      <th>4</th>\n",
       "      <td>166</td>\n",
       "      <td>346</td>\n",
       "      <td>1</td>\n",
       "      <td>886397596</td>\n",
       "    </tr>\n",
       "  </tbody>\n",
       "</table>\n",
       "</div>"
      ],
      "text/plain": [
       "   user_id  movie_id  rating  timestamp\n",
       "0      196       242       3  881250949\n",
       "1      186       302       3  891717742\n",
       "2       22       377       1  878887116\n",
       "3      244        51       2  880606923\n",
       "4      166       346       1  886397596"
      ]
     },
     "execution_count": 25,
     "metadata": {},
     "output_type": "execute_result"
    }
   ],
   "source": [
    "r_cols = ['user_id', 'movie_id', 'rating', 'timestamp']\n",
    "ratings = pd.read_csv('/Users/jun/Library/Mobile Documents/com~apple~CloudDocs/Github/ai _recommendation _system/data/u.data', sep='\\t', names=r_cols, encoding='latin-1')\n",
    "ratings.head()"
   ]
  },
  {
   "cell_type": "code",
   "execution_count": 26,
   "id": "45aa423f-42ec-4e33-bb5a-b76fc0b964a9",
   "metadata": {
    "colab": {
     "base_uri": "https://localhost:8080/",
     "height": 206
    },
    "executionInfo": {
     "elapsed": 362,
     "status": "ok",
     "timestamp": 1728872529337,
     "user": {
      "displayName": "옥철영",
      "userId": "13462808953739637244"
     },
     "user_tz": -540
    },
    "id": "45aa423f-42ec-4e33-bb5a-b76fc0b964a9",
    "outputId": "7c2887ff-9fda-4c57-f3f8-c5b3ca68aeda"
   },
   "outputs": [
    {
     "data": {
      "text/html": [
       "<div>\n",
       "<style scoped>\n",
       "    .dataframe tbody tr th:only-of-type {\n",
       "        vertical-align: middle;\n",
       "    }\n",
       "\n",
       "    .dataframe tbody tr th {\n",
       "        vertical-align: top;\n",
       "    }\n",
       "\n",
       "    .dataframe thead th {\n",
       "        text-align: right;\n",
       "    }\n",
       "</style>\n",
       "<table border=\"1\" class=\"dataframe\">\n",
       "  <thead>\n",
       "    <tr style=\"text-align: right;\">\n",
       "      <th></th>\n",
       "      <th>user_id</th>\n",
       "      <th>movie_id</th>\n",
       "      <th>rating</th>\n",
       "    </tr>\n",
       "  </thead>\n",
       "  <tbody>\n",
       "    <tr>\n",
       "      <th>0</th>\n",
       "      <td>196</td>\n",
       "      <td>242</td>\n",
       "      <td>3</td>\n",
       "    </tr>\n",
       "    <tr>\n",
       "      <th>1</th>\n",
       "      <td>186</td>\n",
       "      <td>302</td>\n",
       "      <td>3</td>\n",
       "    </tr>\n",
       "    <tr>\n",
       "      <th>2</th>\n",
       "      <td>22</td>\n",
       "      <td>377</td>\n",
       "      <td>1</td>\n",
       "    </tr>\n",
       "    <tr>\n",
       "      <th>3</th>\n",
       "      <td>244</td>\n",
       "      <td>51</td>\n",
       "      <td>2</td>\n",
       "    </tr>\n",
       "    <tr>\n",
       "      <th>4</th>\n",
       "      <td>166</td>\n",
       "      <td>346</td>\n",
       "      <td>1</td>\n",
       "    </tr>\n",
       "  </tbody>\n",
       "</table>\n",
       "</div>"
      ],
      "text/plain": [
       "   user_id  movie_id  rating\n",
       "0      196       242       3\n",
       "1      186       302       3\n",
       "2       22       377       1\n",
       "3      244        51       2\n",
       "4      166       346       1"
      ]
     },
     "execution_count": 26,
     "metadata": {},
     "output_type": "execute_result"
    }
   ],
   "source": [
    "# timestamp 제거\n",
    "ratings = ratings.drop('timestamp', axis=1)\n",
    "ratings.head()"
   ]
  },
  {
   "cell_type": "markdown",
   "id": "aTDbF7Zr1urS",
   "metadata": {
    "id": "aTDbF7Zr1urS"
   },
   "source": [
    "## MF Class\n",
    "- 결손값을 메꾸지 않고 관측된 평가값만을 사용하여 latent factor model 구현\n",
    "- 기계학습 방법을 이용하여 최대한 $R$ 에 가까운 근사값 $\\hat{R}$ 을 구함\n",
    "    - $R$ = $|U| * |I|$ : user-item rating matrix ($rank k < n$)\n",
    "    - $P^T \\rightarrow |U| * k$ : user latent matrix\n",
    "    - $Q \\rightarrow k * |I|$ : item latent matrix\n",
    "    - $R \\approx P^T * Q = \\hat{R}$\n",
    "    \n",
    "- Optimization 방법\n",
    "    - SGD (Stochastic Gradient Descent)\n",
    "    - ALS (Alternating Least Squares)"
   ]
  },
  {
   "cell_type": "code",
   "execution_count": 27,
   "id": "NRkHlNYP1xjN",
   "metadata": {
    "executionInfo": {
     "elapsed": 338,
     "status": "ok",
     "timestamp": 1728872535066,
     "user": {
      "displayName": "옥철영",
      "userId": "13462808953739637244"
     },
     "user_tz": -540
    },
    "id": "NRkHlNYP1xjN"
   },
   "outputs": [],
   "source": [
    "class MF():\n",
    "    def __init__(self, ratings, K, alpha, beta, iterations, verbose=True):\n",
    "        self.R = np.array(ratings)\n",
    "        self.num_users, self.num_items = np.shape(self.R) # 행과 열 개수를 반환하여 사용자 수와 아이템 수를 저장\n",
    "        self.K = K            # 잠재 요인의 차원\n",
    "        self.alpha = alpha    # 학습률\n",
    "        self.beta = beta      # 정규화 계수 (오버피팅 방지)\n",
    "        self.iterations = iterations  # 반복횟수\n",
    "        self.verbose = verbose # 학습 과정 출력 여부\n",
    "\n",
    "    # Root Mean Squared Error (RMSE) 계산 \n",
    "    def rmse(self):\n",
    "        xs, ys = self.R.nonzero()     # R에서 평점이 있는 요소의 index (0이 아닌 값의 인덱스)\n",
    "        self.predictions = [] # 예측 평가값\n",
    "        self.errors = [] \n",
    "        for x, y in zip(xs, ys):\n",
    "            prediction = self.get_prediction(x, y) \n",
    "            self.predictions.append(prediction) # 사용자 x와 아이템 y의 예측 평점을 반환\n",
    "            self.errors.append(self.R[x, y] - prediction) # 모든 X,y에 대해 처리\n",
    "        self.predictions = np.array(self.predictions) # 예측된 평점 리스트\n",
    "        self.errors = np.array(self.errors)\n",
    "        return np.sqrt(np.mean(self.errors**2)) # 평균 제곱 오차의 제곱근\n",
    "\n",
    "    # 정해진 횟수만큼 P, Q, bu, bd 값을 update\n",
    "    def train(self): # 편미분\n",
    "        \n",
    "        # Initializing user-feature and item-feature matrix\n",
    "        # 평균 0, 표준편차 1/k인 정규분포를 갖는 난수로 초기화 \n",
    "        self.P = np.random.normal(scale=1./self.K, size=(self.num_users, self.K)) \n",
    "        self.Q = np.random.normal(scale=1./self.K, size=(self.num_items, self.K))\n",
    "\n",
    "        # Initializing the bias terms\n",
    "        self.b_u = np.zeros(self.num_users)\n",
    "        self.b_d = np.zeros(self.num_items)\n",
    "        self.b = np.mean(self.R[self.R.nonzero()]) # 관측된 평점의 평균값\n",
    "\n",
    "        # List of training samples\n",
    "        rows, columns = self.R.nonzero() \n",
    "        self.samples = [(i, j, self.R[i,j]) for i, j in zip(rows, columns)]\n",
    "\n",
    "        # 주어진 반복 횟수에 대해 Stochastic gradient descent \n",
    "        training_process = []\n",
    "        for i in range(self.iterations):\n",
    "            np.random.shuffle(self.samples)\n",
    "            self.sgd()\n",
    "            rmse = self.rmse()\n",
    "            training_process.append((i+1, rmse))\n",
    "            if self.verbose:\n",
    "                if (i+1) % 10 == 0:\n",
    "                    print(\"Iteration: %d ; Train RMSE = %.4f \" % (i+1, rmse))\n",
    "        return training_process\n",
    "\n",
    "    # 사용자 i 및 항목 j에 대한 등급 평점 예측\n",
    "    def get_prediction(self, i, j):\n",
    "        prediction = self.b + self.b_u[i] + self.b_d[j] + self.P[i, :].dot(self.Q[j, :].T)\n",
    "        return prediction\n",
    "\n",
    "    # Stochastic gradient descent 를 사용하여 최적화된 P 및 Q 행렬을 얻는다.\n",
    "    def sgd(self): # 경사하강법\n",
    "        for i, j, r in self.samples:\n",
    "            prediction = self.get_prediction(i, j)\n",
    "            e = (r - prediction)\n",
    "\n",
    "            self.b_u[i] += self.alpha * (e - self.beta * self.b_u[i])\n",
    "            self.b_d[j] += self.alpha * (e - self.beta * self.b_d[j])\n",
    "\n",
    "            self.P[i, :] += self.alpha * (e * self.Q[j, :] - self.beta * self.P[i,:])\n",
    "            self.Q[j, :] += self.alpha * (e * self.P[i, :] - self.beta * self.Q[j,:])"
   ]
  },
  {
   "cell_type": "markdown",
   "id": "1c4e21a2",
   "metadata": {},
   "source": [
    "1. 클래스 선언과 초기화\n",
    "2. RMSE 계산\n",
    "    - `self.R.nonzero()` : self.R에서 0이 아닌 값의 인덱스를 반환\n",
    "    - `get_predictions(x, y)`: 사용자 x와 아이템 y의 예측 평점을 반환\n",
    "    - `self.predictions`: 예측된 평점 리스트\n",
    "    - `self.errors`: 실제 평점과 예측 평점의 차이를 저장한 리스트\n",
    "3. 학습\n",
    "4. 평점 예측\n",
    "    - $ \\hat{r}_{ij} = b + b_u[i] + b_d[j] + P[i] \\cdot Q[j]^T $\n",
    "    - $b$ : 전반적인 바이어스\n",
    "    - $b_u[i]$ : 사용자 i의 바이어스\n",
    "    - $b_d[j]$ : 아이템 j의 바이어스\n",
    "    - $P[i] \\cdot Q[j]^T$ : 사용자와 아이템 간의 latent factor 내적\n",
    "5. SGD 구현\n",
    "    - 오차 계산 : $e = r - \\hat{r}$ : 실제 평점과 예측 평점의 차이\n",
    "    - 바이어스 업데이트 : $b_u[i]$ 와 $b_d[j]$ : 사용자와 아이템 바이어스 업데이트\n",
    "    - 잠재 요인 업데이트 : $P[i]$ 와 $Q[j]$ : 사용자와 아이템의 잠재 요인 업데이트\n",
    "\n",
    "- SGD를 통해  $P ,  Q ,  b_u ,  b_d$ 를 최적화한다. \n",
    "- 학습 과정을 거처 새로운 사용자 - 아이템 조합에 대한 평점을 예측가능\n"
   ]
  },
  {
   "cell_type": "markdown",
   "id": "92e42fb5-6c1c-476e-bcc4-bda93af7a426",
   "metadata": {
    "id": "92e42fb5-6c1c-476e-bcc4-bda93af7a426"
   },
   "source": [
    "# 전체 데이터에서 추천"
   ]
  },
  {
   "cell_type": "code",
   "execution_count": 28,
   "id": "93ac8bd4-3410-4f90-8997-40199278331e",
   "metadata": {
    "colab": {
     "base_uri": "https://localhost:8080/"
    },
    "executionInfo": {
     "elapsed": 286631,
     "status": "ok",
     "timestamp": 1728872839442,
     "user": {
      "displayName": "옥철영",
      "userId": "13462808953739637244"
     },
     "user_tz": -540
    },
    "id": "93ac8bd4-3410-4f90-8997-40199278331e",
    "outputId": "7f595903-5f9d-4fa4-b9b0-50708e7fc959"
   },
   "outputs": [
    {
     "name": "stdout",
     "output_type": "stream",
     "text": [
      "Iteration: 10 ; Train RMSE = 0.9585 \n",
      "Iteration: 20 ; Train RMSE = 0.9374 \n",
      "Iteration: 30 ; Train RMSE = 0.9281 \n",
      "Iteration: 40 ; Train RMSE = 0.9225 \n",
      "Iteration: 50 ; Train RMSE = 0.9184 \n",
      "Iteration: 60 ; Train RMSE = 0.9146 \n",
      "Iteration: 70 ; Train RMSE = 0.9102 \n",
      "Iteration: 80 ; Train RMSE = 0.9041 \n",
      "Iteration: 90 ; Train RMSE = 0.8956 \n",
      "Iteration: 100 ; Train RMSE = 0.8840 \n",
      "Iteration: 110 ; Train RMSE = 0.8700 \n",
      "Iteration: 120 ; Train RMSE = 0.8544 \n",
      "Iteration: 130 ; Train RMSE = 0.8375 \n",
      "Iteration: 140 ; Train RMSE = 0.8196 \n",
      "Iteration: 150 ; Train RMSE = 0.8010 \n"
     ]
    }
   ],
   "source": [
    "R_temp = ratings.pivot(index='user_id', columns='movie_id', values='rating').fillna(0)\n",
    "mf = MF(R_temp, K=30, alpha=0.001, beta=0.02, iterations=150, verbose=True)\n",
    "train_process = mf.train()"
   ]
  }
 ],
 "metadata": {
  "colab": {
   "provenance": []
  },
  "kernelspec": {
   "display_name": "ai_recmd",
   "language": "python",
   "name": "python3"
  },
  "language_info": {
   "codemirror_mode": {
    "name": "ipython",
    "version": 3
   },
   "file_extension": ".py",
   "mimetype": "text/x-python",
   "name": "python",
   "nbconvert_exporter": "python",
   "pygments_lexer": "ipython3",
   "version": "3.11.9"
  }
 },
 "nbformat": 4,
 "nbformat_minor": 5
}

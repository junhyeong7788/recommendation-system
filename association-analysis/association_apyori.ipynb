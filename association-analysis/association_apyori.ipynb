{
 "cells": [
  {
   "cell_type": "markdown",
   "metadata": {},
   "source": [
    "## apyori (어프라이어리)\n",
    "- `빈발 항목 집합` : 최소 지지도 이상인 항목 집합\n",
    "- 모든 항목 집합에 대한 **복잡한 계산량** 을 줄이기 위해 최소 지지도를 정하고 그 이상의 값만 찾아 연관 규칙을 생성\n",
    "    - 장점 : 원리가 간단함\n",
    "    - 단점 : 데이터가 클수록 속도가 느려지고 연산량이 많아짐"
   ]
  },
  {
   "cell_type": "code",
   "execution_count": null,
   "metadata": {},
   "outputs": [],
   "source": [
    "# !pip install apyori"
   ]
  },
  {
   "cell_type": "markdown",
   "metadata": {},
   "source": [
    "- `apriori(transactions, **kwargs)`\n",
    "    - transactions : 리스트 형태의 transaction 데이터 입력\n",
    "    - **kwargs : min_support, min_confidence, min_lift, max_length, etc.\n",
    "    - 출력 : RelatyionRecord 객체에 규칙을 저장"
   ]
  },
  {
   "cell_type": "code",
   "execution_count": 1,
   "metadata": {},
   "outputs": [],
   "source": [
    "# apyori 라이브러리를 읽어 들인다.\n",
    "import apyori as ap"
   ]
  },
  {
   "cell_type": "code",
   "execution_count": 2,
   "metadata": {},
   "outputs": [],
   "source": [
    "# 청년마트 T 자료를 입력한다.\n",
    "T = [['우유','계란','커피'],\n",
    "      ['빵','우유','버터','휴지','라면'],\n",
    "      ['맥주', '땅콩'],\n",
    "      ['계란','빵','우유','생수'],\n",
    "      ['햇반','커피','간장','계란']]"
   ]
  },
  {
   "cell_type": "markdown",
   "metadata": {},
   "source": [
    "### apriori 실행"
   ]
  },
  {
   "cell_type": "code",
   "execution_count": 3,
   "metadata": {},
   "outputs": [
    {
     "name": "stdout",
     "output_type": "stream",
     "text": [
      "<generator object apriori at 0x104b9c300>\n",
      "[['우유', '계란', '커피'], ['빵', '우유', '버터', '휴지', '라면'], ['맥주', '땅콩'], ['계란', '빵', '우유', '생수'], ['햇반', '커피', '간장', '계란']]\n"
     ]
    }
   ],
   "source": [
    "# 청년마트 T에서 최소 지지도 0.3, 최소 신뢰도 0.7을 충족하는\n",
    "#         연관 규칙 rules을 생성하고 출력한다.\n",
    "#         ap.apriori ( transactions, **kwarg)\n",
    "\n",
    "rules = ap.apriori(T, min_support= 0.3, min_confidence = 0.7)\n",
    "print(rules)\n",
    "print(T)"
   ]
  },
  {
   "cell_type": "markdown",
   "metadata": {},
   "source": [
    "- rules가 generator로 만들어짐\n",
    "### print rules"
   ]
  },
  {
   "cell_type": "code",
   "execution_count": 4,
   "metadata": {},
   "outputs": [
    {
     "name": "stdout",
     "output_type": "stream",
     "text": [
      "RelationRecord(items=frozenset({'계란', '커피'}), support=0.4, ordered_statistics=[OrderedStatistic(items_base=frozenset({'커피'}), items_add=frozenset({'계란'}), confidence=1.0, lift=1.6666666666666667)])\n",
      "RelationRecord(items=frozenset({'우유', '빵'}), support=0.4, ordered_statistics=[OrderedStatistic(items_base=frozenset({'빵'}), items_add=frozenset({'우유'}), confidence=1.0, lift=1.6666666666666667)])\n"
     ]
    }
   ],
   "source": [
    "# rules를 한 줄씩 출력한다.\n",
    "\n",
    "for rule in rules :\n",
    "  print(rule)"
   ]
  },
  {
   "cell_type": "markdown",
   "metadata": {},
   "source": [
    "### rule을 list로 저장"
   ]
  },
  {
   "cell_type": "code",
   "execution_count": 5,
   "metadata": {},
   "outputs": [],
   "source": [
    "# 위에서 생성된 객체를 살펴보기 위해서 Rules_lst에 저장한다.\n",
    "# rules는 generator 였다.  한 번 생성되고 한 번 순회 iterate 하면\n",
    "# 객체는 비어있는 상태가 된다.\n",
    "# 규칙 rules를 계속 참조하기 위해 list로 저장하자.\n",
    "\n",
    "# list에 저장하기 위해서는 비어진 apriori  함수를 재실행 해야 하고,\n",
    "# 리스트에 저장한다.\n",
    "\n",
    "rules = ap.apriori (T, min_support= 0.3, min_confidence = 0.7)\n",
    "rules_lst = list(rules)"
   ]
  },
  {
   "cell_type": "code",
   "execution_count": 6,
   "metadata": {},
   "outputs": [
    {
     "name": "stdout",
     "output_type": "stream",
     "text": [
      "RelationRecord(items=frozenset({'계란', '커피'}), support=0.4, ordered_statistics=[OrderedStatistic(items_base=frozenset({'커피'}), items_add=frozenset({'계란'}), confidence=1.0, lift=1.6666666666666667)])\n"
     ]
    }
   ],
   "source": [
    "# 2.1.6.2 리스트에 저장된 첫 규칙을 출력한다.\n",
    "print(rules_lst[0])"
   ]
  },
  {
   "cell_type": "markdown",
   "metadata": {},
   "source": [
    "### 연관규칙 구조 이해"
   ]
  },
  {
   "cell_type": "code",
   "execution_count": 8,
   "metadata": {},
   "outputs": [
    {
     "data": {
      "text/plain": [
       "\"\\nRelationRecord(\\n    items=frozenset({'커피', '계란'}),\\n    support=0.4,\\n    ordered_statistics=\\n     [\\n         OrderedStatistic(\\n             items_base=frozenset({'커피'}),\\n             items_add=frozenset({'계란'}),\\n             confidence=1.0,\\n             lift=1.6666666666666667)]\\n)\\n\""
      ]
     },
     "execution_count": 8,
     "metadata": {},
     "output_type": "execute_result"
    }
   ],
   "source": [
    "# (Relation의 구조)\n",
    "'''\n",
    "RelationRecord(\n",
    "    items=frozenset({'커피', '계란'}),\n",
    "    support=0.4,\n",
    "    ordered_statistics=\n",
    "     [\n",
    "         OrderedStatistic(\n",
    "             items_base=frozenset({'커피'}),\n",
    "             items_add=frozenset({'계란'}),\n",
    "             confidence=1.0,\n",
    "             lift=1.6666666666666667)]\n",
    ")\n",
    "'''"
   ]
  },
  {
   "cell_type": "markdown",
   "metadata": {},
   "source": [
    "### 연관규칙 출력함수 정의\n",
    "* RelationRecord 형태로는 이해가 어렵다.\n",
    "* 아래 예시 처럼 이해 하기 쉬운 형태로 출력하는 함수 print_rr 정의\n",
    "> {'커피'}=>{'계란'}, support=0.40, confidence=1.00, lift=1.67"
   ]
  },
  {
   "cell_type": "code",
   "execution_count": 9,
   "metadata": {},
   "outputs": [
    {
     "name": "stdout",
     "output_type": "stream",
     "text": [
      "{'커피'} {'계란'}\n"
     ]
    }
   ],
   "source": [
    "# 첫 번째 규칙에서 선행항과 후행항을 출력해보자.\n",
    "lhs = rules_lst[0][2][0][0]\n",
    "rhs = rules_lst[0][2][0][1]\n",
    "print(set(lhs), set(rhs))"
   ]
  },
  {
   "cell_type": "code",
   "execution_count": 10,
   "metadata": {},
   "outputs": [
    {
     "name": "stdout",
     "output_type": "stream",
     "text": [
      "0.40, 1.00, 1.67\n"
     ]
    }
   ],
   "source": [
    "# 첫 번째 규칙에서 지지도, 신뢰도, 리프트를 소수점 2째자리까지 출력해보자.\n",
    "support = rules_lst[0][1]\n",
    "confidence = rules_lst[0][2][0][2]\n",
    "lift = rules_lst[0][2][0][3]\n",
    "\n",
    "# 소수점 이하 두자리 출력 예) 0.40, 1.00,1.67\n",
    "print ( f'{support :.2f}, {confidence :.2f}, {lift :.2f}' )"
   ]
  },
  {
   "cell_type": "code",
   "execution_count": 11,
   "metadata": {},
   "outputs": [
    {
     "name": "stdout",
     "output_type": "stream",
     "text": [
      "{'빵'}=>{'우유'}, support=0.40,  confidence=1.00, lift=1.67 \n"
     ]
    }
   ],
   "source": [
    "# 연관규칙 RelationRecord의 정보를 출력할 수 있는 함수 print_rr를 정의\n",
    "#  예시 : {'커피'}=>{'계란'}, support=0.40, confidence=1.00, lift=1.67\n",
    "#  두 번째 규칙 rule_lst {'빵'}=>{'우유'}를 출력한다.\n",
    "\n",
    "def print_rr(rr) :\n",
    "  support = rr[1]\n",
    "  ord_st = list(rr[2])\n",
    "  if len(ord_st) >=1 :\n",
    "    for  i in ord_st :\n",
    "      lhs = set(i[0])\n",
    "      rhs = set(i[1]) \n",
    "\n",
    "      confidence = i[2]\n",
    "      lift = i[3]\n",
    "      print (f'{lhs}=>{rhs}, support={support:.2f},',\n",
    "          f' confidence={confidence:.2f}, lift={lift:.2f} ')\n",
    "\n",
    "print_rr(rules_lst[1])"
   ]
  },
  {
   "cell_type": "markdown",
   "metadata": {},
   "source": [
    "#### 지지도 0.3, 신뢰도 0.7"
   ]
  },
  {
   "cell_type": "code",
   "execution_count": 12,
   "metadata": {},
   "outputs": [
    {
     "name": "stdout",
     "output_type": "stream",
     "text": [
      "min sup : 0.3,  min conf : 0.7\n",
      "{'커피'}=>{'계란'}, support=0.40,  confidence=1.00, lift=1.67 \n",
      "{'빵'}=>{'우유'}, support=0.40,  confidence=1.00, lift=1.67 \n"
     ]
    }
   ],
   "source": [
    "# 위에서 정의한 지지도 0.3, 신뢰도 0.7의 규칙을 담고있는\n",
    "# rules_lst를 for 문과 print_rr을 이용해서 출력한다.\n",
    "\n",
    "print('min sup : 0.3,  min conf : 0.7')\n",
    "\n",
    "for rule in rules_lst :\n",
    "  print_rr(rule)"
   ]
  },
  {
   "cell_type": "markdown",
   "metadata": {},
   "source": [
    "### 다른 지지도, 신뢰도의 규칙 관찰\n",
    "- 지지도 0.3, 신뢰도 0.6\n",
    "    - 지지도와 신뢰도를 바꿔가면서 규칙 관찰"
   ]
  },
  {
   "cell_type": "code",
   "execution_count": 13,
   "metadata": {},
   "outputs": [
    {
     "name": "stdout",
     "output_type": "stream",
     "text": [
      "min sup : 0.3,  min conf : 0.6\n",
      "set()=>{'계란'}, support=0.60,  confidence=0.60, lift=1.00 \n",
      "set()=>{'우유'}, support=0.60,  confidence=0.60, lift=1.00 \n",
      "{'계란'}=>{'우유'}, support=0.40,  confidence=0.67, lift=1.11 \n",
      "{'우유'}=>{'계란'}, support=0.40,  confidence=0.67, lift=1.11 \n",
      "{'계란'}=>{'커피'}, support=0.40,  confidence=0.67, lift=1.67 \n",
      "{'커피'}=>{'계란'}, support=0.40,  confidence=1.00, lift=1.67 \n",
      "{'빵'}=>{'우유'}, support=0.40,  confidence=1.00, lift=1.67 \n",
      "{'우유'}=>{'빵'}, support=0.40,  confidence=0.67, lift=1.67 \n"
     ]
    }
   ],
   "source": [
    "# 지지도 0.3, 신뢰도 0.6의 규칙을 생성하고 이를 출력해보자.\n",
    "# 리스트를 생성할 필요 없이 생성된 규칙 generator를 직접 순회\n",
    "\n",
    "rules_03_06 = ap.apriori(T, min_support= 0.3, min_confidence = 0.6)\n",
    "\n",
    "print('min sup : 0.3,  min conf : 0.6')\n",
    "\n",
    "for rule in rules_03_06 :\n",
    "  print_rr(rule)"
   ]
  },
  {
   "cell_type": "markdown",
   "metadata": {},
   "source": [
    "- 지지도 0.2, 신뢰도 0.7"
   ]
  },
  {
   "cell_type": "code",
   "execution_count": 14,
   "metadata": {},
   "outputs": [
    {
     "name": "stdout",
     "output_type": "stream",
     "text": [
      "min sup : 0.2,  min conf : 0.7\n",
      "{'간장'}=>{'계란'}, support=0.20,  confidence=1.00, lift=1.67 \n",
      "{'간장'}=>{'커피'}, support=0.20,  confidence=1.00, lift=2.50 \n",
      "{'간장'}=>{'햇반'}, support=0.20,  confidence=1.00, lift=5.00 \n",
      "{'햇반'}=>{'간장'}, support=0.20,  confidence=1.00, lift=5.00 \n",
      "{'생수'}=>{'계란'}, support=0.20,  confidence=1.00, lift=1.67 \n",
      "{'커피'}=>{'계란'}, support=0.40,  confidence=1.00, lift=1.67 \n",
      "{'햇반'}=>{'계란'}, support=0.20,  confidence=1.00, lift=1.67 \n",
      "{'땅콩'}=>{'맥주'}, support=0.20,  confidence=1.00, lift=5.00 \n",
      "{'맥주'}=>{'땅콩'}, support=0.20,  confidence=1.00, lift=5.00 \n",
      "{'라면'}=>{'버터'}, support=0.20,  confidence=1.00, lift=5.00 \n",
      "{'버터'}=>{'라면'}, support=0.20,  confidence=1.00, lift=5.00 \n",
      "{'라면'}=>{'빵'}, support=0.20,  confidence=1.00, lift=2.50 \n",
      "{'라면'}=>{'우유'}, support=0.20,  confidence=1.00, lift=1.67 \n",
      "{'라면'}=>{'휴지'}, support=0.20,  confidence=1.00, lift=5.00 \n",
      "{'휴지'}=>{'라면'}, support=0.20,  confidence=1.00, lift=5.00 \n",
      "{'버터'}=>{'빵'}, support=0.20,  confidence=1.00, lift=2.50 \n",
      "{'버터'}=>{'우유'}, support=0.20,  confidence=1.00, lift=1.67 \n",
      "{'버터'}=>{'휴지'}, support=0.20,  confidence=1.00, lift=5.00 \n",
      "{'휴지'}=>{'버터'}, support=0.20,  confidence=1.00, lift=5.00 \n",
      "{'생수'}=>{'빵'}, support=0.20,  confidence=1.00, lift=2.50 \n",
      "{'빵'}=>{'우유'}, support=0.40,  confidence=1.00, lift=1.67 \n",
      "{'휴지'}=>{'빵'}, support=0.20,  confidence=1.00, lift=2.50 \n",
      "{'생수'}=>{'우유'}, support=0.20,  confidence=1.00, lift=1.67 \n",
      "{'휴지'}=>{'우유'}, support=0.20,  confidence=1.00, lift=1.67 \n",
      "{'햇반'}=>{'커피'}, support=0.20,  confidence=1.00, lift=2.50 \n",
      "{'간장'}=>{'계란', '커피'}, support=0.20,  confidence=1.00, lift=2.50 \n",
      "{'간장', '계란'}=>{'커피'}, support=0.20,  confidence=1.00, lift=2.50 \n",
      "{'간장', '커피'}=>{'계란'}, support=0.20,  confidence=1.00, lift=1.67 \n",
      "{'간장'}=>{'계란', '햇반'}, support=0.20,  confidence=1.00, lift=5.00 \n",
      "{'햇반'}=>{'간장', '계란'}, support=0.20,  confidence=1.00, lift=5.00 \n",
      "{'간장', '계란'}=>{'햇반'}, support=0.20,  confidence=1.00, lift=5.00 \n",
      "{'간장', '햇반'}=>{'계란'}, support=0.20,  confidence=1.00, lift=1.67 \n",
      "{'계란', '햇반'}=>{'간장'}, support=0.20,  confidence=1.00, lift=5.00 \n",
      "{'간장'}=>{'커피', '햇반'}, support=0.20,  confidence=1.00, lift=5.00 \n",
      "{'햇반'}=>{'간장', '커피'}, support=0.20,  confidence=1.00, lift=5.00 \n",
      "{'간장', '커피'}=>{'햇반'}, support=0.20,  confidence=1.00, lift=5.00 \n",
      "{'간장', '햇반'}=>{'커피'}, support=0.20,  confidence=1.00, lift=2.50 \n",
      "{'햇반', '커피'}=>{'간장'}, support=0.20,  confidence=1.00, lift=5.00 \n",
      "{'생수'}=>{'계란', '빵'}, support=0.20,  confidence=1.00, lift=5.00 \n",
      "{'계란', '빵'}=>{'생수'}, support=0.20,  confidence=1.00, lift=5.00 \n",
      "{'계란', '생수'}=>{'빵'}, support=0.20,  confidence=1.00, lift=2.50 \n",
      "{'생수', '빵'}=>{'계란'}, support=0.20,  confidence=1.00, lift=1.67 \n",
      "{'계란', '빵'}=>{'우유'}, support=0.20,  confidence=1.00, lift=1.67 \n",
      "{'생수'}=>{'계란', '우유'}, support=0.20,  confidence=1.00, lift=2.50 \n",
      "{'계란', '생수'}=>{'우유'}, support=0.20,  confidence=1.00, lift=1.67 \n",
      "{'생수', '우유'}=>{'계란'}, support=0.20,  confidence=1.00, lift=1.67 \n",
      "{'우유', '커피'}=>{'계란'}, support=0.20,  confidence=1.00, lift=1.67 \n",
      "{'햇반'}=>{'계란', '커피'}, support=0.20,  confidence=1.00, lift=2.50 \n",
      "{'계란', '햇반'}=>{'커피'}, support=0.20,  confidence=1.00, lift=2.50 \n",
      "{'햇반', '커피'}=>{'계란'}, support=0.20,  confidence=1.00, lift=1.67 \n",
      "{'라면'}=>{'버터', '빵'}, support=0.20,  confidence=1.00, lift=5.00 \n",
      "{'버터'}=>{'라면', '빵'}, support=0.20,  confidence=1.00, lift=5.00 \n",
      "{'버터', '라면'}=>{'빵'}, support=0.20,  confidence=1.00, lift=2.50 \n",
      "{'라면', '빵'}=>{'버터'}, support=0.20,  confidence=1.00, lift=5.00 \n",
      "{'버터', '빵'}=>{'라면'}, support=0.20,  confidence=1.00, lift=5.00 \n",
      "{'라면'}=>{'버터', '우유'}, support=0.20,  confidence=1.00, lift=5.00 \n",
      "{'버터'}=>{'우유', '라면'}, support=0.20,  confidence=1.00, lift=5.00 \n",
      "{'버터', '라면'}=>{'우유'}, support=0.20,  confidence=1.00, lift=1.67 \n",
      "{'우유', '라면'}=>{'버터'}, support=0.20,  confidence=1.00, lift=5.00 \n",
      "{'버터', '우유'}=>{'라면'}, support=0.20,  confidence=1.00, lift=5.00 \n",
      "{'라면'}=>{'버터', '휴지'}, support=0.20,  confidence=1.00, lift=5.00 \n",
      "{'버터'}=>{'휴지', '라면'}, support=0.20,  confidence=1.00, lift=5.00 \n",
      "{'휴지'}=>{'버터', '라면'}, support=0.20,  confidence=1.00, lift=5.00 \n",
      "{'버터', '라면'}=>{'휴지'}, support=0.20,  confidence=1.00, lift=5.00 \n",
      "{'휴지', '라면'}=>{'버터'}, support=0.20,  confidence=1.00, lift=5.00 \n",
      "{'버터', '휴지'}=>{'라면'}, support=0.20,  confidence=1.00, lift=5.00 \n",
      "{'라면'}=>{'우유', '빵'}, support=0.20,  confidence=1.00, lift=2.50 \n",
      "{'라면', '빵'}=>{'우유'}, support=0.20,  confidence=1.00, lift=1.67 \n",
      "{'우유', '라면'}=>{'빵'}, support=0.20,  confidence=1.00, lift=2.50 \n",
      "{'라면'}=>{'휴지', '빵'}, support=0.20,  confidence=1.00, lift=5.00 \n",
      "{'휴지'}=>{'라면', '빵'}, support=0.20,  confidence=1.00, lift=5.00 \n",
      "{'라면', '빵'}=>{'휴지'}, support=0.20,  confidence=1.00, lift=5.00 \n",
      "{'휴지', '라면'}=>{'빵'}, support=0.20,  confidence=1.00, lift=2.50 \n",
      "{'휴지', '빵'}=>{'라면'}, support=0.20,  confidence=1.00, lift=5.00 \n",
      "{'라면'}=>{'휴지', '우유'}, support=0.20,  confidence=1.00, lift=5.00 \n",
      "{'휴지'}=>{'우유', '라면'}, support=0.20,  confidence=1.00, lift=5.00 \n",
      "{'우유', '라면'}=>{'휴지'}, support=0.20,  confidence=1.00, lift=5.00 \n",
      "{'휴지', '라면'}=>{'우유'}, support=0.20,  confidence=1.00, lift=1.67 \n",
      "{'휴지', '우유'}=>{'라면'}, support=0.20,  confidence=1.00, lift=5.00 \n",
      "{'버터'}=>{'우유', '빵'}, support=0.20,  confidence=1.00, lift=2.50 \n",
      "{'버터', '빵'}=>{'우유'}, support=0.20,  confidence=1.00, lift=1.67 \n",
      "{'버터', '우유'}=>{'빵'}, support=0.20,  confidence=1.00, lift=2.50 \n",
      "{'버터'}=>{'휴지', '빵'}, support=0.20,  confidence=1.00, lift=5.00 \n",
      "{'휴지'}=>{'버터', '빵'}, support=0.20,  confidence=1.00, lift=5.00 \n",
      "{'버터', '빵'}=>{'휴지'}, support=0.20,  confidence=1.00, lift=5.00 \n",
      "{'버터', '휴지'}=>{'빵'}, support=0.20,  confidence=1.00, lift=2.50 \n",
      "{'휴지', '빵'}=>{'버터'}, support=0.20,  confidence=1.00, lift=5.00 \n",
      "{'버터'}=>{'휴지', '우유'}, support=0.20,  confidence=1.00, lift=5.00 \n",
      "{'휴지'}=>{'버터', '우유'}, support=0.20,  confidence=1.00, lift=5.00 \n",
      "{'버터', '우유'}=>{'휴지'}, support=0.20,  confidence=1.00, lift=5.00 \n",
      "{'버터', '휴지'}=>{'우유'}, support=0.20,  confidence=1.00, lift=1.67 \n",
      "{'휴지', '우유'}=>{'버터'}, support=0.20,  confidence=1.00, lift=5.00 \n",
      "{'생수'}=>{'우유', '빵'}, support=0.20,  confidence=1.00, lift=2.50 \n",
      "{'생수', '빵'}=>{'우유'}, support=0.20,  confidence=1.00, lift=1.67 \n",
      "{'생수', '우유'}=>{'빵'}, support=0.20,  confidence=1.00, lift=2.50 \n",
      "{'휴지'}=>{'우유', '빵'}, support=0.20,  confidence=1.00, lift=2.50 \n",
      "{'휴지', '빵'}=>{'우유'}, support=0.20,  confidence=1.00, lift=1.67 \n",
      "{'휴지', '우유'}=>{'빵'}, support=0.20,  confidence=1.00, lift=2.50 \n",
      "{'간장'}=>{'커피', '계란', '햇반'}, support=0.20,  confidence=1.00, lift=5.00 \n",
      "{'햇반'}=>{'간장', '계란', '커피'}, support=0.20,  confidence=1.00, lift=5.00 \n",
      "{'간장', '계란'}=>{'커피', '햇반'}, support=0.20,  confidence=1.00, lift=5.00 \n",
      "{'간장', '커피'}=>{'계란', '햇반'}, support=0.20,  confidence=1.00, lift=5.00 \n",
      "{'간장', '햇반'}=>{'계란', '커피'}, support=0.20,  confidence=1.00, lift=2.50 \n",
      "{'계란', '햇반'}=>{'간장', '커피'}, support=0.20,  confidence=1.00, lift=5.00 \n",
      "{'햇반', '커피'}=>{'간장', '계란'}, support=0.20,  confidence=1.00, lift=5.00 \n",
      "{'간장', '계란', '커피'}=>{'햇반'}, support=0.20,  confidence=1.00, lift=5.00 \n",
      "{'간장', '계란', '햇반'}=>{'커피'}, support=0.20,  confidence=1.00, lift=2.50 \n",
      "{'간장', '햇반', '커피'}=>{'계란'}, support=0.20,  confidence=1.00, lift=1.67 \n",
      "{'햇반', '계란', '커피'}=>{'간장'}, support=0.20,  confidence=1.00, lift=5.00 \n",
      "{'생수'}=>{'계란', '우유', '빵'}, support=0.20,  confidence=1.00, lift=5.00 \n",
      "{'계란', '빵'}=>{'생수', '우유'}, support=0.20,  confidence=1.00, lift=5.00 \n",
      "{'계란', '생수'}=>{'우유', '빵'}, support=0.20,  confidence=1.00, lift=2.50 \n",
      "{'생수', '빵'}=>{'계란', '우유'}, support=0.20,  confidence=1.00, lift=2.50 \n",
      "{'생수', '우유'}=>{'계란', '빵'}, support=0.20,  confidence=1.00, lift=5.00 \n",
      "{'계란', '생수', '빵'}=>{'우유'}, support=0.20,  confidence=1.00, lift=1.67 \n",
      "{'계란', '우유', '빵'}=>{'생수'}, support=0.20,  confidence=1.00, lift=5.00 \n",
      "{'계란', '생수', '우유'}=>{'빵'}, support=0.20,  confidence=1.00, lift=2.50 \n",
      "{'생수', '우유', '빵'}=>{'계란'}, support=0.20,  confidence=1.00, lift=1.67 \n",
      "{'라면'}=>{'버터', '우유', '빵'}, support=0.20,  confidence=1.00, lift=5.00 \n",
      "{'버터'}=>{'우유', '라면', '빵'}, support=0.20,  confidence=1.00, lift=5.00 \n",
      "{'버터', '라면'}=>{'우유', '빵'}, support=0.20,  confidence=1.00, lift=2.50 \n",
      "{'라면', '빵'}=>{'버터', '우유'}, support=0.20,  confidence=1.00, lift=5.00 \n",
      "{'우유', '라면'}=>{'버터', '빵'}, support=0.20,  confidence=1.00, lift=5.00 \n",
      "{'버터', '빵'}=>{'우유', '라면'}, support=0.20,  confidence=1.00, lift=5.00 \n",
      "{'버터', '우유'}=>{'라면', '빵'}, support=0.20,  confidence=1.00, lift=5.00 \n",
      "{'버터', '라면', '빵'}=>{'우유'}, support=0.20,  confidence=1.00, lift=1.67 \n",
      "{'버터', '우유', '라면'}=>{'빵'}, support=0.20,  confidence=1.00, lift=2.50 \n",
      "{'우유', '라면', '빵'}=>{'버터'}, support=0.20,  confidence=1.00, lift=5.00 \n",
      "{'버터', '우유', '빵'}=>{'라면'}, support=0.20,  confidence=1.00, lift=5.00 \n",
      "{'라면'}=>{'버터', '휴지', '빵'}, support=0.20,  confidence=1.00, lift=5.00 \n",
      "{'버터'}=>{'휴지', '라면', '빵'}, support=0.20,  confidence=1.00, lift=5.00 \n",
      "{'휴지'}=>{'버터', '라면', '빵'}, support=0.20,  confidence=1.00, lift=5.00 \n",
      "{'버터', '라면'}=>{'휴지', '빵'}, support=0.20,  confidence=1.00, lift=5.00 \n",
      "{'라면', '빵'}=>{'버터', '휴지'}, support=0.20,  confidence=1.00, lift=5.00 \n",
      "{'휴지', '라면'}=>{'버터', '빵'}, support=0.20,  confidence=1.00, lift=5.00 \n",
      "{'버터', '빵'}=>{'휴지', '라면'}, support=0.20,  confidence=1.00, lift=5.00 \n",
      "{'버터', '휴지'}=>{'라면', '빵'}, support=0.20,  confidence=1.00, lift=5.00 \n",
      "{'휴지', '빵'}=>{'버터', '라면'}, support=0.20,  confidence=1.00, lift=5.00 \n",
      "{'버터', '라면', '빵'}=>{'휴지'}, support=0.20,  confidence=1.00, lift=5.00 \n",
      "{'버터', '휴지', '라면'}=>{'빵'}, support=0.20,  confidence=1.00, lift=2.50 \n",
      "{'휴지', '라면', '빵'}=>{'버터'}, support=0.20,  confidence=1.00, lift=5.00 \n",
      "{'버터', '휴지', '빵'}=>{'라면'}, support=0.20,  confidence=1.00, lift=5.00 \n",
      "{'라면'}=>{'버터', '휴지', '우유'}, support=0.20,  confidence=1.00, lift=5.00 \n",
      "{'버터'}=>{'라면', '휴지', '우유'}, support=0.20,  confidence=1.00, lift=5.00 \n",
      "{'휴지'}=>{'버터', '우유', '라면'}, support=0.20,  confidence=1.00, lift=5.00 \n",
      "{'버터', '라면'}=>{'휴지', '우유'}, support=0.20,  confidence=1.00, lift=5.00 \n",
      "{'우유', '라면'}=>{'버터', '휴지'}, support=0.20,  confidence=1.00, lift=5.00 \n",
      "{'휴지', '라면'}=>{'버터', '우유'}, support=0.20,  confidence=1.00, lift=5.00 \n",
      "{'버터', '우유'}=>{'휴지', '라면'}, support=0.20,  confidence=1.00, lift=5.00 \n",
      "{'버터', '휴지'}=>{'우유', '라면'}, support=0.20,  confidence=1.00, lift=5.00 \n",
      "{'휴지', '우유'}=>{'버터', '라면'}, support=0.20,  confidence=1.00, lift=5.00 \n",
      "{'버터', '우유', '라면'}=>{'휴지'}, support=0.20,  confidence=1.00, lift=5.00 \n",
      "{'버터', '휴지', '라면'}=>{'우유'}, support=0.20,  confidence=1.00, lift=1.67 \n",
      "{'휴지', '우유', '라면'}=>{'버터'}, support=0.20,  confidence=1.00, lift=5.00 \n",
      "{'휴지', '버터', '우유'}=>{'라면'}, support=0.20,  confidence=1.00, lift=5.00 \n",
      "{'라면'}=>{'휴지', '우유', '빵'}, support=0.20,  confidence=1.00, lift=5.00 \n",
      "{'휴지'}=>{'우유', '라면', '빵'}, support=0.20,  confidence=1.00, lift=5.00 \n",
      "{'라면', '빵'}=>{'휴지', '우유'}, support=0.20,  confidence=1.00, lift=5.00 \n",
      "{'우유', '라면'}=>{'휴지', '빵'}, support=0.20,  confidence=1.00, lift=5.00 \n",
      "{'휴지', '라면'}=>{'우유', '빵'}, support=0.20,  confidence=1.00, lift=2.50 \n",
      "{'휴지', '빵'}=>{'우유', '라면'}, support=0.20,  confidence=1.00, lift=5.00 \n",
      "{'휴지', '우유'}=>{'라면', '빵'}, support=0.20,  confidence=1.00, lift=5.00 \n",
      "{'우유', '라면', '빵'}=>{'휴지'}, support=0.20,  confidence=1.00, lift=5.00 \n",
      "{'휴지', '라면', '빵'}=>{'우유'}, support=0.20,  confidence=1.00, lift=1.67 \n",
      "{'휴지', '우유', '라면'}=>{'빵'}, support=0.20,  confidence=1.00, lift=2.50 \n",
      "{'휴지', '우유', '빵'}=>{'라면'}, support=0.20,  confidence=1.00, lift=5.00 \n",
      "{'버터'}=>{'휴지', '우유', '빵'}, support=0.20,  confidence=1.00, lift=5.00 \n",
      "{'휴지'}=>{'버터', '우유', '빵'}, support=0.20,  confidence=1.00, lift=5.00 \n",
      "{'버터', '빵'}=>{'휴지', '우유'}, support=0.20,  confidence=1.00, lift=5.00 \n",
      "{'버터', '우유'}=>{'휴지', '빵'}, support=0.20,  confidence=1.00, lift=5.00 \n",
      "{'버터', '휴지'}=>{'우유', '빵'}, support=0.20,  confidence=1.00, lift=2.50 \n",
      "{'휴지', '빵'}=>{'버터', '우유'}, support=0.20,  confidence=1.00, lift=5.00 \n",
      "{'휴지', '우유'}=>{'버터', '빵'}, support=0.20,  confidence=1.00, lift=5.00 \n",
      "{'버터', '우유', '빵'}=>{'휴지'}, support=0.20,  confidence=1.00, lift=5.00 \n",
      "{'버터', '휴지', '빵'}=>{'우유'}, support=0.20,  confidence=1.00, lift=1.67 \n",
      "{'휴지', '버터', '우유'}=>{'빵'}, support=0.20,  confidence=1.00, lift=2.50 \n",
      "{'휴지', '우유', '빵'}=>{'버터'}, support=0.20,  confidence=1.00, lift=5.00 \n",
      "{'라면'}=>{'휴지', '버터', '우유', '빵'}, support=0.20,  confidence=1.00, lift=5.00 \n",
      "{'버터'}=>{'휴지', '우유', '라면', '빵'}, support=0.20,  confidence=1.00, lift=5.00 \n",
      "{'휴지'}=>{'버터', '우유', '라면', '빵'}, support=0.20,  confidence=1.00, lift=5.00 \n",
      "{'버터', '라면'}=>{'휴지', '우유', '빵'}, support=0.20,  confidence=1.00, lift=5.00 \n",
      "{'라면', '빵'}=>{'휴지', '버터', '우유'}, support=0.20,  confidence=1.00, lift=5.00 \n",
      "{'우유', '라면'}=>{'버터', '휴지', '빵'}, support=0.20,  confidence=1.00, lift=5.00 \n",
      "{'휴지', '라면'}=>{'버터', '우유', '빵'}, support=0.20,  confidence=1.00, lift=5.00 \n",
      "{'버터', '빵'}=>{'휴지', '우유', '라면'}, support=0.20,  confidence=1.00, lift=5.00 \n",
      "{'버터', '우유'}=>{'휴지', '라면', '빵'}, support=0.20,  confidence=1.00, lift=5.00 \n",
      "{'버터', '휴지'}=>{'우유', '라면', '빵'}, support=0.20,  confidence=1.00, lift=5.00 \n",
      "{'휴지', '빵'}=>{'버터', '우유', '라면'}, support=0.20,  confidence=1.00, lift=5.00 \n",
      "{'휴지', '우유'}=>{'버터', '라면', '빵'}, support=0.20,  confidence=1.00, lift=5.00 \n",
      "{'버터', '라면', '빵'}=>{'휴지', '우유'}, support=0.20,  confidence=1.00, lift=5.00 \n",
      "{'버터', '우유', '라면'}=>{'휴지', '빵'}, support=0.20,  confidence=1.00, lift=5.00 \n",
      "{'버터', '휴지', '라면'}=>{'우유', '빵'}, support=0.20,  confidence=1.00, lift=2.50 \n",
      "{'우유', '라면', '빵'}=>{'버터', '휴지'}, support=0.20,  confidence=1.00, lift=5.00 \n",
      "{'휴지', '라면', '빵'}=>{'버터', '우유'}, support=0.20,  confidence=1.00, lift=5.00 \n",
      "{'휴지', '우유', '라면'}=>{'버터', '빵'}, support=0.20,  confidence=1.00, lift=5.00 \n",
      "{'버터', '우유', '빵'}=>{'휴지', '라면'}, support=0.20,  confidence=1.00, lift=5.00 \n",
      "{'버터', '휴지', '빵'}=>{'우유', '라면'}, support=0.20,  confidence=1.00, lift=5.00 \n",
      "{'휴지', '버터', '우유'}=>{'라면', '빵'}, support=0.20,  confidence=1.00, lift=5.00 \n",
      "{'휴지', '우유', '빵'}=>{'버터', '라면'}, support=0.20,  confidence=1.00, lift=5.00 \n",
      "{'버터', '우유', '라면', '빵'}=>{'휴지'}, support=0.20,  confidence=1.00, lift=5.00 \n",
      "{'버터', '휴지', '라면', '빵'}=>{'우유'}, support=0.20,  confidence=1.00, lift=1.67 \n",
      "{'휴지', '버터', '우유', '라면'}=>{'빵'}, support=0.20,  confidence=1.00, lift=2.50 \n",
      "{'휴지', '우유', '라면', '빵'}=>{'버터'}, support=0.20,  confidence=1.00, lift=5.00 \n",
      "{'휴지', '버터', '우유', '빵'}=>{'라면'}, support=0.20,  confidence=1.00, lift=5.00 \n"
     ]
    }
   ],
   "source": [
    "# 지지도 0.2, 신뢰도 0.7의 규칙을 생성하고 이를 출력해보자.\n",
    "rules_02_07 = ap.apriori(T, min_support= 0.2, min_confidence = 0.7)\n",
    "print('min sup : 0.2,  min conf : 0.7')\n",
    "for rule in rules_02_07:\n",
    "  print_rr(rule)"
   ]
  },
  {
   "cell_type": "markdown",
   "metadata": {},
   "source": [
    "### grocery 데이터 분석하기\n",
    "- grocery 데이터 적재"
   ]
  },
  {
   "cell_type": "code",
   "execution_count": 15,
   "metadata": {},
   "outputs": [
    {
     "data": {
      "text/html": [
       "<div>\n",
       "<style scoped>\n",
       "    .dataframe tbody tr th:only-of-type {\n",
       "        vertical-align: middle;\n",
       "    }\n",
       "\n",
       "    .dataframe tbody tr th {\n",
       "        vertical-align: top;\n",
       "    }\n",
       "\n",
       "    .dataframe thead th {\n",
       "        text-align: right;\n",
       "    }\n",
       "</style>\n",
       "<table border=\"1\" class=\"dataframe\">\n",
       "  <thead>\n",
       "    <tr style=\"text-align: right;\">\n",
       "      <th></th>\n",
       "      <th>0</th>\n",
       "      <th>1</th>\n",
       "      <th>2</th>\n",
       "      <th>3</th>\n",
       "      <th>4</th>\n",
       "      <th>5</th>\n",
       "      <th>6</th>\n",
       "      <th>7</th>\n",
       "      <th>8</th>\n",
       "      <th>9</th>\n",
       "      <th>...</th>\n",
       "      <th>22</th>\n",
       "      <th>23</th>\n",
       "      <th>24</th>\n",
       "      <th>25</th>\n",
       "      <th>26</th>\n",
       "      <th>27</th>\n",
       "      <th>28</th>\n",
       "      <th>29</th>\n",
       "      <th>30</th>\n",
       "      <th>31</th>\n",
       "    </tr>\n",
       "  </thead>\n",
       "  <tbody>\n",
       "    <tr>\n",
       "      <th>9830</th>\n",
       "      <td>sausage</td>\n",
       "      <td>chicken</td>\n",
       "      <td>beef</td>\n",
       "      <td>hamburger meat</td>\n",
       "      <td>citrus fruit</td>\n",
       "      <td>grapes</td>\n",
       "      <td>root vegetables</td>\n",
       "      <td>whole milk</td>\n",
       "      <td>butter</td>\n",
       "      <td>whipped/sour cream</td>\n",
       "      <td>...</td>\n",
       "      <td>NaN</td>\n",
       "      <td>NaN</td>\n",
       "      <td>NaN</td>\n",
       "      <td>NaN</td>\n",
       "      <td>NaN</td>\n",
       "      <td>NaN</td>\n",
       "      <td>NaN</td>\n",
       "      <td>NaN</td>\n",
       "      <td>NaN</td>\n",
       "      <td>NaN</td>\n",
       "    </tr>\n",
       "    <tr>\n",
       "      <th>9831</th>\n",
       "      <td>cooking chocolate</td>\n",
       "      <td>NaN</td>\n",
       "      <td>NaN</td>\n",
       "      <td>NaN</td>\n",
       "      <td>NaN</td>\n",
       "      <td>NaN</td>\n",
       "      <td>NaN</td>\n",
       "      <td>NaN</td>\n",
       "      <td>NaN</td>\n",
       "      <td>NaN</td>\n",
       "      <td>...</td>\n",
       "      <td>NaN</td>\n",
       "      <td>NaN</td>\n",
       "      <td>NaN</td>\n",
       "      <td>NaN</td>\n",
       "      <td>NaN</td>\n",
       "      <td>NaN</td>\n",
       "      <td>NaN</td>\n",
       "      <td>NaN</td>\n",
       "      <td>NaN</td>\n",
       "      <td>NaN</td>\n",
       "    </tr>\n",
       "    <tr>\n",
       "      <th>9832</th>\n",
       "      <td>chicken</td>\n",
       "      <td>citrus fruit</td>\n",
       "      <td>other vegetables</td>\n",
       "      <td>butter</td>\n",
       "      <td>yogurt</td>\n",
       "      <td>frozen dessert</td>\n",
       "      <td>domestic eggs</td>\n",
       "      <td>rolls/buns</td>\n",
       "      <td>rum</td>\n",
       "      <td>cling film/bags</td>\n",
       "      <td>...</td>\n",
       "      <td>NaN</td>\n",
       "      <td>NaN</td>\n",
       "      <td>NaN</td>\n",
       "      <td>NaN</td>\n",
       "      <td>NaN</td>\n",
       "      <td>NaN</td>\n",
       "      <td>NaN</td>\n",
       "      <td>NaN</td>\n",
       "      <td>NaN</td>\n",
       "      <td>NaN</td>\n",
       "    </tr>\n",
       "    <tr>\n",
       "      <th>9833</th>\n",
       "      <td>semi-finished bread</td>\n",
       "      <td>bottled water</td>\n",
       "      <td>soda</td>\n",
       "      <td>bottled beer</td>\n",
       "      <td>NaN</td>\n",
       "      <td>NaN</td>\n",
       "      <td>NaN</td>\n",
       "      <td>NaN</td>\n",
       "      <td>NaN</td>\n",
       "      <td>NaN</td>\n",
       "      <td>...</td>\n",
       "      <td>NaN</td>\n",
       "      <td>NaN</td>\n",
       "      <td>NaN</td>\n",
       "      <td>NaN</td>\n",
       "      <td>NaN</td>\n",
       "      <td>NaN</td>\n",
       "      <td>NaN</td>\n",
       "      <td>NaN</td>\n",
       "      <td>NaN</td>\n",
       "      <td>NaN</td>\n",
       "    </tr>\n",
       "    <tr>\n",
       "      <th>9834</th>\n",
       "      <td>chicken</td>\n",
       "      <td>tropical fruit</td>\n",
       "      <td>other vegetables</td>\n",
       "      <td>vinegar</td>\n",
       "      <td>shopping bags</td>\n",
       "      <td>NaN</td>\n",
       "      <td>NaN</td>\n",
       "      <td>NaN</td>\n",
       "      <td>NaN</td>\n",
       "      <td>NaN</td>\n",
       "      <td>...</td>\n",
       "      <td>NaN</td>\n",
       "      <td>NaN</td>\n",
       "      <td>NaN</td>\n",
       "      <td>NaN</td>\n",
       "      <td>NaN</td>\n",
       "      <td>NaN</td>\n",
       "      <td>NaN</td>\n",
       "      <td>NaN</td>\n",
       "      <td>NaN</td>\n",
       "      <td>NaN</td>\n",
       "    </tr>\n",
       "  </tbody>\n",
       "</table>\n",
       "<p>5 rows × 32 columns</p>\n",
       "</div>"
      ],
      "text/plain": [
       "                       0               1                 2               3   \\\n",
       "9830              sausage         chicken              beef  hamburger meat   \n",
       "9831    cooking chocolate             NaN               NaN             NaN   \n",
       "9832              chicken    citrus fruit  other vegetables          butter   \n",
       "9833  semi-finished bread   bottled water              soda    bottled beer   \n",
       "9834              chicken  tropical fruit  other vegetables         vinegar   \n",
       "\n",
       "                 4               5                6           7       8   \\\n",
       "9830   citrus fruit          grapes  root vegetables  whole milk  butter   \n",
       "9831            NaN             NaN              NaN         NaN     NaN   \n",
       "9832         yogurt  frozen dessert    domestic eggs  rolls/buns     rum   \n",
       "9833            NaN             NaN              NaN         NaN     NaN   \n",
       "9834  shopping bags             NaN              NaN         NaN     NaN   \n",
       "\n",
       "                      9   ...   22   23   24   25   26   27   28   29   30  \\\n",
       "9830  whipped/sour cream  ...  NaN  NaN  NaN  NaN  NaN  NaN  NaN  NaN  NaN   \n",
       "9831                 NaN  ...  NaN  NaN  NaN  NaN  NaN  NaN  NaN  NaN  NaN   \n",
       "9832     cling film/bags  ...  NaN  NaN  NaN  NaN  NaN  NaN  NaN  NaN  NaN   \n",
       "9833                 NaN  ...  NaN  NaN  NaN  NaN  NaN  NaN  NaN  NaN  NaN   \n",
       "9834                 NaN  ...  NaN  NaN  NaN  NaN  NaN  NaN  NaN  NaN  NaN   \n",
       "\n",
       "       31  \n",
       "9830  NaN  \n",
       "9831  NaN  \n",
       "9832  NaN  \n",
       "9833  NaN  \n",
       "9834  NaN  \n",
       "\n",
       "[5 rows x 32 columns]"
      ]
     },
     "execution_count": 15,
     "metadata": {},
     "output_type": "execute_result"
    }
   ],
   "source": [
    "# grocery 데이터 적재\n",
    "# grocery 데이터를 github로 부터 읽어 들이고 내용물을 확인한다.\n",
    "\n",
    "import pandas as pd\n",
    "\n",
    "path = '/Users/jun/Library/Mobile Documents/com~apple~CloudDocs/Github/ai _recommendation _system/data/association_data/groceries.csv'\n",
    "grocery_csv = pd.read_csv(path, header = None)\n",
    "grocery_csv.tail()"
   ]
  },
  {
   "cell_type": "code",
   "execution_count": 16,
   "metadata": {},
   "outputs": [
    {
     "name": "stdout",
     "output_type": "stream",
     "text": [
      "<class 'pandas.core.frame.DataFrame'>\n",
      "RangeIndex: 9835 entries, 0 to 9834\n",
      "Data columns (total 32 columns):\n",
      " #   Column  Non-Null Count  Dtype \n",
      "---  ------  --------------  ----- \n",
      " 0   0       9835 non-null   object\n",
      " 1   1       7676 non-null   object\n",
      " 2   2       6033 non-null   object\n",
      " 3   3       4734 non-null   object\n",
      " 4   4       3729 non-null   object\n",
      " 5   5       2874 non-null   object\n",
      " 6   6       2229 non-null   object\n",
      " 7   7       1684 non-null   object\n",
      " 8   8       1246 non-null   object\n",
      " 9   9       896 non-null    object\n",
      " 10  10      650 non-null    object\n",
      " 11  11      468 non-null    object\n",
      " 12  12      351 non-null    object\n",
      " 13  13      273 non-null    object\n",
      " 14  14      196 non-null    object\n",
      " 15  15      141 non-null    object\n",
      " 16  16      95 non-null     object\n",
      " 17  17      66 non-null     object\n",
      " 18  18      52 non-null     object\n",
      " 19  19      38 non-null     object\n",
      " 20  20      29 non-null     object\n",
      " 21  21      18 non-null     object\n",
      " 22  22      14 non-null     object\n",
      " 23  23      8 non-null      object\n",
      " 24  24      7 non-null      object\n",
      " 25  25      7 non-null      object\n",
      " 26  26      6 non-null      object\n",
      " 27  27      5 non-null      object\n",
      " 28  28      4 non-null      object\n",
      " 29  29      1 non-null      object\n",
      " 30  30      1 non-null      object\n",
      " 31  31      1 non-null      object\n",
      "dtypes: object(32)\n",
      "memory usage: 2.4+ MB\n"
     ]
    }
   ],
   "source": [
    "grocery_csv.info()"
   ]
  },
  {
   "cell_type": "markdown",
   "metadata": {},
   "source": [
    "### grocery 데이터 가공\n",
    "- apyori에서 분석 가능한 리스트 형태로 변환"
   ]
  },
  {
   "cell_type": "code",
   "execution_count": 17,
   "metadata": {},
   "outputs": [
    {
     "data": {
      "text/plain": [
       "[['citrus fruit', 'semi-finished bread', 'margarine', 'ready soups'],\n",
       " ['tropical fruit', 'yogurt', 'coffee'],\n",
       " ['whole milk']]"
      ]
     },
     "execution_count": 17,
     "metadata": {},
     "output_type": "execute_result"
    }
   ],
   "source": [
    "# grocery 데이터 가공\n",
    "# grocery 데이터를 apyori 라이브러리에서 사용 할 수 있는 형태인\n",
    "# 리스트 형태로 변환한다.\n",
    "# DataFramd의 '행'단위 순회 메소드 .iterrows()--> idx, row_series\n",
    "\n",
    "grocery_list = [ row_series.dropna().to_list()  for idx, row_series in grocery_csv.iterrows()]\n",
    "\n",
    "# 마지막 3개 리스트 출력\n",
    "grocery_list[:3]"
   ]
  },
  {
   "cell_type": "markdown",
   "metadata": {},
   "source": [
    "### 트랜잭션(거래)과 항목 수 확인"
   ]
  },
  {
   "cell_type": "code",
   "execution_count": 18,
   "metadata": {},
   "outputs": [
    {
     "data": {
      "text/plain": [
       "9835"
      ]
     },
     "execution_count": 18,
     "metadata": {},
     "output_type": "execute_result"
    }
   ],
   "source": [
    "# 전체 거래건수와 항목수를 확인해보자.\n",
    "# 트랜젝션수\n",
    "\n",
    "N = len(grocery_list)\n",
    "N"
   ]
  },
  {
   "cell_type": "code",
   "execution_count": 19,
   "metadata": {},
   "outputs": [
    {
     "data": {
      "text/plain": [
       "169"
      ]
     },
     "execution_count": 19,
     "metadata": {},
     "output_type": "execute_result"
    }
   ],
   "source": [
    "# 개별 항목수 \n",
    "k = len(set([item for tr in grocery_list for item in tr]))\n",
    "k"
   ]
  },
  {
   "cell_type": "code",
   "execution_count": 20,
   "metadata": {},
   "outputs": [
    {
     "name": "stdout",
     "output_type": "stream",
     "text": [
      "거래 건수 N :9835, 항목 개수 k: 169\n"
     ]
    }
   ],
   "source": [
    "# 출력\n",
    "print(f'거래 건수 N :{N}, 항목 개수 k: {k}')"
   ]
  },
  {
   "cell_type": "markdown",
   "metadata": {},
   "source": [
    "### apyori 라이브러리와 출력함수 정의"
   ]
  },
  {
   "cell_type": "code",
   "execution_count": 21,
   "metadata": {},
   "outputs": [],
   "source": [
    "# apyori 라이브러리 준비와 출력함수 print_rr 정의 (수업 내용 복습)\n",
    "# 라이브러리를 이용해서 가장 지지도가 높은 항목을 찾아보자.\n",
    "# 라이브러리 설치 및 import.\n",
    "# RelationRecord 출력을 위한 함수\n",
    "\n",
    "def print_rr(rr) :\n",
    "  support = rr[1]\n",
    "  ord_st = list(rr[2])\n",
    "  if len(ord_st) >=1 :\n",
    "    for  i in ord_st :\n",
    "      lhs = set(i[0])\n",
    "      rhs = set(i[1])\n",
    "\n",
    "      confidence = i[2]\n",
    "      lift = i[3]\n",
    "      print (f'{lhs}=>{rhs}, support={support:.2f},',\n",
    "          f' confidence={confidence:.2f}, lift={lift:.2f} ')\n"
   ]
  },
  {
   "cell_type": "code",
   "execution_count": 22,
   "metadata": {},
   "outputs": [
    {
     "name": "stdout",
     "output_type": "stream",
     "text": [
      "set()=>{'bottled water'}, support=0.11,  confidence=0.11, lift=1.00 \n",
      "set()=>{'other vegetables'}, support=0.19,  confidence=0.19, lift=1.00 \n",
      "set()=>{'rolls/buns'}, support=0.18,  confidence=0.18, lift=1.00 \n",
      "set()=>{'root vegetables'}, support=0.11,  confidence=0.11, lift=1.00 \n",
      "set()=>{'soda'}, support=0.17,  confidence=0.17, lift=1.00 \n",
      "set()=>{'tropical fruit'}, support=0.10,  confidence=0.10, lift=1.00 \n",
      "set()=>{'whole milk'}, support=0.26,  confidence=0.26, lift=1.00 \n",
      "set()=>{'yogurt'}, support=0.14,  confidence=0.14, lift=1.00 \n"
     ]
    }
   ],
   "source": [
    "# apiori 함수를 이용해서 가장 지지도가 높은 항목을 찾아본다.\n",
    "# 최소신뢰도를 지정하지 않고 수행하면 지지도에 의해 목록이 결정된다.\n",
    "#  일단 최소 지지도 0.1로 try\n",
    "\n",
    "rules = ap.apriori(grocery_list, min_support= 0.1)\n",
    "\n",
    "# for 문 이용해서 출력\n",
    "for rule in rules:\n",
    "  print_rr(rule)"
   ]
  },
  {
   "cell_type": "markdown",
   "metadata": {},
   "source": [
    "### 적정 지지도 탐색\n",
    "- 최소지지도가 1% 이상인 상품(항목) 건수는?"
   ]
  },
  {
   "cell_type": "code",
   "execution_count": 23,
   "metadata": {},
   "outputs": [
    {
     "data": {
      "image/png": "[encoded data removed]",
      "text/plain": [
       "<Figure size 640x480 with 1 Axes>"
      ]
     },
     "metadata": {},
     "output_type": "display_data"
    }
   ],
   "source": [
    "# 적절한 최소지지도를 선정하고 이를 관찰해본다.\n",
    "# 적절한 지지도의 상품 개수가 되도록 찾아본다.  (0.01 ~ 0.1)\n",
    "\n",
    "# 라이브러리 import numpy, matplotlib.pyplot\n",
    "import numpy as np\n",
    "import matplotlib.pyplot as plt\n",
    "\n",
    "# 최소 지지도 출력 범위 (0.01~0.10, 0.01 단위로 )\n",
    "min_sup_range = np.arange(0.01, 0.11, 0.01)\n",
    "\n",
    "# min_sup_range 를 최소지지도로 빈발항목 생성 및 개수 세어\n",
    "# frequent_itemsets_count에 저장\n",
    "frequent_itemsets_count = []\n",
    "\n",
    "for ms in min_sup_range:\n",
    "  f_list = list (ap.apriori(grocery_list, min_support = ms))\n",
    "  frequent_itemsets_count.append(len(f_list))\n",
    "\n",
    "# 지지도별 상품 건수 꺾은선 그래프로 출력\n",
    "plt.plot(min_sup_range, frequent_itemsets_count, marker='*')\n",
    "plt.title('itemset count over minnum support')\n",
    "plt.xlabel('minnum support')\n",
    "plt.ylabel('frequent itemsets count')\n",
    "plt.show()"
   ]
  },
  {
   "cell_type": "markdown",
   "metadata": {},
   "source": [
    "- 그래프 분석 : 최소 지지도가 증가할수록 발견되는 빈번한 항목 집합의 수가 감소 (= 더 높은 지지도 기준을 충족하는 항목 집합이 적기 때문)\n",
    "- 초기에 급격한 감소 : 지지도가 매우 낮은 값에서 시작할 때, 많은 항목 집합이 이 조건을 충족하지만, 지지도를 조금만 높여도 상당수의 항목 집합이 탈락한다."
   ]
  },
  {
   "cell_type": "code",
   "execution_count": 25,
   "metadata": {},
   "outputs": [
    {
     "data": {
      "text/plain": [
       "[333, 122, 63, 41, 31, 21, 19, 13, 10, 8]"
      ]
     },
     "execution_count": 25,
     "metadata": {},
     "output_type": "execute_result"
    }
   ],
   "source": [
    "#[참고] 상기 frequent_itemsets_count의 for문은 다음과 같이 작성 할 수 있다.\n",
    "frequent_itemsets_count =[ len(list(ap.apriori(grocery_list, min_support= ms)))\n",
    "                           for ms in min_sup_range]\n",
    "frequent_itemsets_count"
   ]
  },
  {
   "cell_type": "markdown",
   "metadata": {},
   "source": [
    "### 최소지지도 0.02에서 121건 빈발항목"
   ]
  },
  {
   "cell_type": "code",
   "execution_count": 26,
   "metadata": {},
   "outputs": [
    {
     "name": "stdout",
     "output_type": "stream",
     "text": [
      "min sup : 0.02,  min conf : N/A\n",
      "frequent its count : 122\n",
      "0 : set()=>{'UHT-milk'}, support=0.03,  confidence=0.03, lift=1.00 \n",
      "1 : set()=>{'beef'}, support=0.05,  confidence=0.05, lift=1.00 \n",
      "2 : set()=>{'berries'}, support=0.03,  confidence=0.03, lift=1.00 \n",
      "3 : set()=>{'beverages'}, support=0.03,  confidence=0.03, lift=1.00 \n",
      "4 : set()=>{'bottled beer'}, support=0.08,  confidence=0.08, lift=1.00 \n",
      "5 : set()=>{'bottled water'}, support=0.11,  confidence=0.11, lift=1.00 \n",
      "6 : set()=>{'brown bread'}, support=0.06,  confidence=0.06, lift=1.00 \n",
      "7 : set()=>{'butter'}, support=0.06,  confidence=0.06, lift=1.00 \n",
      "8 : set()=>{'butter milk'}, support=0.03,  confidence=0.03, lift=1.00 \n",
      "9 : set()=>{'candy'}, support=0.03,  confidence=0.03, lift=1.00 \n",
      "10 : set()=>{'canned beer'}, support=0.08,  confidence=0.08, lift=1.00 \n",
      "11 : set()=>{'cat food'}, support=0.02,  confidence=0.02, lift=1.00 \n",
      "12 : set()=>{'chewing gum'}, support=0.02,  confidence=0.02, lift=1.00 \n",
      "13 : set()=>{'chicken'}, support=0.04,  confidence=0.04, lift=1.00 \n",
      "14 : set()=>{'chocolate'}, support=0.05,  confidence=0.05, lift=1.00 \n",
      "15 : set()=>{'citrus fruit'}, support=0.08,  confidence=0.08, lift=1.00 \n",
      "16 : set()=>{'coffee'}, support=0.06,  confidence=0.06, lift=1.00 \n",
      "17 : set()=>{'cream cheese '}, support=0.04,  confidence=0.04, lift=1.00 \n",
      "18 : set()=>{'curd'}, support=0.05,  confidence=0.05, lift=1.00 \n",
      "19 : set()=>{'dessert'}, support=0.04,  confidence=0.04, lift=1.00 \n",
      "20 : set()=>{'domestic eggs'}, support=0.06,  confidence=0.06, lift=1.00 \n",
      "21 : set()=>{'frankfurter'}, support=0.06,  confidence=0.06, lift=1.00 \n",
      "22 : set()=>{'frozen meals'}, support=0.03,  confidence=0.03, lift=1.00 \n",
      "23 : set()=>{'frozen vegetables'}, support=0.05,  confidence=0.05, lift=1.00 \n",
      "24 : set()=>{'fruit/vegetable juice'}, support=0.07,  confidence=0.07, lift=1.00 \n",
      "25 : set()=>{'grapes'}, support=0.02,  confidence=0.02, lift=1.00 \n",
      "26 : set()=>{'ham'}, support=0.03,  confidence=0.03, lift=1.00 \n",
      "27 : set()=>{'hamburger meat'}, support=0.03,  confidence=0.03, lift=1.00 \n",
      "28 : set()=>{'hard cheese'}, support=0.02,  confidence=0.02, lift=1.00 \n",
      "29 : set()=>{'hygiene articles'}, support=0.03,  confidence=0.03, lift=1.00 \n",
      "30 : set()=>{'ice cream'}, support=0.03,  confidence=0.03, lift=1.00 \n",
      "31 : set()=>{'long life bakery product'}, support=0.04,  confidence=0.04, lift=1.00 \n",
      "32 : set()=>{'margarine'}, support=0.06,  confidence=0.06, lift=1.00 \n",
      "33 : set()=>{'meat'}, support=0.03,  confidence=0.03, lift=1.00 \n",
      "34 : set()=>{'misc. beverages'}, support=0.03,  confidence=0.03, lift=1.00 \n",
      "35 : set()=>{'napkins'}, support=0.05,  confidence=0.05, lift=1.00 \n",
      "36 : set()=>{'newspapers'}, support=0.08,  confidence=0.08, lift=1.00 \n",
      "37 : set()=>{'oil'}, support=0.03,  confidence=0.03, lift=1.00 \n",
      "38 : set()=>{'onions'}, support=0.03,  confidence=0.03, lift=1.00 \n",
      "39 : set()=>{'other vegetables'}, support=0.19,  confidence=0.19, lift=1.00 \n",
      "40 : set()=>{'pastry'}, support=0.09,  confidence=0.09, lift=1.00 \n",
      "41 : set()=>{'pip fruit'}, support=0.08,  confidence=0.08, lift=1.00 \n",
      "42 : set()=>{'pork'}, support=0.06,  confidence=0.06, lift=1.00 \n",
      "43 : set()=>{'rolls/buns'}, support=0.18,  confidence=0.18, lift=1.00 \n",
      "44 : set()=>{'root vegetables'}, support=0.11,  confidence=0.11, lift=1.00 \n",
      "45 : set()=>{'salty snack'}, support=0.04,  confidence=0.04, lift=1.00 \n",
      "46 : set()=>{'sausage'}, support=0.09,  confidence=0.09, lift=1.00 \n",
      "47 : set()=>{'shopping bags'}, support=0.10,  confidence=0.10, lift=1.00 \n",
      "48 : set()=>{'sliced cheese'}, support=0.02,  confidence=0.02, lift=1.00 \n",
      "49 : set()=>{'soda'}, support=0.17,  confidence=0.17, lift=1.00 \n",
      "50 : set()=>{'specialty bar'}, support=0.03,  confidence=0.03, lift=1.00 \n",
      "51 : set()=>{'specialty chocolate'}, support=0.03,  confidence=0.03, lift=1.00 \n",
      "52 : set()=>{'sugar'}, support=0.03,  confidence=0.03, lift=1.00 \n",
      "53 : set()=>{'tropical fruit'}, support=0.10,  confidence=0.10, lift=1.00 \n",
      "54 : set()=>{'waffles'}, support=0.04,  confidence=0.04, lift=1.00 \n",
      "55 : set()=>{'whipped/sour cream'}, support=0.07,  confidence=0.07, lift=1.00 \n",
      "56 : set()=>{'white bread'}, support=0.04,  confidence=0.04, lift=1.00 \n",
      "57 : set()=>{'whole milk'}, support=0.26,  confidence=0.26, lift=1.00 \n",
      "58 : set()=>{'yogurt'}, support=0.14,  confidence=0.14, lift=1.00 \n",
      "59 : set()=>{'whole milk', 'beef'}, support=0.02,  confidence=0.02, lift=1.00 \n",
      "{'beef'}=>{'whole milk'}, support=0.02,  confidence=0.41, lift=1.59 \n",
      "{'whole milk'}=>{'beef'}, support=0.02,  confidence=0.08, lift=1.59 \n",
      "60 : set()=>{'whole milk', 'bottled beer'}, support=0.02,  confidence=0.02, lift=1.00 \n",
      "{'bottled beer'}=>{'whole milk'}, support=0.02,  confidence=0.25, lift=0.99 \n",
      "{'whole milk'}=>{'bottled beer'}, support=0.02,  confidence=0.08, lift=0.99 \n",
      "61 : set()=>{'bottled water', 'other vegetables'}, support=0.02,  confidence=0.02, lift=1.00 \n",
      "{'bottled water'}=>{'other vegetables'}, support=0.02,  confidence=0.22, lift=1.16 \n",
      "{'other vegetables'}=>{'bottled water'}, support=0.02,  confidence=0.13, lift=1.16 \n",
      "62 : set()=>{'bottled water', 'rolls/buns'}, support=0.02,  confidence=0.02, lift=1.00 \n",
      "{'bottled water'}=>{'rolls/buns'}, support=0.02,  confidence=0.22, lift=1.19 \n",
      "{'rolls/buns'}=>{'bottled water'}, support=0.02,  confidence=0.13, lift=1.19 \n",
      "63 : set()=>{'bottled water', 'soda'}, support=0.03,  confidence=0.03, lift=1.00 \n",
      "{'bottled water'}=>{'soda'}, support=0.03,  confidence=0.26, lift=1.50 \n",
      "{'soda'}=>{'bottled water'}, support=0.03,  confidence=0.17, lift=1.50 \n",
      "64 : set()=>{'whole milk', 'bottled water'}, support=0.03,  confidence=0.03, lift=1.00 \n",
      "{'bottled water'}=>{'whole milk'}, support=0.03,  confidence=0.31, lift=1.22 \n",
      "{'whole milk'}=>{'bottled water'}, support=0.03,  confidence=0.13, lift=1.22 \n",
      "65 : set()=>{'bottled water', 'yogurt'}, support=0.02,  confidence=0.02, lift=1.00 \n",
      "{'bottled water'}=>{'yogurt'}, support=0.02,  confidence=0.21, lift=1.49 \n",
      "{'yogurt'}=>{'bottled water'}, support=0.02,  confidence=0.16, lift=1.49 \n",
      "66 : set()=>{'whole milk', 'brown bread'}, support=0.03,  confidence=0.03, lift=1.00 \n",
      "{'brown bread'}=>{'whole milk'}, support=0.03,  confidence=0.39, lift=1.52 \n",
      "{'whole milk'}=>{'brown bread'}, support=0.03,  confidence=0.10, lift=1.52 \n",
      "67 : set()=>{'other vegetables', 'butter'}, support=0.02,  confidence=0.02, lift=1.00 \n",
      "{'butter'}=>{'other vegetables'}, support=0.02,  confidence=0.36, lift=1.87 \n",
      "{'other vegetables'}=>{'butter'}, support=0.02,  confidence=0.10, lift=1.87 \n",
      "68 : set()=>{'whole milk', 'butter'}, support=0.03,  confidence=0.03, lift=1.00 \n",
      "{'butter'}=>{'whole milk'}, support=0.03,  confidence=0.50, lift=1.95 \n",
      "{'whole milk'}=>{'butter'}, support=0.03,  confidence=0.11, lift=1.95 \n",
      "69 : set()=>{'other vegetables', 'citrus fruit'}, support=0.03,  confidence=0.03, lift=1.00 \n",
      "{'citrus fruit'}=>{'other vegetables'}, support=0.03,  confidence=0.35, lift=1.80 \n",
      "{'other vegetables'}=>{'citrus fruit'}, support=0.03,  confidence=0.15, lift=1.80 \n",
      "70 : set()=>{'whole milk', 'citrus fruit'}, support=0.03,  confidence=0.03, lift=1.00 \n",
      "{'citrus fruit'}=>{'whole milk'}, support=0.03,  confidence=0.37, lift=1.44 \n",
      "{'whole milk'}=>{'citrus fruit'}, support=0.03,  confidence=0.12, lift=1.44 \n",
      "71 : set()=>{'citrus fruit', 'yogurt'}, support=0.02,  confidence=0.02, lift=1.00 \n",
      "{'citrus fruit'}=>{'yogurt'}, support=0.02,  confidence=0.26, lift=1.88 \n",
      "{'yogurt'}=>{'citrus fruit'}, support=0.02,  confidence=0.16, lift=1.88 \n",
      "72 : set()=>{'whole milk', 'curd'}, support=0.03,  confidence=0.03, lift=1.00 \n",
      "{'curd'}=>{'whole milk'}, support=0.03,  confidence=0.49, lift=1.92 \n",
      "{'whole milk'}=>{'curd'}, support=0.03,  confidence=0.10, lift=1.92 \n",
      "73 : set()=>{'other vegetables', 'domestic eggs'}, support=0.02,  confidence=0.02, lift=1.00 \n",
      "{'domestic eggs'}=>{'other vegetables'}, support=0.02,  confidence=0.35, lift=1.81 \n",
      "{'other vegetables'}=>{'domestic eggs'}, support=0.02,  confidence=0.12, lift=1.81 \n",
      "74 : set()=>{'whole milk', 'domestic eggs'}, support=0.03,  confidence=0.03, lift=1.00 \n",
      "{'domestic eggs'}=>{'whole milk'}, support=0.03,  confidence=0.47, lift=1.85 \n",
      "{'whole milk'}=>{'domestic eggs'}, support=0.03,  confidence=0.12, lift=1.85 \n",
      "75 : set()=>{'whole milk', 'frankfurter'}, support=0.02,  confidence=0.02, lift=1.00 \n",
      "{'frankfurter'}=>{'whole milk'}, support=0.02,  confidence=0.35, lift=1.36 \n",
      "{'whole milk'}=>{'frankfurter'}, support=0.02,  confidence=0.08, lift=1.36 \n",
      "76 : set()=>{'frozen vegetables', 'whole milk'}, support=0.02,  confidence=0.02, lift=1.00 \n",
      "{'frozen vegetables'}=>{'whole milk'}, support=0.02,  confidence=0.42, lift=1.66 \n",
      "{'whole milk'}=>{'frozen vegetables'}, support=0.02,  confidence=0.08, lift=1.66 \n",
      "77 : set()=>{'fruit/vegetable juice', 'other vegetables'}, support=0.02,  confidence=0.02, lift=1.00 \n",
      "{'fruit/vegetable juice'}=>{'other vegetables'}, support=0.02,  confidence=0.29, lift=1.50 \n",
      "{'other vegetables'}=>{'fruit/vegetable juice'}, support=0.02,  confidence=0.11, lift=1.50 \n",
      "78 : set()=>{'fruit/vegetable juice', 'whole milk'}, support=0.03,  confidence=0.03, lift=1.00 \n",
      "{'fruit/vegetable juice'}=>{'whole milk'}, support=0.03,  confidence=0.37, lift=1.44 \n",
      "{'whole milk'}=>{'fruit/vegetable juice'}, support=0.03,  confidence=0.10, lift=1.44 \n",
      "79 : set()=>{'whole milk', 'margarine'}, support=0.02,  confidence=0.02, lift=1.00 \n",
      "{'margarine'}=>{'whole milk'}, support=0.02,  confidence=0.41, lift=1.62 \n",
      "{'whole milk'}=>{'margarine'}, support=0.02,  confidence=0.09, lift=1.62 \n",
      "80 : set()=>{'whole milk', 'newspapers'}, support=0.03,  confidence=0.03, lift=1.00 \n",
      "{'newspapers'}=>{'whole milk'}, support=0.03,  confidence=0.34, lift=1.34 \n",
      "{'whole milk'}=>{'newspapers'}, support=0.03,  confidence=0.11, lift=1.34 \n",
      "81 : set()=>{'other vegetables', 'pastry'}, support=0.02,  confidence=0.02, lift=1.00 \n",
      "{'other vegetables'}=>{'pastry'}, support=0.02,  confidence=0.12, lift=1.31 \n",
      "{'pastry'}=>{'other vegetables'}, support=0.02,  confidence=0.25, lift=1.31 \n",
      "82 : set()=>{'other vegetables', 'pip fruit'}, support=0.03,  confidence=0.03, lift=1.00 \n",
      "{'other vegetables'}=>{'pip fruit'}, support=0.03,  confidence=0.14, lift=1.79 \n",
      "{'pip fruit'}=>{'other vegetables'}, support=0.03,  confidence=0.35, lift=1.79 \n",
      "83 : set()=>{'pork', 'other vegetables'}, support=0.02,  confidence=0.02, lift=1.00 \n",
      "{'other vegetables'}=>{'pork'}, support=0.02,  confidence=0.11, lift=1.94 \n",
      "{'pork'}=>{'other vegetables'}, support=0.02,  confidence=0.38, lift=1.94 \n",
      "84 : set()=>{'other vegetables', 'rolls/buns'}, support=0.04,  confidence=0.04, lift=1.00 \n",
      "{'other vegetables'}=>{'rolls/buns'}, support=0.04,  confidence=0.22, lift=1.20 \n",
      "{'rolls/buns'}=>{'other vegetables'}, support=0.04,  confidence=0.23, lift=1.20 \n",
      "85 : set()=>{'root vegetables', 'other vegetables'}, support=0.05,  confidence=0.05, lift=1.00 \n",
      "{'other vegetables'}=>{'root vegetables'}, support=0.05,  confidence=0.24, lift=2.25 \n",
      "{'root vegetables'}=>{'other vegetables'}, support=0.05,  confidence=0.43, lift=2.25 \n",
      "86 : set()=>{'other vegetables', 'sausage'}, support=0.03,  confidence=0.03, lift=1.00 \n",
      "{'other vegetables'}=>{'sausage'}, support=0.03,  confidence=0.14, lift=1.48 \n",
      "{'sausage'}=>{'other vegetables'}, support=0.03,  confidence=0.29, lift=1.48 \n",
      "87 : set()=>{'other vegetables', 'shopping bags'}, support=0.02,  confidence=0.02, lift=1.00 \n",
      "{'other vegetables'}=>{'shopping bags'}, support=0.02,  confidence=0.12, lift=1.22 \n",
      "{'shopping bags'}=>{'other vegetables'}, support=0.02,  confidence=0.24, lift=1.22 \n",
      "88 : set()=>{'other vegetables', 'soda'}, support=0.03,  confidence=0.03, lift=1.00 \n",
      "{'other vegetables'}=>{'soda'}, support=0.03,  confidence=0.17, lift=0.97 \n",
      "{'soda'}=>{'other vegetables'}, support=0.03,  confidence=0.19, lift=0.97 \n",
      "89 : set()=>{'other vegetables', 'tropical fruit'}, support=0.04,  confidence=0.04, lift=1.00 \n",
      "{'other vegetables'}=>{'tropical fruit'}, support=0.04,  confidence=0.19, lift=1.77 \n",
      "{'tropical fruit'}=>{'other vegetables'}, support=0.04,  confidence=0.34, lift=1.77 \n",
      "90 : set()=>{'other vegetables', 'whipped/sour cream'}, support=0.03,  confidence=0.03, lift=1.00 \n",
      "{'other vegetables'}=>{'whipped/sour cream'}, support=0.03,  confidence=0.15, lift=2.08 \n",
      "{'whipped/sour cream'}=>{'other vegetables'}, support=0.03,  confidence=0.40, lift=2.08 \n",
      "91 : set()=>{'whole milk', 'other vegetables'}, support=0.07,  confidence=0.07, lift=1.00 \n",
      "{'other vegetables'}=>{'whole milk'}, support=0.07,  confidence=0.39, lift=1.51 \n",
      "{'whole milk'}=>{'other vegetables'}, support=0.07,  confidence=0.29, lift=1.51 \n",
      "92 : set()=>{'other vegetables', 'yogurt'}, support=0.04,  confidence=0.04, lift=1.00 \n",
      "{'other vegetables'}=>{'yogurt'}, support=0.04,  confidence=0.22, lift=1.61 \n",
      "{'yogurt'}=>{'other vegetables'}, support=0.04,  confidence=0.31, lift=1.61 \n",
      "93 : set()=>{'rolls/buns', 'pastry'}, support=0.02,  confidence=0.02, lift=1.00 \n",
      "{'pastry'}=>{'rolls/buns'}, support=0.02,  confidence=0.24, lift=1.28 \n",
      "{'rolls/buns'}=>{'pastry'}, support=0.02,  confidence=0.11, lift=1.28 \n",
      "94 : set()=>{'pastry', 'soda'}, support=0.02,  confidence=0.02, lift=1.00 \n",
      "{'pastry'}=>{'soda'}, support=0.02,  confidence=0.24, lift=1.36 \n",
      "{'soda'}=>{'pastry'}, support=0.02,  confidence=0.12, lift=1.36 \n",
      "95 : set()=>{'whole milk', 'pastry'}, support=0.03,  confidence=0.03, lift=1.00 \n",
      "{'pastry'}=>{'whole milk'}, support=0.03,  confidence=0.37, lift=1.46 \n",
      "{'whole milk'}=>{'pastry'}, support=0.03,  confidence=0.13, lift=1.46 \n",
      "96 : set()=>{'pip fruit', 'tropical fruit'}, support=0.02,  confidence=0.02, lift=1.00 \n",
      "{'pip fruit'}=>{'tropical fruit'}, support=0.02,  confidence=0.27, lift=2.57 \n",
      "{'tropical fruit'}=>{'pip fruit'}, support=0.02,  confidence=0.19, lift=2.57 \n",
      "97 : set()=>{'whole milk', 'pip fruit'}, support=0.03,  confidence=0.03, lift=1.00 \n",
      "{'pip fruit'}=>{'whole milk'}, support=0.03,  confidence=0.40, lift=1.56 \n",
      "{'whole milk'}=>{'pip fruit'}, support=0.03,  confidence=0.12, lift=1.56 \n",
      "98 : set()=>{'pork', 'whole milk'}, support=0.02,  confidence=0.02, lift=1.00 \n",
      "{'pork'}=>{'whole milk'}, support=0.02,  confidence=0.38, lift=1.50 \n",
      "{'whole milk'}=>{'pork'}, support=0.02,  confidence=0.09, lift=1.50 \n",
      "99 : set()=>{'root vegetables', 'rolls/buns'}, support=0.02,  confidence=0.02, lift=1.00 \n",
      "{'rolls/buns'}=>{'root vegetables'}, support=0.02,  confidence=0.13, lift=1.21 \n",
      "{'root vegetables'}=>{'rolls/buns'}, support=0.02,  confidence=0.22, lift=1.21 \n",
      "100 : set()=>{'sausage', 'rolls/buns'}, support=0.03,  confidence=0.03, lift=1.00 \n",
      "{'rolls/buns'}=>{'sausage'}, support=0.03,  confidence=0.17, lift=1.77 \n",
      "{'sausage'}=>{'rolls/buns'}, support=0.03,  confidence=0.33, lift=1.77 \n",
      "101 : set()=>{'rolls/buns', 'soda'}, support=0.04,  confidence=0.04, lift=1.00 \n",
      "{'rolls/buns'}=>{'soda'}, support=0.04,  confidence=0.21, lift=1.20 \n",
      "{'soda'}=>{'rolls/buns'}, support=0.04,  confidence=0.22, lift=1.20 \n",
      "102 : set()=>{'rolls/buns', 'tropical fruit'}, support=0.02,  confidence=0.02, lift=1.00 \n",
      "{'rolls/buns'}=>{'tropical fruit'}, support=0.02,  confidence=0.13, lift=1.27 \n",
      "{'tropical fruit'}=>{'rolls/buns'}, support=0.02,  confidence=0.23, lift=1.27 \n",
      "103 : set()=>{'whole milk', 'rolls/buns'}, support=0.06,  confidence=0.06, lift=1.00 \n",
      "{'rolls/buns'}=>{'whole milk'}, support=0.06,  confidence=0.31, lift=1.21 \n",
      "{'whole milk'}=>{'rolls/buns'}, support=0.06,  confidence=0.22, lift=1.21 \n",
      "104 : set()=>{'rolls/buns', 'yogurt'}, support=0.03,  confidence=0.03, lift=1.00 \n",
      "{'rolls/buns'}=>{'yogurt'}, support=0.03,  confidence=0.19, lift=1.34 \n",
      "{'yogurt'}=>{'rolls/buns'}, support=0.03,  confidence=0.25, lift=1.34 \n",
      "105 : set()=>{'root vegetables', 'tropical fruit'}, support=0.02,  confidence=0.02, lift=1.00 \n",
      "{'root vegetables'}=>{'tropical fruit'}, support=0.02,  confidence=0.19, lift=1.84 \n",
      "{'tropical fruit'}=>{'root vegetables'}, support=0.02,  confidence=0.20, lift=1.84 \n",
      "106 : set()=>{'root vegetables', 'whole milk'}, support=0.05,  confidence=0.05, lift=1.00 \n",
      "{'root vegetables'}=>{'whole milk'}, support=0.05,  confidence=0.45, lift=1.76 \n",
      "{'whole milk'}=>{'root vegetables'}, support=0.05,  confidence=0.19, lift=1.76 \n",
      "107 : set()=>{'root vegetables', 'yogurt'}, support=0.03,  confidence=0.03, lift=1.00 \n",
      "{'root vegetables'}=>{'yogurt'}, support=0.03,  confidence=0.24, lift=1.70 \n",
      "{'yogurt'}=>{'root vegetables'}, support=0.03,  confidence=0.19, lift=1.70 \n",
      "108 : set()=>{'sausage', 'soda'}, support=0.02,  confidence=0.02, lift=1.00 \n",
      "{'sausage'}=>{'soda'}, support=0.02,  confidence=0.26, lift=1.48 \n",
      "{'soda'}=>{'sausage'}, support=0.02,  confidence=0.14, lift=1.48 \n",
      "109 : set()=>{'whole milk', 'sausage'}, support=0.03,  confidence=0.03, lift=1.00 \n",
      "{'sausage'}=>{'whole milk'}, support=0.03,  confidence=0.32, lift=1.25 \n",
      "{'whole milk'}=>{'sausage'}, support=0.03,  confidence=0.12, lift=1.25 \n",
      "110 : set()=>{'soda', 'shopping bags'}, support=0.02,  confidence=0.02, lift=1.00 \n",
      "{'shopping bags'}=>{'soda'}, support=0.02,  confidence=0.25, lift=1.43 \n",
      "{'soda'}=>{'shopping bags'}, support=0.02,  confidence=0.14, lift=1.43 \n",
      "111 : set()=>{'whole milk', 'shopping bags'}, support=0.02,  confidence=0.02, lift=1.00 \n",
      "{'shopping bags'}=>{'whole milk'}, support=0.02,  confidence=0.25, lift=0.97 \n",
      "{'whole milk'}=>{'shopping bags'}, support=0.02,  confidence=0.10, lift=0.97 \n",
      "112 : set()=>{'tropical fruit', 'soda'}, support=0.02,  confidence=0.02, lift=1.00 \n",
      "{'soda'}=>{'tropical fruit'}, support=0.02,  confidence=0.12, lift=1.14 \n",
      "{'tropical fruit'}=>{'soda'}, support=0.02,  confidence=0.20, lift=1.14 \n",
      "113 : set()=>{'whole milk', 'soda'}, support=0.04,  confidence=0.04, lift=1.00 \n",
      "{'soda'}=>{'whole milk'}, support=0.04,  confidence=0.23, lift=0.90 \n",
      "{'whole milk'}=>{'soda'}, support=0.04,  confidence=0.16, lift=0.90 \n",
      "114 : set()=>{'soda', 'yogurt'}, support=0.03,  confidence=0.03, lift=1.00 \n",
      "{'soda'}=>{'yogurt'}, support=0.03,  confidence=0.16, lift=1.12 \n",
      "{'yogurt'}=>{'soda'}, support=0.03,  confidence=0.20, lift=1.12 \n",
      "115 : set()=>{'whole milk', 'tropical fruit'}, support=0.04,  confidence=0.04, lift=1.00 \n",
      "{'tropical fruit'}=>{'whole milk'}, support=0.04,  confidence=0.40, lift=1.58 \n",
      "{'whole milk'}=>{'tropical fruit'}, support=0.04,  confidence=0.17, lift=1.58 \n",
      "116 : set()=>{'tropical fruit', 'yogurt'}, support=0.03,  confidence=0.03, lift=1.00 \n",
      "{'tropical fruit'}=>{'yogurt'}, support=0.03,  confidence=0.28, lift=2.00 \n",
      "{'yogurt'}=>{'tropical fruit'}, support=0.03,  confidence=0.21, lift=2.00 \n",
      "117 : set()=>{'whole milk', 'whipped/sour cream'}, support=0.03,  confidence=0.03, lift=1.00 \n",
      "{'whipped/sour cream'}=>{'whole milk'}, support=0.03,  confidence=0.45, lift=1.76 \n",
      "{'whole milk'}=>{'whipped/sour cream'}, support=0.03,  confidence=0.13, lift=1.76 \n",
      "118 : set()=>{'whipped/sour cream', 'yogurt'}, support=0.02,  confidence=0.02, lift=1.00 \n",
      "{'whipped/sour cream'}=>{'yogurt'}, support=0.02,  confidence=0.29, lift=2.07 \n",
      "{'yogurt'}=>{'whipped/sour cream'}, support=0.02,  confidence=0.15, lift=2.07 \n",
      "119 : set()=>{'whole milk', 'yogurt'}, support=0.06,  confidence=0.06, lift=1.00 \n",
      "{'whole milk'}=>{'yogurt'}, support=0.06,  confidence=0.22, lift=1.57 \n",
      "{'yogurt'}=>{'whole milk'}, support=0.06,  confidence=0.40, lift=1.57 \n",
      "120 : set()=>{'root vegetables', 'other vegetables', 'whole milk'}, support=0.02,  confidence=0.02, lift=1.00 \n",
      "{'other vegetables'}=>{'root vegetables', 'whole milk'}, support=0.02,  confidence=0.12, lift=2.45 \n",
      "{'root vegetables'}=>{'whole milk', 'other vegetables'}, support=0.02,  confidence=0.21, lift=2.84 \n",
      "{'whole milk'}=>{'root vegetables', 'other vegetables'}, support=0.02,  confidence=0.09, lift=1.91 \n",
      "{'root vegetables', 'other vegetables'}=>{'whole milk'}, support=0.02,  confidence=0.49, lift=1.91 \n",
      "{'whole milk', 'other vegetables'}=>{'root vegetables'}, support=0.02,  confidence=0.31, lift=2.84 \n",
      "{'root vegetables', 'whole milk'}=>{'other vegetables'}, support=0.02,  confidence=0.47, lift=2.45 \n",
      "121 : set()=>{'whole milk', 'other vegetables', 'yogurt'}, support=0.02,  confidence=0.02, lift=1.00 \n",
      "{'other vegetables'}=>{'whole milk', 'yogurt'}, support=0.02,  confidence=0.12, lift=2.05 \n",
      "{'whole milk'}=>{'other vegetables', 'yogurt'}, support=0.02,  confidence=0.09, lift=2.01 \n",
      "{'yogurt'}=>{'whole milk', 'other vegetables'}, support=0.02,  confidence=0.16, lift=2.13 \n",
      "{'whole milk', 'other vegetables'}=>{'yogurt'}, support=0.02,  confidence=0.30, lift=2.13 \n",
      "{'other vegetables', 'yogurt'}=>{'whole milk'}, support=0.02,  confidence=0.51, lift=2.01 \n",
      "{'whole milk', 'yogurt'}=>{'other vegetables'}, support=0.02,  confidence=0.40, lift=2.05 \n"
     ]
    }
   ],
   "source": [
    "# 최소지지도 0.02의 목록을 관찰해보자.\n",
    "\n",
    "# 최소신뢰도 0.02의 빈발항목 생성\n",
    "rules_lst = list(ap.apriori(grocery_list, min_support= 0.02))\n",
    "\n",
    "# 빈발항목 건수 출력\n",
    "print('min sup : 0.02,  min conf : N/A')\n",
    "print(f'frequent its count : {len(rules_lst)}')\n",
    "\n",
    "# for 문을 이용하여 규칙을 출력\n",
    "# (enumerate를 이용하여 일련번호도 함께 출력)\n",
    "for i, rr in enumerate (rules_lst):\n",
    "  print( i, end = ' : ')\n",
    "  print_rr(rr)"
   ]
  },
  {
   "cell_type": "markdown",
   "metadata": {},
   "source": [
    "## 연관분석"
   ]
  },
  {
   "cell_type": "code",
   "execution_count": 28,
   "metadata": {},
   "outputs": [
    {
     "name": "stdout",
     "output_type": "stream",
     "text": [
      "1\n",
      "[RelationRecord(items=frozenset({'whole milk', 'other vegetables', 'yogurt'}), support=0.02226741230299949, ordered_statistics=[OrderedStatistic(items_base=frozenset({'other vegetables', 'yogurt'}), items_add=frozenset({'whole milk'}), confidence=0.5128805620608898, lift=2.0072345116867694)])]\n"
     ]
    }
   ],
   "source": [
    "# 최소지지도를 0.02로 하고 최소 신뢰도의 적정 범위를 찾아보자.\n",
    "# 최소지지도 0.02, 최소신뢰도 0.5로 도출되는 규칙의 수를 확인한다.\n",
    "\n",
    "# 연관규칙 생성\n",
    "rules_lst = list(ap.apriori(grocery_list, min_support= 0.02, min_confidence= 0.5))\n",
    "\n",
    "# 건수 확인\n",
    "print(len(rules_lst))\n",
    "print(rules_lst)"
   ]
  },
  {
   "cell_type": "code",
   "execution_count": 29,
   "metadata": {},
   "outputs": [
    {
     "data": {
      "image/png": "[encoded data removed]",
      "text/plain": [
       "<Figure size 640x480 with 1 Axes>"
      ]
     },
     "metadata": {},
     "output_type": "display_data"
    }
   ],
   "source": [
    "# 최소신뢰도를 0.05~ 0.5 사이의 값으로 변경하며\n",
    "#       도출되는 규칙의 수를 확인한다.\n",
    "\n",
    "# 최소신뢰도 후보 범위 지정\n",
    "min_conf_range =  np.arange(0.05, 0.51, 0.05)\n",
    "\n",
    "# 최소신뢰도 별 연관규칙 생성 건수 목록\n",
    "association_rules_count =[ len(list(ap.apriori(grocery_list, min_support= 0.02,\n",
    "                                               min_confidence=mc)))\n",
    "                           for mc in min_conf_range ]\n",
    "\n",
    "# 그래프 출력\n",
    "\n",
    "plt.plot(min_conf_range, association_rules_count, marker = '*' )\n",
    "plt.title('itemset count over minnum confidence')\n",
    "plt.xlabel('minnum confidence')\n",
    "plt.ylabel('itemset count')\n",
    "plt.show()"
   ]
  },
  {
   "cell_type": "markdown",
   "metadata": {},
   "source": [
    "### 최소지지도 0.02 , 최소신뢰도 0.3에서 33건 연관규칙"
   ]
  },
  {
   "cell_type": "code",
   "execution_count": 30,
   "metadata": {},
   "outputs": [
    {
     "name": "stdout",
     "output_type": "stream",
     "text": [
      "min sup : 0.02,  min conf : 0.3\n",
      "frequent itemset count : 34\n",
      "0 : {'beef'}=>{'whole milk'}, support=0.02,  confidence=0.41, lift=1.59 \n",
      "1 : {'bottled water'}=>{'whole milk'}, support=0.03,  confidence=0.31, lift=1.22 \n",
      "2 : {'brown bread'}=>{'whole milk'}, support=0.03,  confidence=0.39, lift=1.52 \n",
      "3 : {'butter'}=>{'other vegetables'}, support=0.02,  confidence=0.36, lift=1.87 \n",
      "4 : {'butter'}=>{'whole milk'}, support=0.03,  confidence=0.50, lift=1.95 \n",
      "5 : {'citrus fruit'}=>{'other vegetables'}, support=0.03,  confidence=0.35, lift=1.80 \n",
      "6 : {'citrus fruit'}=>{'whole milk'}, support=0.03,  confidence=0.37, lift=1.44 \n",
      "7 : {'curd'}=>{'whole milk'}, support=0.03,  confidence=0.49, lift=1.92 \n",
      "8 : {'domestic eggs'}=>{'other vegetables'}, support=0.02,  confidence=0.35, lift=1.81 \n",
      "9 : {'domestic eggs'}=>{'whole milk'}, support=0.03,  confidence=0.47, lift=1.85 \n",
      "10 : {'frankfurter'}=>{'whole milk'}, support=0.02,  confidence=0.35, lift=1.36 \n",
      "11 : {'frozen vegetables'}=>{'whole milk'}, support=0.02,  confidence=0.42, lift=1.66 \n",
      "12 : {'fruit/vegetable juice'}=>{'whole milk'}, support=0.03,  confidence=0.37, lift=1.44 \n",
      "13 : {'margarine'}=>{'whole milk'}, support=0.02,  confidence=0.41, lift=1.62 \n",
      "14 : {'newspapers'}=>{'whole milk'}, support=0.03,  confidence=0.34, lift=1.34 \n",
      "15 : {'pip fruit'}=>{'other vegetables'}, support=0.03,  confidence=0.35, lift=1.79 \n",
      "16 : {'pork'}=>{'other vegetables'}, support=0.02,  confidence=0.38, lift=1.94 \n",
      "17 : {'root vegetables'}=>{'other vegetables'}, support=0.05,  confidence=0.43, lift=2.25 \n",
      "18 : {'tropical fruit'}=>{'other vegetables'}, support=0.04,  confidence=0.34, lift=1.77 \n",
      "19 : {'whipped/sour cream'}=>{'other vegetables'}, support=0.03,  confidence=0.40, lift=2.08 \n",
      "20 : {'other vegetables'}=>{'whole milk'}, support=0.07,  confidence=0.39, lift=1.51 \n",
      "21 : {'yogurt'}=>{'other vegetables'}, support=0.04,  confidence=0.31, lift=1.61 \n",
      "22 : {'pastry'}=>{'whole milk'}, support=0.03,  confidence=0.37, lift=1.46 \n",
      "23 : {'pip fruit'}=>{'whole milk'}, support=0.03,  confidence=0.40, lift=1.56 \n",
      "24 : {'pork'}=>{'whole milk'}, support=0.02,  confidence=0.38, lift=1.50 \n",
      "25 : {'sausage'}=>{'rolls/buns'}, support=0.03,  confidence=0.33, lift=1.77 \n",
      "26 : {'rolls/buns'}=>{'whole milk'}, support=0.06,  confidence=0.31, lift=1.21 \n",
      "27 : {'root vegetables'}=>{'whole milk'}, support=0.05,  confidence=0.45, lift=1.76 \n",
      "28 : {'sausage'}=>{'whole milk'}, support=0.03,  confidence=0.32, lift=1.25 \n",
      "29 : {'tropical fruit'}=>{'whole milk'}, support=0.04,  confidence=0.40, lift=1.58 \n",
      "30 : {'whipped/sour cream'}=>{'whole milk'}, support=0.03,  confidence=0.45, lift=1.76 \n",
      "31 : {'yogurt'}=>{'whole milk'}, support=0.06,  confidence=0.40, lift=1.57 \n",
      "32 : {'root vegetables', 'other vegetables'}=>{'whole milk'}, support=0.02,  confidence=0.49, lift=1.91 \n",
      "{'whole milk', 'other vegetables'}=>{'root vegetables'}, support=0.02,  confidence=0.31, lift=2.84 \n",
      "{'root vegetables', 'whole milk'}=>{'other vegetables'}, support=0.02,  confidence=0.47, lift=2.45 \n",
      "33 : {'other vegetables', 'yogurt'}=>{'whole milk'}, support=0.02,  confidence=0.51, lift=2.01 \n",
      "{'whole milk', 'yogurt'}=>{'other vegetables'}, support=0.02,  confidence=0.40, lift=2.05 \n"
     ]
    }
   ],
   "source": [
    "# 최소지지도 0.02, 최소신뢰도 0.3의 목록을 관찰해보자.\n",
    "\n",
    "# 연관규칙 생성\n",
    "rules_lst = list(ap.apriori(grocery_list, min_support= 0.02,\n",
    "                            min_confidence = 0.3))\n",
    "# 연관규칙 빈발항목 건수 출력\n",
    "print('min sup : 0.02,  min conf : 0.3')\n",
    "print(f'frequent itemset count : {len(rules_lst)}')\n",
    "\n",
    "# 연관규칙 출력 (항목번호와 함께)\n",
    "for i, rr in enumerate(rules_lst):\n",
    "  print(i, end=' : ')\n",
    "  print_rr(rr)"
   ]
  },
  {
   "cell_type": "code",
   "execution_count": 31,
   "metadata": {},
   "outputs": [
    {
     "name": "stdout",
     "output_type": "stream",
     "text": [
      "min sup : 0.02,  min conf : 0.3, min lift : 2\n",
      "frequent itemset count : 4\n",
      "0 : {'root vegetables'}=>{'other vegetables'}, support=0.05,  confidence=0.43, lift=2.25 \n",
      "1 : {'whipped/sour cream'}=>{'other vegetables'}, support=0.03,  confidence=0.40, lift=2.08 \n",
      "2 : {'whole milk', 'other vegetables'}=>{'root vegetables'}, support=0.02,  confidence=0.31, lift=2.84 \n",
      "{'root vegetables', 'whole milk'}=>{'other vegetables'}, support=0.02,  confidence=0.47, lift=2.45 \n",
      "3 : {'other vegetables', 'yogurt'}=>{'whole milk'}, support=0.02,  confidence=0.51, lift=2.01 \n",
      "{'whole milk', 'yogurt'}=>{'other vegetables'}, support=0.02,  confidence=0.40, lift=2.05 \n"
     ]
    }
   ],
   "source": [
    "# 최소지지도 0.02, 최소신뢰도 0.3,  향상도 2 이상의 목록을 관찰\n",
    "\n",
    "# 리프트 값도 min_lift로 지정하여 연관 규칙 생성\n",
    "rules_lst = list(ap.apriori(grocery_list, min_support= 0.02,\n",
    "                            min_confidence = 0.3,\n",
    "                            min_lift = 2))\n",
    "\n",
    "# 연관규칙 빈발항목 건수 출력\n",
    "print('min sup : 0.02,  min conf : 0.3, min lift : 2')\n",
    "print(f'frequent itemset count : {len(rules_lst)}')\n",
    "\n",
    "# 연관규칙 출력 (항목번호와 함께)\n",
    "for i, rr in enumerate(rules_lst):\n",
    "  print(i, end=' : ')\n",
    "  print_rr(rr)"
   ]
  },
  {
   "cell_type": "markdown",
   "metadata": {},
   "source": [
    "### yougurt 관련 연관"
   ]
  },
  {
   "cell_type": "code",
   "execution_count": 32,
   "metadata": {},
   "outputs": [
    {
     "name": "stdout",
     "output_type": "stream",
     "text": [
      "min sup : 0.02,  min conf : 0.3, yogurt related only\n",
      "frequent itemset count : 3\n",
      "0 : {'yogurt'}=>{'other vegetables'}, support=0.04,  confidence=0.31, lift=1.61 \n",
      "1 : {'yogurt'}=>{'whole milk'}, support=0.06,  confidence=0.40, lift=1.57 \n",
      "2 : {'other vegetables', 'yogurt'}=>{'whole milk'}, support=0.02,  confidence=0.51, lift=2.01 \n",
      "{'whole milk', 'yogurt'}=>{'other vegetables'}, support=0.02,  confidence=0.40, lift=2.05 \n"
     ]
    }
   ],
   "source": [
    "# yogurt와 관련된 연관 규칙을 찾아보자.\n",
    "#     최소 지지도  0.02, 최소 신뢰도 0.3 으로 관찰한다.\n",
    "\n",
    "# 규칙생성\n",
    "rules_lst = list(ap.apriori(grocery_list,\n",
    "                            min_support= 0.02,\n",
    "                            min_confidence = 0.3))\n",
    "\n",
    "# yogurt가 포함된 목록만 추출\n",
    "rules_lst = [ rr for rr in rules_lst if 'yogurt' in rr[0] ]\n",
    "\n",
    "# 연관규칙 빈발항목 건수 출력\n",
    "print('min sup : 0.02,  min conf : 0.3, yogurt related only')\n",
    "print(f'frequent itemset count : {len(rules_lst)}')\n",
    "\n",
    "# 연관규칙 출력 (항목번호와 함께)\n",
    "for i, rr in enumerate(rules_lst):\n",
    "  print(i, end=' : ')\n",
    "  print_rr(rr)"
   ]
  },
  {
   "cell_type": "markdown",
   "metadata": {},
   "source": [
    "### 신뢰도 Top3 탐색 @ 최소지지도 0.02"
   ]
  },
  {
   "cell_type": "code",
   "execution_count": 34,
   "metadata": {},
   "outputs": [
    {
     "name": "stdout",
     "output_type": "stream",
     "text": [
      "min sup : 0.02,  min conf : 0.45\n",
      "rule count : 5\n",
      "0 : {'butter'}=>{'whole milk'}, support=0.03,  confidence=0.50, lift=1.95 \n",
      "1 : {'curd'}=>{'whole milk'}, support=0.03,  confidence=0.49, lift=1.92 \n",
      "2 : {'domestic eggs'}=>{'whole milk'}, support=0.03,  confidence=0.47, lift=1.85 \n",
      "3 : {'root vegetables', 'other vegetables'}=>{'whole milk'}, support=0.02,  confidence=0.49, lift=1.91 \n",
      "{'root vegetables', 'whole milk'}=>{'other vegetables'}, support=0.02,  confidence=0.47, lift=2.45 \n",
      "4 : {'other vegetables', 'yogurt'}=>{'whole milk'}, support=0.02,  confidence=0.51, lift=2.01 \n"
     ]
    }
   ],
   "source": [
    "# 최소지지도 0.02 에서 신뢰도가 가장 높은 3개의 규칙을 찾아보자.\n",
    "# 그래프로 적정 건수가 되는 신뢰도를 추정해보자.\n",
    "\n",
    "# 규칙생성\n",
    "rules_lst = list(ap.apriori(grocery_list, min_support=0.02,\n",
    "                            min_confidence = 0.45))\n",
    "# 연관규칙 건수 출력\n",
    "print('min sup : 0.02,  min conf : 0.45')\n",
    "print(f'rule count : {len(rules_lst)}')\n",
    "\n",
    "# 연관규칙 출력 (항목번호와 함께)\n",
    "for i, rr in enumerate(rules_lst):\n",
    "  print(i, end=' : ')\n",
    "  print_rr(rr)"
   ]
  }
 ],
 "metadata": {
  "kernelspec": {
   "display_name": "ai_recmd",
   "language": "python",
   "name": "python3"
  },
  "language_info": {
   "codemirror_mode": {
    "name": "ipython",
    "version": 3
   },
   "file_extension": ".py",
   "mimetype": "text/x-python",
   "name": "python",
   "nbconvert_exporter": "python",
   "pygments_lexer": "ipython3",
   "version": "3.11.9"
  }
 },
 "nbformat": 4,
 "nbformat_minor": 2
}

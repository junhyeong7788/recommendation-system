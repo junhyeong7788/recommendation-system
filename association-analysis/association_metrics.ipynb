{
 "cells": [
  {
   "cell_type": "markdown",
   "metadata": {},
   "source": [
    "## Theory of Association analysis\n",
    "\n",
    "### 1. 연관 관계 지표 구해보기\n",
    "- 연관분석 주요 지표 구해보기\n",
    "    - 청년 마트 장바구니 데이터를 구성하고, \n",
    "    - 거래 건수, 항목 종수 등 기본 정보와 \n",
    "    - '우유' ==> '계란'에 대한 지지도, 신뢰도, 리프트, 레버리지, 확신 지표를 구한다."
   ]
  },
  {
   "cell_type": "markdown",
   "metadata": {},
   "source": [
    "#### 청년마트 T"
   ]
  },
  {
   "cell_type": "code",
   "execution_count": 1,
   "metadata": {},
   "outputs": [],
   "source": [
    "# 청년마트 거래데이터를 리스트(T)로 구성한다.\n",
    "T = [['우유','계란','커피'],\n",
    "      ['빵','우유','버터','휴지','라면'],\n",
    "      ['맥주', '땅콩'],\n",
    "      ['계란','빵','우유','생수'],\n",
    "      ['햇반','커피','간장','계란'] ]"
   ]
  },
  {
   "cell_type": "code",
   "execution_count": 2,
   "metadata": {},
   "outputs": [
    {
     "data": {
      "text/plain": [
       "5"
      ]
     },
     "execution_count": 2,
     "metadata": {},
     "output_type": "execute_result"
    }
   ],
   "source": [
    "# 거래 데이터 건수(N), 항목의 개수(k), 개별 항목별 등장 횟수 (i_cnt_dict)를 구한다\n",
    "# 거래건수 N\n",
    "\n",
    "N = len(T)\n",
    "N"
   ]
  },
  {
   "cell_type": "markdown",
   "metadata": {},
   "source": [
    "### N, k 및 항목별 횟수"
   ]
  },
  {
   "cell_type": "code",
   "execution_count": 7,
   "metadata": {},
   "outputs": [
    {
     "data": {
      "text/plain": [
       "['우유',\n",
       " '계란',\n",
       " '커피',\n",
       " '빵',\n",
       " '우유',\n",
       " '버터',\n",
       " '휴지',\n",
       " '라면',\n",
       " '맥주',\n",
       " '땅콩',\n",
       " '계란',\n",
       " '빵',\n",
       " '우유',\n",
       " '생수',\n",
       " '햇반',\n",
       " '커피',\n",
       " '간장',\n",
       " '계란']"
      ]
     },
     "execution_count": 7,
     "metadata": {},
     "output_type": "execute_result"
    }
   ],
   "source": [
    "[item for tr in T for item in tr]"
   ]
  },
  {
   "cell_type": "code",
   "execution_count": 4,
   "metadata": {},
   "outputs": [
    {
     "data": {
      "text/plain": [
       "{'간장', '계란', '땅콩', '라면', '맥주', '버터', '빵', '생수', '우유', '커피', '햇반', '휴지'}"
      ]
     },
     "execution_count": 4,
     "metadata": {},
     "output_type": "execute_result"
    }
   ],
   "source": [
    "# set으로 고유값 \n",
    "set([item for tr in T for item in tr])"
   ]
  },
  {
   "cell_type": "code",
   "execution_count": 5,
   "metadata": {},
   "outputs": [
    {
     "data": {
      "text/plain": [
       "12"
      ]
     },
     "execution_count": 5,
     "metadata": {},
     "output_type": "execute_result"
    }
   ],
   "source": [
    "# 항목의 개수 출력 k\n",
    "k =  len(set([item for tr in T for item in tr])) # set으로 취하면서 고유값들만 남는다.\n",
    "k"
   ]
  },
  {
   "cell_type": "markdown",
   "metadata": {},
   "source": [
    "1. list comprehension\n",
    "```python\n",
    "list1 = []\n",
    "for tr in T:\n",
    "    for item in tr:\n",
    "        list1.append(item)\n",
    "```  \n",
    "  \n",
    "2. 중복 제거\n",
    "- `set(list1)`\n"
   ]
  },
  {
   "cell_type": "code",
   "execution_count": 8,
   "metadata": {},
   "outputs": [
    {
     "name": "stdout",
     "output_type": "stream",
     "text": [
      "데이터 건수 N = 5, 항목의 개수 k = 12\n"
     ]
    }
   ],
   "source": [
    "# N과 k 출력\n",
    "print (f'데이터 건수 N = {N}, 항목의 개수 k = {k}')"
   ]
  },
  {
   "cell_type": "code",
   "execution_count": 7,
   "metadata": {},
   "outputs": [
    {
     "name": "stdout",
     "output_type": "stream",
     "text": [
      "항목별 등장 횟수\n",
      "('라면', 1)\n",
      "('땅콩', 1)\n",
      "('계란', 3)\n",
      "('햇반', 1)\n",
      "('커피', 2)\n",
      "('맥주', 1)\n",
      "('우유', 3)\n",
      "('간장', 1)\n",
      "('빵', 2)\n",
      "('휴지', 1)\n",
      "('버터', 1)\n",
      "('생수', 1)\n"
     ]
    }
   ],
   "source": [
    "# 항목별 등장 횟수 출력\n",
    "\n",
    "# 전체 항목을 단일 목록 구성\n",
    "full_item_lst = [item for tr in T for item in tr]\n",
    "\n",
    "# 집합 set 으로 형 변환하여 중복 제거하여 상품목록\n",
    "unique_item_set = set(full_item_lst)\n",
    "\n",
    "#  상품목록 별로 등장 회수 세기\n",
    "i_cnt_dict = { key_item: full_item_lst.count(key_item)\n",
    "                  for key_item in unique_item_set }\n",
    "\n",
    "# 항목별 등장 회수 출력\n",
    "print ('항목별 등장 횟수')\n",
    "for item in i_cnt_dict.items() :\n",
    "  print(item)"
   ]
  },
  {
   "cell_type": "markdown",
   "metadata": {},
   "source": [
    "### support(우유 -> 계란)"
   ]
  },
  {
   "cell_type": "code",
   "execution_count": 8,
   "metadata": {},
   "outputs": [
    {
     "name": "stdout",
     "output_type": "stream",
     "text": [
      " N = 5\n",
      " Freq(X) = 3  \n",
      " Freq(Y) = 3 \n"
     ]
    }
   ],
   "source": [
    "# 지지도 support (우유=> 계란)\n",
    "# 거래 데이터 수(N), 우유 등장횟수(f_x), 계란 등장횟수(f_x)\n",
    "\n",
    "N= len(T)\n",
    "f_x = sum(['우유' in tr for tr in T])\n",
    "f_y = sum(['계란' in tr for tr in T])\n",
    "\n",
    "print ( f' N = {N}\\n Freq(X) = {f_x}  \\n Freq(Y) = {f_y} ')\n"
   ]
  },
  {
   "cell_type": "code",
   "execution_count": 11,
   "metadata": {},
   "outputs": [
    {
     "name": "stdout",
     "output_type": "stream",
     "text": [
      " Freq(X,Y)= 2 \n"
     ]
    }
   ],
   "source": [
    "# 우유와 계란 함께 있는(동시에 있는) 트랜젝션 개수 (f_x_y)\n",
    "# all([T, T, F, T, F],\n",
    "#     [T, F, F, T, F]) -> 에서 둘다 T면 T / sum([T, F, F, T, F])\n",
    "\n",
    "f_x_y = sum([all(item in tr for item in ['우유','계란']) for tr in T ])\n",
    "print(f' Freq(X,Y)= {f_x_y} ')\n"
   ]
  },
  {
   "cell_type": "markdown",
   "metadata": {},
   "source": [
    "- `all()`: 모든 조건이 참일 경우에만 참을 반환하는 함수\n",
    "    - 우유와 계란이 둘 다 포함 되어있어야 참을 반환"
   ]
  },
  {
   "cell_type": "code",
   "execution_count": 12,
   "metadata": {},
   "outputs": [
    {
     "name": "stdout",
     "output_type": "stream",
     "text": [
      " Support(우유=>계란) = 0.40\n"
     ]
    }
   ],
   "source": [
    "# support (우유 => 계란)\n",
    "support= f_x_y / N\n",
    "print (f' Support(우유=>계란) = {support:.2f}')"
   ]
  },
  {
   "cell_type": "markdown",
   "metadata": {},
   "source": [
    "### confidence(우유 -> 계란)"
   ]
  },
  {
   "cell_type": "code",
   "execution_count": 13,
   "metadata": {},
   "outputs": [
    {
     "name": "stdout",
     "output_type": "stream",
     "text": [
      "confidence(우유=>계란) = 0.67\n"
     ]
    }
   ],
   "source": [
    "# 신뢰도 confidence (우유 => 계란)\n",
    "confidence = support / (f_x / N)\n",
    "print (f'confidence(우유=>계란) = {confidence:.2f}')"
   ]
  },
  {
   "cell_type": "markdown",
   "metadata": {},
   "source": [
    "### lift(우유 -> 계란)"
   ]
  },
  {
   "cell_type": "code",
   "execution_count": 14,
   "metadata": {},
   "outputs": [
    {
     "name": "stdout",
     "output_type": "stream",
     "text": [
      "lift(우유 => 계란) = 1.11\n"
     ]
    }
   ],
   "source": [
    "# 리프트 lift(우유 => 계란)\n",
    "lift = confidence / (f_y / N)\n",
    "print (f'lift(우유 => 계란) = {lift:.2f}')"
   ]
  },
  {
   "cell_type": "markdown",
   "metadata": {},
   "source": [
    "### leverage(우유 -> 계란)"
   ]
  },
  {
   "cell_type": "code",
   "execution_count": 15,
   "metadata": {},
   "outputs": [
    {
     "name": "stdout",
     "output_type": "stream",
     "text": [
      "leverage(우유 => 계란) = 0.04\n"
     ]
    }
   ],
   "source": [
    "# 레버리지 leverage(우유 => 계란)\n",
    "leverage = support - (f_x /N) * (f_y /N)\n",
    "print (f'leverage(우유 => 계란) = {leverage:.2f}')"
   ]
  },
  {
   "cell_type": "markdown",
   "metadata": {},
   "source": [
    "### conviction(우유 -> 계란)"
   ]
  },
  {
   "cell_type": "code",
   "execution_count": 16,
   "metadata": {},
   "outputs": [
    {
     "name": "stdout",
     "output_type": "stream",
     "text": [
      "conviction(우유 => 계란) = 1.20\n"
     ]
    }
   ],
   "source": [
    "# 확신 conviction(우유 => 계란)\n",
    "conviction = (1-(f_y/N)) / (1-confidence)\n",
    "print (f'conviction(우유 => 계란) = {conviction:.2f}')"
   ]
  }
 ],
 "metadata": {
  "kernelspec": {
   "display_name": "ai_recmd",
   "language": "python",
   "name": "python3"
  },
  "language_info": {
   "codemirror_mode": {
    "name": "ipython",
    "version": 3
   },
   "file_extension": ".py",
   "mimetype": "text/x-python",
   "name": "python",
   "nbconvert_exporter": "python",
   "pygments_lexer": "ipython3",
   "version": "3.11.9"
  }
 },
 "nbformat": 4,
 "nbformat_minor": 2
}

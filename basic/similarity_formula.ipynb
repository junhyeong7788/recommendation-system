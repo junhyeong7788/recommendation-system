{
 "cells": [
  {
   "cell_type": "markdown",
   "metadata": {},
   "source": [
    "## 유사도 계산\n",
    "- 추천 시스템\n",
    "    - 어떤 user와 취향이 유사한 user가 좋아하는 item 추천\n",
    "    - 어떤 user가 좋아하는 item과 유사한 item 찾음\n",
    "- 사용자간 유사도 측정\n",
    "    - 유클리디안 거리 : 거리가 멀수록 유사하지 않음\n",
    "    - 코사인 유사도 \n",
    "    - 피어슨 상관계수 : 두 객체 간의 공분산과 표준편차를 이용"
   ]
  },
  {
   "cell_type": "markdown",
   "metadata": {},
   "source": [
    "### L1 norm, L2 norm\n",
    "- 1차 노름 (맨해튼 거리) : 벡터의 각 요소의 절댓값의 합으로 정의\n",
    "    - $||x||_1 = \\sum_{i=1}^{n} |x_i|$\n",
    "    - 맨해튼 거리로 격자 구조를 따라 이동하는 거리를 측정\n",
    "    - 이상치에 상대적으로 덜 민감\n",
    "    - 0에서 미분 불가능\n",
    "    - 특정 요소를 0으로 만들어 희소한 해를 생성하는 경향이 있다\n",
    "    - L1 정규화는 특성 선택에 유용\n",
    "- 2차 노름 (유클리드 거리) : 벡터의 각 요소를 제곱한 후 그 합의 제곱근으로 정의\n",
    "    - $||x||_2 = \\sqrt{\\sum_{i=1}^{n} x_i^2}$\n",
    "    - 유클리드 거리로, 두 점 사이의 직선 거리를 측정\n",
    "    - 이상치에 더 민감하게 반응\n",
    "    - 모든 지점에서 미분 가능\n",
    "    - 모든 요소를 작은 값으로 유지하려는 경향이 있다\n",
    "    - L2 정규화는 과적합을 방지하고 모델의 일반화 성능을 향상시키는 데 효과적이다."
   ]
  },
  {
   "cell_type": "markdown",
   "metadata": {},
   "source": [
    "### 분산과 공분산\n",
    "- 데이터의 분포와 관계를 이해하는데 중요한 통계적 개념\n",
    "- 분산 : 데이터가 평균을 중심으로 얼마나 퍼져있는지를 나타내는 지표\n",
    "    - 정의 : 각 데이터 포인트와 평균의 차이를 제곱한 값들의 평균\n",
    "    - 의미 : 데이터의 변동성 또는 퍼짐 정도를 측정\n",
    "    - ex:  키 데이터의 분산이 크다면 키가 매우 작은 사람부터 매우 큰 사람까지 다양하게 분포되어 있다는 뜻\n",
    "- 공분산 : 두 변수 간의 관계를 나타내는 지표\n",
    "    - 정의 : 두 변수의 편차(각 값에서 평균을 뺀 값)를 곱한 값들의 평균\n",
    "    - 의미 : 두 변수가 어떤 방향으로 함께 변하는지를 나타냄\n",
    "    - ex : 키와 몸무게의 공분산이 양수라면, 일반적으로 키가 큰 사람이 몸무게도 더 나간다는 경향이 있다는 것을 의미"
   ]
  },
  {
   "cell_type": "markdown",
   "metadata": {},
   "source": [
    "## Euclidean score (유클리디안 거리)\n",
    "- 유클라디안 거리(2차 노름) : 두 점 사이의 거리를 계산하는 방법 중 하나로, 두 점 사이의 직선 거리를 계산하는 방법 (단순 두 벡터 사이의 거리)\n",
    "- $$d_E(x, y) = ||x - y||_2 = \\sqrt{(x-y)^T(x-y)} = \\sqrt{\\sum_{i=1}^{n}(x_i - y_i)^2}$$"
   ]
  },
  {
   "cell_type": "code",
   "execution_count": 3,
   "metadata": {},
   "outputs": [],
   "source": [
    "import numpy as np\n",
    "import pandas as pd\n",
    "\n",
    "user_a = np.array([5.0, 0.5, 4.0, 3.5, 3.5])\n",
    "user_b = np.array([5.0, 3.0, 5.0, 5.0, 5.0])"
   ]
  },
  {
   "cell_type": "code",
   "execution_count": 9,
   "metadata": {},
   "outputs": [
    {
     "name": "stdout",
     "output_type": "stream",
     "text": [
      "6.5\n"
     ]
    }
   ],
   "source": [
    "# 일반적인 공식\n",
    "def euclidian_dis(A, B):\n",
    "    return np.sqrt(np.sum(A-B)**2)\n",
    "\n",
    "print(euclidian_dis(user_a, user_b))"
   ]
  },
  {
   "cell_type": "markdown",
   "metadata": {},
   "source": [
    "## Pearson correlation score (피어슨 상관계수)\n",
    "- 상관계수 : 두 변수 사이의 통계적 관계를 표현하기 위해 특정한 상관 관계의 정도를 수치적으로 나타낸 계수\n",
    "    - 여러 유형의 상관계수가 존재, 이들은 모두 값의 범위가 -1에서 1 사이에 속하며, 여기서 1은 정도가 가장 센 잠재적 일치를 나타내고 0은 정도가 가장 센 불일치를 나타낸다.\n",
    "\n",
    "- 피어슨 상관계수 : 두 변수 X와 Y간의 선형 상관 관계를 계량화한 수치\n",
    "    - 변수들간의 관련성을 구하는 `이변량 상관분석(bivariate analysis or bivariate correlation analysis)`에서 보편적으로 사용\n",
    "    - 코시-슈바르츠 부등식에 의해 -1과 1 사이의 값을 가짐 \n",
    "        - 1 : 완벽한 양의 선형 상관 관계\n",
    "        - 0 : 선형 상관 관계 없음\n",
    "        - -1 : 완벽한 음의 선형 상관 관계\n",
    "    - 결정 계수 : $r^2$ 로 계산하며 이것은 X로부터 Y를 예측할 수 있는 정도\n",
    "    - **Definition** : 표본(sample) 피어슨 상관 계수는 등간 척도(간격 척도)나 비례 척도(비율 척도)의 데이터에서 두 변수의 공분산을 각각의 표준 편차의 곱으로 나눈 값\n",
    "        - 피어슨 상관계수 : $\\frac{cov(X, Y)}{\\sigma_X \\sigma_Y}$\n",
    "            - 여기서, cov(X, Y)는 X와 Y의 공분산, $\\sigma_X$와 $\\sigma_Y$는 X와 Y의 표준편차를 의미합니다.\n",
    "        - $r_{XY} = \\frac{\\sum_{i=1}^{n} (X_i - \\bar{X})(Y_i - \\bar{Y})}{\\sqrt{\\sum_{i=1}^{n} (X_i - \\bar{X})^2} \\sqrt{\\sum_{i=1}^{n} (Y_i - \\bar{Y})^2}}$\n",
    "            - 여기서, $\\bar{X}$와 $\\bar{Y}$는 X의 평균, Y의 평균을 의미합니다."
   ]
  },
  {
   "cell_type": "markdown",
   "metadata": {},
   "source": [
    "### 상관 분석 (Correlation Analysis)\n",
    "- 확률론과 통계학에서 두 변수 간에 어떤 `선형적 관계`를 갖고 있는 지를 분석하는 방법\n",
    "    - 두 변수는 서로 독립적인 관계이거나 상관된 관계일 수 있으며, 이때 두 변수 간의 관계의 강도를 `상관 관계(Correlation)`라고 함\n",
    "    - 상관분석에서는 상관관계의 정도를 나타내는 단위로 `모상관계수`로 $ρ$를 사용하며 `표본 상관 계수`로 $r$을 사용\n",
    "- 기본 가정\n",
    "    - 선형성 : 두 변인 X와 Y의 관계가 직선적인지를 알아보는 것, 이 가정은 분포를 나타내는 산점도를 통하여 확인가능\n",
    "    - 동변량성 : X의 값에 관계없이 Y의 흩어진 정도가 같은 것을 의미, 이분산성이 반대\n",
    "    - 두 변인의 정규분포성 : 두 변인의 측정치 분포가 모집단에서 모두 정규분포를 이루는 것\n",
    "    - 무선독립표본 : 모집단에서 표본을 뽑을 때 표본대상이 확률적으로 선정된다는 것\n",
    "- 분석 방법\n",
    "    - 단순히 두 개의 변수가 어느 정도 강한 관계에 있는가를 측정하는 `단순상관분석(simply correlation analysis)`\n",
    "    - 두 개 이상의 변수간 관계 강도를 측정하는 `다중상관분석(multiple correlation analysis)`\n",
    "    - 다중상관분석에서 다른 변수와의 관계를 고정하고 두 변수의 관계 강도를 나타내는 것을 `편상관분석(partial correlation analysis)`이라고 함"
   ]
  },
  {
   "cell_type": "markdown",
   "metadata": {},
   "source": [
    "### 일반적인 공식을 사용한 예제"
   ]
  },
  {
   "cell_type": "code",
   "execution_count": 10,
   "metadata": {},
   "outputs": [
    {
     "name": "stdout",
     "output_type": "stream",
     "text": [
      "0.9312661473328351\n"
     ]
    }
   ],
   "source": [
    "# 일반적인 공식\n",
    "def pearson_sim(a, b):\n",
    "    covariance = np.dot((a - np.mean(a)), (b - np.mean(b)))\n",
    "    std_deviation = np.linalg.norm(a - np.mean(a)) * np.linalg.norm(b - np.mean(b))\n",
    "    return covariance/std_deviation\n",
    "\n",
    "print(pearson_sim(user_a, user_b))"
   ]
  },
  {
   "cell_type": "markdown",
   "metadata": {},
   "source": [
    "- covariance : 공분산은 두 변수가 함께 변화하는 정도를 나타내는 값\n",
    "    - `a - np.mean(a)` : a의 각 요소에서 a의 평균을 뺀 것, a의 평균을 기준으로 한 각 요소의 편차를 계산\n",
    "    - `np.dot(x, y)`: 두 배열 x와 y의 점곱(dot product)을 계산, 여기서 점곱은 a와 b의 편차에 대한 곱의 합을 반환, 이는 공분산의 계산에 해당\n",
    "- std_deviation : 표준편차는 데이터의 산포도를 나타내는 수치로, 데이터가 평균으로부터 얼마나 퍼져있는지를 나타냄\n",
    "    - `np.linalg.norm(x)`: 벡터 x의 유클리드 노름(또는 2차 노름)을 계산, 벡터의 노름은 원점에서 벡터까지의 거리를 의미, 이 경우 a와 b의 편차에 대한 각각의 노름을 구함\n",
    "    - 두 노름의 곱함으로써 a와 b의 표준편차의 곱을 얻는다. 이 값은 피어슨 상관계수의 분모로 사용됨\n",
    "    "
   ]
  },
  {
   "cell_type": "code",
   "execution_count": 11,
   "metadata": {},
   "outputs": [
    {
     "name": "stdout",
     "output_type": "stream",
     "text": [
      "0.8528028654224417\n",
      "0.7071067811865475\n",
      "0.0\n",
      "-0.7921180343813393\n"
     ]
    }
   ],
   "source": [
    "# 각 사용자 데이터가 4개로 구성\n",
    "user_1 = np.array([5.0, 3.0, 4.0, 4.0])\n",
    "user_2 = np.array([3.0, 1.0, 2.0, 3.0])\n",
    "user_3 = np.array([4.0, 3.0, 4.0, 3.0])\n",
    "user_4 = np.array([3.0, 3.0, 1.0, 5.0])\n",
    "user_5 = np.array([1.0, 5.0, 5.0, 2.0])\n",
    "\n",
    "print(pearson_sim(user_1, user_2))\n",
    "print(pearson_sim(user_1, user_3))\n",
    "print(pearson_sim(user_1, user_4))\n",
    "print(pearson_sim(user_1, user_5))"
   ]
  },
  {
   "cell_type": "markdown",
   "metadata": {},
   "source": [
    "- 결과 해석\n",
    "    - 강한 양의 상관관계 : 유사도가 1에 가까울수록 유사도가 높음 (두 사용자가 비슷한 평가 패턴을 가지고 있다.)\n",
    "    - 상관관계가 없다 : 유사도가 0에 가까울수록 유사도가 낮음 (두 사용자의 평가 패턴은 서로 관련이 없다.)\n",
    "    - 강한 음의 상관관계 : 유사도가 -1에 가까울수록 유사도가 낮음 (두 사용자가 반대로 평가 패턴을 가지고 있다. = 한 사용자가 높은 평점을 줄 때 다른 사용자는 낮은 평점을 준다는 것을 의미)"
   ]
  },
  {
   "cell_type": "code",
   "execution_count": 12,
   "metadata": {},
   "outputs": [
    {
     "name": "stdout",
     "output_type": "stream",
     "text": [
      "0.1889822365046136\n",
      "0.8910421112136304\n",
      "0.9449111825230679\n",
      "0.654653670707977\n"
     ]
    }
   ],
   "source": [
    "# 각 사용자 데이터가 3개로 구성\n",
    "user_1 = np.array([2.0, 5.0, 3.0])\n",
    "user_2 = np.array([4.0, 4.0, 3.0])\n",
    "user_3 = np.array([1.0, 5.0, 4.0])\n",
    "user_4 = np.array([3.0, 5.0, 3.0])\n",
    "user_5 = np.array([4.0, 5.0, 3.0])\n",
    "\n",
    "print(pearson_sim(user_1, user_2))\n",
    "print(pearson_sim(user_1, user_3))\n",
    "print(pearson_sim(user_1, user_4))\n",
    "print(pearson_sim(user_1, user_5))"
   ]
  },
  {
   "cell_type": "markdown",
   "metadata": {},
   "source": [
    "- 결과 해석\n",
    "    - 약한 양의 상관관계 : 두 사용자의 평가 패턴은 약간 비슷할 수 있으나 크게 유사하다고 보기는 어렵다.\n",
    "    - 약한 음의 상관관계 : 두 사용자의 평가 패턴은 약간 다르지만 크게 다르다고 보기는 어렵다.\n",
    "    \n",
    "- **데이터 개수의 차이**\n",
    "    - Pearson 상관계수는 두 사용자의 평점 간의 상관관계를 측정하는데, 사용자의 평점 데이터가 달라지면 두 사용자 간의 유사성도 달라진다. 데이터가 다르면, 사용자 간의 공통적인 패턴이나 경향성이 다를 수 있고 이는 피어슨 상관계수 결과에 직접적인 영향을 미친다.\n"
   ]
  },
  {
   "cell_type": "code",
   "execution_count": 13,
   "metadata": {},
   "outputs": [
    {
     "name": "stdout",
     "output_type": "stream",
     "text": [
      "0.8528028654224417\n",
      "0.7071067811865475\n",
      "0.0\n",
      "-0.7921180343813393\n"
     ]
    }
   ],
   "source": [
    "# list로 처리하여 인덱스로 계산\n",
    "users = [[5.0, 3.0, 4.0, 4.0],\n",
    "         [3.0, 1.0, 2.0, 3.0],\n",
    "         [4.0, 3.0, 4.0, 3.0],\n",
    "         [3.0, 3.0, 1.0, 5.0],\n",
    "         [1.0, 5.0, 5.0, 2.0]]\n",
    "\n",
    "print(pearson_sim(users[0], users[1]))\n",
    "print(pearson_sim(users[0], users[2]))\n",
    "print(pearson_sim(users[0], users[3]))\n",
    "print(pearson_sim(users[0], users[4]))"
   ]
  },
  {
   "cell_type": "markdown",
   "metadata": {},
   "source": [
    "### Scipy를 사용한 예제"
   ]
  },
  {
   "cell_type": "code",
   "execution_count": 14,
   "metadata": {},
   "outputs": [
    {
     "name": "stdout",
     "output_type": "stream",
     "text": [
      " 1 : PearsonRResult(statistic=np.float64(0.931266147332835), pvalue=np.float64(0.021407250596872394))\n",
      " 2 : 0.931266147332835\n"
     ]
    }
   ],
   "source": [
    "# scipy 이용 (상관계수, p-value)\n",
    "from scipy.stats import pearsonr\n",
    "\n",
    "print(f' 1 : {pearsonr(user_a, user_b)}')\n",
    "print(f' 2 : {pearsonr(user_a, user_b)[0]}') # 튜플에서 첫번째 요소, 즉 상관계수를 추출하는 인덱스"
   ]
  },
  {
   "cell_type": "markdown",
   "metadata": {},
   "source": [
    "- `scipy.stats.pearsonr(x, y)` : scipy.stats모듈의 일부, 두 데이터 집합 사이의 피어슨 상관계수와 이 상관계수가 통계적으로 유의미한지를 알려주는 p-value를 함께 반환, (튜플 형태로 반환)\n",
    "    - p-value : 상관계수가 0인 귀무 가설에 대한 검정 결과를 나타내는 값, 상관계수가 얻어진 샘플 데이터에 기반하여 통계적으로 유의미한지를 판단하는 데 사용, 일반적으로 p-value가 0.05 이하일 경우, 상관계수는 통계적으로 유의미하다고 간주"
   ]
  },
  {
   "cell_type": "markdown",
   "metadata": {},
   "source": [
    "### Numpy를 사용한 예제"
   ]
  },
  {
   "cell_type": "code",
   "execution_count": 15,
   "metadata": {},
   "outputs": [
    {
     "name": "stdout",
     "output_type": "stream",
     "text": [
      "[[1.         0.93126615]\n",
      " [0.93126615 1.        ]]\n"
     ]
    }
   ],
   "source": [
    "# numpy, 상관계수의 계수\n",
    "print(np.corrcoef(user_a, user_b))"
   ]
  },
  {
   "cell_type": "markdown",
   "metadata": {},
   "source": [
    "### Pandas를 사용한 예제"
   ]
  },
  {
   "cell_type": "code",
   "execution_count": 16,
   "metadata": {},
   "outputs": [
    {
     "name": "stdout",
     "output_type": "stream",
     "text": [
      "   user_a  user_b\n",
      "0     5.0     5.0\n",
      "1     0.5     3.0\n",
      "2     4.0     5.0\n",
      "3     3.5     5.0\n",
      "4     3.5     5.0\n",
      "          user_a    user_b\n",
      "user_a  1.000000  0.931266\n",
      "user_b  0.931266  1.000000\n"
     ]
    }
   ],
   "source": [
    "# pandas\n",
    "df = pd.DataFrame([(5.0, 5.0), (0.5, 3.0), (4.0, 5.0), (3.5, 5.0), (3.5, 5.0)], \n",
    "                  columns =['user_a', 'user_b'])\n",
    "print(df)\n",
    "print(df.corr(method='pearson'))\n"
   ]
  },
  {
   "cell_type": "markdown",
   "metadata": {},
   "source": [
    "## Cosine Similarity (코사인 유사도)\n",
    "- 내적 공간의 두 벡터간 각도의 코사인 값을 이용하여 측정된 벡터간의 유사한 정도를 의미\n",
    "- 각도가 0도일 때 코사인 값은 1이며, 다른 모든 각도의 코사인 값은 1보다 작다.\n",
    "- 이 값은 벡터의 크기가 아닌 방향의 유사도를 판단하는 목적으로 사용\n",
    "    - 두 벡터의 방향이 완전히 같을 경우 : 1\n",
    "    - 90도의 각을 이룰 경우 : 0\n",
    "    - 180도의 각을 이룰 경우 : -1\n",
    "\n",
    "- **Definition** : 두 벡터의 코사인 값은 유클라디안 스칼라곱 공식에서 유도 가능\n",
    "    - $a \\cdot b = ||a|| \\cdot ||b|| \\cdot cos(\\theta)$\n",
    "    - 속성 A, B의 벡터 값이 각각 주어 졌을 때, 코사인 유사도는 벡터의 스칼라곱과 크기로 다음과 같이 표현할 수 있다.\n",
    "    - $similarity = cos(\\theta) = \\frac{A \\cdot B}{||A|| \\cdot ||B||} = \\frac{\\sum_{i=1}^{n} A_i \\cdot B_i}{\\sqrt{\\sum_{i=1}^{n} A_i^2} \\cdot \\sqrt{\\sum_{i=1}^{n} B_i^2}}$"
   ]
  },
  {
   "cell_type": "code",
   "execution_count": 17,
   "metadata": {},
   "outputs": [],
   "source": [
    "from scipy.spatial.distance import cosine\n",
    "from numpy import dot\n",
    "from numpy.linalg import norm"
   ]
  },
  {
   "cell_type": "code",
   "execution_count": 18,
   "metadata": {},
   "outputs": [
    {
     "name": "stdout",
     "output_type": "stream",
     "text": [
      "0.0373\n"
     ]
    }
   ],
   "source": [
    "# 일반적인 공식\n",
    "def cos_sim(A, B):\n",
    "    return 1-dot(A,B)/(norm(A)*norm(B))\n",
    "\n",
    "print(round(cos_sim(user_a,user_b),4))  "
   ]
  },
  {
   "cell_type": "code",
   "execution_count": 19,
   "metadata": {},
   "outputs": [
    {
     "name": "stdout",
     "output_type": "stream",
     "text": [
      "0.9941\n",
      "0.9396\n",
      "0.7226\n",
      "0.7389\n"
     ]
    }
   ],
   "source": [
    "i1 = np.asarray([3,4,3,1])\n",
    "i2 = np.asarray([1,3,3,5])\n",
    "i3 = np.asarray([2,4,1,5])\n",
    "i4 = np.asarray([3,3,5,2])\n",
    "i5 = np.asarray([3,5,4,1])\n",
    "\n",
    "print(round(1-cosine(i1, i5),4) )\n",
    "print(round(1-cosine(i4, i5),4) )\n",
    "print(round(1-cosine(i3, i5),4) )\n",
    "print(round(1-cosine(i2, i5),4) )"
   ]
  },
  {
   "cell_type": "code",
   "execution_count": 20,
   "metadata": {},
   "outputs": [
    {
     "data": {
      "text/plain": [
       "array([[5., 3., 4., 4.],\n",
       "       [3., 1., 2., 3.],\n",
       "       [4., 3., 4., 3.],\n",
       "       [3., 3., 1., 5.],\n",
       "       [1., 5., 5., 2.]])"
      ]
     },
     "execution_count": 20,
     "metadata": {},
     "output_type": "execute_result"
    }
   ],
   "source": [
    "items = np.array(users)\n",
    "items"
   ]
  },
  {
   "cell_type": "markdown",
   "metadata": {},
   "source": [
    "## SVD(Singular Value Decomposition): 특이값분해\n",
    "- 행렬의 특정한 구조로 분해하는 방식\n",
    "- 행렬의 스펙트럼 이론을 임의의 직사각행렬에 대해 일반화한 것\n",
    "\n",
    "- **Definition** : 실수나 복소수로 이루어진 체 K의 원소로 구성되는 m * n 행렬 M에 대해, M은 다음과 같은 세 행렬의 곱으로 분해가능\n",
    "    - $M = U \\Sigma V^T$\n",
    "        - $U$ : m x m 직교 행렬\n",
    "        - $\\Sigma$ : m x n 직사각 대각 행렬\n",
    "        - $V^T$ : n x n 직교 행렬\n",
    "        - 행렬 M을 이와 같은 세 행렬의 곱으로 나타내는 것 : M의 특이값 분해\n",
    "\n",
    "- SVD 의미\n",
    "    - 직교하는 벡터 집합에 대하여, 선형 변환 후에 그 크기는 변하지만 여전히 직교할 수 있게 되는 그 직교 집합은 여러 개 존재"
   ]
  },
  {
   "cell_type": "code",
   "execution_count": 10,
   "metadata": {},
   "outputs": [],
   "source": [
    "from numpy import *\n",
    "from numpy import linalg as la\n",
    "from numpy import matrix as mat # 최신 버전 numpy에서 권장되지 않음, 명시적 import를 수행"
   ]
  },
  {
   "cell_type": "code",
   "execution_count": 11,
   "metadata": {},
   "outputs": [],
   "source": [
    "Data = [[1, 1, 1, 0, 0],\n",
    "        [2, 2, 2, 0, 0],\n",
    "        [1, 1, 1, 0, 0],\n",
    "        [5, 5, 5, 0, 0],\n",
    "        [1, 1, 0, 2, 2], # 5번 행, 2열의 0 때문에 latent vector는 3개가 나올 수 있다,\n",
    "        [0, 0, 0, 3, 3],\n",
    "        [0, 0, 0, 1, 1]]"
   ]
  },
  {
   "cell_type": "code",
   "execution_count": 12,
   "metadata": {},
   "outputs": [],
   "source": [
    "U, Sigma, VT=linalg.svd(Data)"
   ]
  },
  {
   "cell_type": "code",
   "execution_count": 13,
   "metadata": {},
   "outputs": [
    {
     "name": "stdout",
     "output_type": "stream",
     "text": [
      "[9.7214 5.294  0.6842 0.     0.    ]\n"
     ]
    }
   ],
   "source": [
    "print(Sigma.round(4))"
   ]
  },
  {
   "cell_type": "markdown",
   "metadata": {},
   "source": [
    "- 2번 인덱스 열은 어느정도 손실을 가지고 있다\n",
    "- `최신 버전 numpy에서 mat함수는 권장되지 않음, 명시적 import를 해서 계산 수행`\n",
    "##### 아래는 Sigma 두개만 사용해서 나온 결과"
   ]
  },
  {
   "cell_type": "code",
   "execution_count": 14,
   "metadata": {},
   "outputs": [
    {
     "data": {
      "text/plain": [
       "matrix([[9.72140007, 0.        ],\n",
       "        [0.        , 5.29397912]])"
      ]
     },
     "execution_count": 14,
     "metadata": {},
     "output_type": "execute_result"
    }
   ],
   "source": [
    "Sig2=mat([[Sigma[0], 0],[0, Sigma[1]]])\n",
    "Sig2"
   ]
  },
  {
   "cell_type": "code",
   "execution_count": 21,
   "metadata": {},
   "outputs": [
    {
     "name": "stdout",
     "output_type": "stream",
     "text": [
      "[[ 1.00329749  1.00329749  0.99469348 -0.00896486 -0.00896486]\n",
      " [ 2.00659498  2.00659498  1.98938696 -0.01792971 -0.01792971]\n",
      " [ 1.00329749  1.00329749  0.99469348 -0.00896486 -0.00896486]\n",
      " [ 5.01648746  5.01648746  4.97346741 -0.04482428 -0.04482428]\n",
      " [ 0.75529209  0.75529209  0.45982155  2.01620465  2.01620465]\n",
      " [ 0.12164861  0.12164861 -0.30273739  2.96231243  2.96231243]\n",
      " [ 0.04054954  0.04054954 -0.10091246  0.98743748  0.98743748]]\n"
     ]
    }
   ],
   "source": [
    "print(U[:,:2]*Sig2*VT[:2,:].round(2))"
   ]
  },
  {
   "cell_type": "markdown",
   "metadata": {},
   "source": [
    "##### Sigma 3개를 다 사용한 경우"
   ]
  },
  {
   "cell_type": "code",
   "execution_count": 16,
   "metadata": {},
   "outputs": [
    {
     "data": {
      "text/plain": [
       "matrix([[9.72140007, 0.        , 0.        ],\n",
       "        [0.        , 5.29397912, 0.        ],\n",
       "        [0.        , 0.        , 0.68422636]])"
      ]
     },
     "execution_count": 16,
     "metadata": {},
     "output_type": "execute_result"
    }
   ],
   "source": [
    "Sig3=mat([[Sigma[0], 0, 0],[0, Sigma[1], 0], [0, 0, Sigma[2]]])\n",
    "Sig3"
   ]
  },
  {
   "cell_type": "code",
   "execution_count": 28,
   "metadata": {},
   "outputs": [
    {
     "name": "stdout",
     "output_type": "stream",
     "text": [
      "[[ 1.00000000e+00  1.00000000e+00  1.00000000e+00 -3.90646691e-17\n",
      "  -3.29197804e-17]\n",
      " [ 2.00000000e+00  2.00000000e+00  2.00000000e+00 -2.15042255e-16\n",
      "  -1.94078861e-16]\n",
      " [ 1.00000000e+00  1.00000000e+00  1.00000000e+00  1.01047078e-15\n",
      "   1.02268720e-15]\n",
      " [ 5.00000000e+00  5.00000000e+00  5.00000000e+00 -3.68802874e-17\n",
      "   1.52029389e-17]\n",
      " [ 1.00000000e+00  1.00000000e+00 -5.57126306e-16  2.00000000e+00\n",
      "   2.00000000e+00]\n",
      " [ 8.26554259e-17  6.29499067e-16 -1.11010484e-15  3.00000000e+00\n",
      "   3.00000000e+00]\n",
      " [ 3.64291930e-17  2.14238349e-16 -3.33066907e-16  1.00000000e+00\n",
      "   1.00000000e+00]]\n"
     ]
    }
   ],
   "source": [
    "print(U[:,:3]*Sig3*VT[:3,:])"
   ]
  },
  {
   "cell_type": "markdown",
   "metadata": {},
   "source": [
    "---\n",
    "### 최신 버전 numpy에서 실행\n",
    "- numpy.array를 사용하여 대체, 더 넓은 범위의 배열 연산을 지원"
   ]
  },
  {
   "cell_type": "code",
   "execution_count": 29,
   "metadata": {},
   "outputs": [],
   "source": [
    "Data = np.array([\n",
    "        [1, 1, 1, 0, 0],\n",
    "        [2, 2, 2, 0, 0],\n",
    "        [1, 1, 1, 0, 0],\n",
    "        [5, 5, 5, 0, 0],\n",
    "        [1, 1, 0, 2, 2],\n",
    "        [0, 0, 0, 3, 3],\n",
    "        [0, 0, 0, 1, 1]\n",
    "        ])"
   ]
  },
  {
   "cell_type": "code",
   "execution_count": 30,
   "metadata": {},
   "outputs": [],
   "source": [
    "U, Sigma, VT = np.linalg.svd(Data)"
   ]
  },
  {
   "cell_type": "markdown",
   "metadata": {},
   "source": [
    "- `np.linalg.svd` : numpy의 선형대수 모듈인 linalg의 svd 함수, 입력으로 주어진 행렬에 대해 특이값 분해를 수행\n",
    "- 변수 `U, Sigma, VT` : python에서 여러 결과값을 한 줄에 동시에 여러 변수에 할당할 수 있는 튜플 언패킹(tuple unpacking)기능을 사용"
   ]
  },
  {
   "cell_type": "code",
   "execution_count": 31,
   "metadata": {},
   "outputs": [
    {
     "data": {
      "text/plain": [
       "array([[-1.77939726e-01, -1.64228493e-02,  1.80501685e-02,\n",
       "         9.33469527e-01,  1.84613153e-01,  2.38823968e-01,\n",
       "         7.25098187e-02],\n",
       "       [-3.55879451e-01, -3.28456986e-02,  3.61003369e-02,\n",
       "         4.30283211e-02, -8.97026650e-01,  2.13260976e-01,\n",
       "         1.37765204e-01],\n",
       "       [-1.77939726e-01, -1.64228493e-02,  1.80501685e-02,\n",
       "        -3.28116369e-01,  2.97158526e-01,  8.32662862e-01,\n",
       "         2.80090972e-01],\n",
       "       [-8.89698628e-01, -8.21142464e-02,  9.02508423e-02,\n",
       "        -1.38281960e-01,  2.62456324e-01, -2.99601757e-01,\n",
       "        -1.25626240e-01],\n",
       "       [-1.33954753e-01,  5.33527340e-01, -8.35107599e-01,\n",
       "         3.04913130e-16,  6.19146432e-16,  5.15661314e-16,\n",
       "         1.49309014e-16],\n",
       "       [-2.15749771e-02,  7.97677135e-01,  5.13074760e-01,\n",
       "        -3.08878687e-04, -2.01857916e-02,  1.06955231e-01,\n",
       "        -2.96905738e-01],\n",
       "       [-7.19165903e-03,  2.65892378e-01,  1.71024920e-01,\n",
       "         9.26636062e-04,  6.05573747e-02, -3.20865693e-01,\n",
       "         8.90717213e-01]])"
      ]
     },
     "execution_count": 31,
     "metadata": {},
     "output_type": "execute_result"
    }
   ],
   "source": [
    "U"
   ]
  },
  {
   "cell_type": "code",
   "execution_count": 32,
   "metadata": {},
   "outputs": [
    {
     "data": {
      "text/plain": [
       "array([9.72140007e+00, 5.29397912e+00, 6.84226362e-01, 9.66626798e-16,\n",
       "       1.89393621e-31])"
      ]
     },
     "execution_count": 32,
     "metadata": {},
     "output_type": "execute_result"
    }
   ],
   "source": [
    "Sigma"
   ]
  },
  {
   "cell_type": "code",
   "execution_count": 33,
   "metadata": {},
   "outputs": [
    {
     "data": {
      "text/plain": [
       "array([[-5.81200877e-01, -5.81200877e-01, -5.67421508e-01,\n",
       "        -3.49564973e-02, -3.49564973e-02],\n",
       "       [ 4.61260083e-03,  4.61260083e-03, -9.61674228e-02,\n",
       "         7.03814349e-01,  7.03814349e-01],\n",
       "       [-4.02721076e-01, -4.02721076e-01,  8.17792552e-01,\n",
       "         5.85098794e-02,  5.85098794e-02],\n",
       "       [-7.07106781e-01,  7.07106781e-01, -1.19182921e-16,\n",
       "         1.86334731e-18,  1.86334731e-18],\n",
       "       [ 0.00000000e+00, -8.93450547e-17,  7.03159151e-17,\n",
       "        -7.07106781e-01,  7.07106781e-01]])"
      ]
     },
     "execution_count": 33,
     "metadata": {},
     "output_type": "execute_result"
    }
   ],
   "source": [
    "VT"
   ]
  },
  {
   "cell_type": "code",
   "execution_count": 34,
   "metadata": {},
   "outputs": [
    {
     "data": {
      "text/plain": [
       "array([[9.72140007, 0.        ],\n",
       "       [0.        , 5.29397912]])"
      ]
     },
     "execution_count": 34,
     "metadata": {},
     "output_type": "execute_result"
    }
   ],
   "source": [
    "Sigma2 = np.diag(Sigma[:2])  # Sigma의 첫 두 요소(첫 두 특이값)만 사용하여 대각 행렬 생성\n",
    "Sigma2"
   ]
  },
  {
   "cell_type": "markdown",
   "metadata": {},
   "source": [
    "- `np.diag` : 대각 행렬을 생성하는 numpy 함수, `Sigma[:2]`의 요소들이 대각선에 위치하고, 나머지는 0으로 채워진 2X2 대각 행렬을 생성"
   ]
  },
  {
   "cell_type": "code",
   "execution_count": 35,
   "metadata": {},
   "outputs": [
    {
     "data": {
      "text/plain": [
       "array([[ 1.00497377e+00,  1.00497377e+00,  9.89899934e-01,\n",
       "        -7.22620478e-04, -7.22620478e-04],\n",
       "       [ 2.00994753e+00,  2.00994753e+00,  1.97979987e+00,\n",
       "        -1.44524096e-03, -1.44524096e-03],\n",
       "       [ 1.00497377e+00,  1.00497377e+00,  9.89899934e-01,\n",
       "        -7.22620478e-04, -7.22620478e-04],\n",
       "       [ 5.02486883e+00,  5.02486883e+00,  4.94949967e+00,\n",
       "        -3.61310239e-03, -3.61310239e-03],\n",
       "       [ 7.69884117e-01,  7.69884117e-01,  4.67288818e-01,\n",
       "         2.03343270e+00,  2.03343270e+00],\n",
       "       [ 1.41378969e-01,  1.41378969e-01, -2.87093661e-01,\n",
       "         2.97945956e+00,  2.97945956e+00],\n",
       "       [ 4.71263231e-02,  4.71263231e-02, -9.56978871e-02,\n",
       "         9.93153188e-01,  9.93153188e-01]])"
      ]
     },
     "execution_count": 35,
     "metadata": {},
     "output_type": "execute_result"
    }
   ],
   "source": [
    "# U의 첫 두 열, Sigma2, VT의 첫 두 행을 사용하여 행렬 곱셈 수행\n",
    "result = np.dot(U[:, :2], np.dot(Sigma2, VT[:2, :]))\n",
    "result"
   ]
  },
  {
   "cell_type": "markdown",
   "metadata": {},
   "source": [
    "- `U[:, :2]`: U행렬의 처음 두 열을 선택, U는 왼쪽 특이 벡터들을 열로 갖는 행렬, 입력 데이터의 행 공간을 나타냄\n",
    "- `VT[:2, :]` : VT행렬의 처음 두 행을 선택, VT는 오른쪽 특이 벡터들의 전치 행렬, 입력 데이터의 열 공간을 나타냄\n",
    "- `np.dot(Sigma2, VT[:2, :])` : Sigma2 대각 행렬과 VT의 첫 두 행을 곱함, 이 과정은 각 특이 벡터에 해당하는 특이값을 스케일링함\n",
    "- `np.dot(U[:, :2], ...)` : 위에서 계산된 결과와 U의 첫 두 열을 곱한다. 이렇게 하여 원본 데이터의 저차원 근사치를 계산"
   ]
  },
  {
   "cell_type": "markdown",
   "metadata": {},
   "source": [
    "---\n",
    "### 수업자료 PDF, food 예제"
   ]
  },
  {
   "cell_type": "code",
   "execution_count": 25,
   "metadata": {},
   "outputs": [],
   "source": [
    "food = np.array([\n",
    "        [0, 0, 0, 2, 2],\n",
    "        [0, 0, 0, 3, 3],\n",
    "        [0, 0, 0, 1, 1],\n",
    "        [1, 1, 1, 0, 0],\n",
    "        [2, 2, 2, 0, 0],\n",
    "        [5, 5, 5, 0, 0],\n",
    "        [1, 1, 1, 0, 0],\n",
    "        ])\n"
   ]
  },
  {
   "cell_type": "code",
   "execution_count": 26,
   "metadata": {},
   "outputs": [],
   "source": [
    "U, Sigma, VT = np.linalg.svd(food)"
   ]
  },
  {
   "cell_type": "code",
   "execution_count": 28,
   "metadata": {},
   "outputs": [
    {
     "data": {
      "text/plain": [
       "array([[9.64365076, 0.        ],\n",
       "       [0.        , 5.29150262]])"
      ]
     },
     "execution_count": 28,
     "metadata": {},
     "output_type": "execute_result"
    }
   ],
   "source": [
    "Sigma2 = np.diag(Sigma[:2])  # Sigma의 첫 두 요소(첫 두 특이값)만 사용하여 대각 행렬 생성\n",
    "Sigma2"
   ]
  },
  {
   "cell_type": "code",
   "execution_count": 37,
   "metadata": {},
   "outputs": [
    {
     "name": "stdout",
     "output_type": "stream",
     "text": [
      "[[-6.12299885e-16  3.06149942e-16  3.06149942e-16  2.00000000e+00\n",
      "   2.00000000e+00]\n",
      " [-9.18449827e-16  4.59224914e-16  4.59224914e-16  3.00000000e+00\n",
      "   3.00000000e+00]\n",
      " [-3.06149942e-16  1.53074971e-16  1.53074971e-16  1.00000000e+00\n",
      "   1.00000000e+00]\n",
      " [ 1.00000000e+00  1.00000000e+00  1.00000000e+00  6.95875223e-17\n",
      "   6.95875223e-17]\n",
      " [ 2.00000000e+00  2.00000000e+00  2.00000000e+00  1.39175045e-16\n",
      "   1.39175045e-16]\n",
      " [ 5.00000000e+00  5.00000000e+00  5.00000000e+00  2.47670981e-16\n",
      "   2.47670981e-16]\n",
      " [ 1.00000000e+00  1.00000000e+00  1.00000000e+00  6.95875223e-17\n",
      "   6.95875223e-17]]\n"
     ]
    }
   ],
   "source": [
    "# U의 첫 두 열, Sigma2, VT의 첫 두 행을 사용하여 행렬 곱셈 수행\n",
    "result = np.dot(U[:, :2], np.dot(Sigma2, VT[:2, :]))\n",
    "print(result)"
   ]
  }
 ],
 "metadata": {
  "kernelspec": {
   "display_name": "ai_recmd",
   "language": "python",
   "name": "python3"
  },
  "language_info": {
   "codemirror_mode": {
    "name": "ipython",
    "version": 3
   },
   "file_extension": ".py",
   "mimetype": "text/x-python",
   "name": "python",
   "nbconvert_exporter": "python",
   "pygments_lexer": "ipython3",
   "version": "3.11.9"
  }
 },
 "nbformat": 4,
 "nbformat_minor": 2
}
